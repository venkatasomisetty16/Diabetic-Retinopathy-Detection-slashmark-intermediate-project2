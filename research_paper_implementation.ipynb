{
 "cells": [
  {
   "cell_type": "markdown",
   "metadata": {
    "colab_type": "text",
    "id": "WcarqQUXNrGB"
   },
   "source": [
    "#  <font color='red'>Table of Contents</font>\n"
   ]
  },
  {
   "cell_type": "markdown",
   "metadata": {
    "colab_type": "text",
    "id": "xK3qVL4pNt19"
   },
   "source": [
    "[15. Multi Task Learning](#section15)<br>\n"
   ]
  },
  {
   "cell_type": "code",
   "execution_count": 1,
   "metadata": {
    "colab": {
     "base_uri": "https://localhost:8080/",
     "height": 104
    },
    "colab_type": "code",
    "id": "s0-OQReUNxm9",
    "outputId": "4c3d5b56-ff6e-4519-d172-c382e6a5edce"
   },
   "outputs": [
    {
     "name": "stdout",
     "output_type": "stream",
     "text": [
      "2  CPU cores\n"
     ]
    },
    {
     "name": "stderr",
     "output_type": "stream",
     "text": [
      "/usr/local/lib/python3.6/dist-packages/statsmodels/tools/_testing.py:19: FutureWarning: pandas.util.testing is deprecated. Use the functions in the public API at pandas.testing instead.\n",
      "  import pandas.util.testing as tm\n",
      "Using TensorFlow backend.\n"
     ]
    }
   ],
   "source": [
    "# Research Kernel Link - https://arxiv.org/pdf/2003.02261.pdf\n",
    "\n",
    "import pandas as pd\n",
    "import numpy as np\n",
    "import itertools\n",
    "import os\n",
    "import sys\n",
    "from prettytable import PrettyTable\n",
    "import pickle\n",
    "import multiprocessing\n",
    "from multiprocessing.pool import ThreadPool\n",
    "from tqdm import tqdm_notebook\n",
    "print(multiprocessing.cpu_count(),\" CPU cores\")\n",
    "\n",
    "import seaborn as sns\n",
    "%matplotlib inline\n",
    "import matplotlib.pyplot as plt\n",
    "plt.rcParams[\"axes.grid\"] = False\n",
    "\n",
    "from sklearn.metrics import confusion_matrix, cohen_kappa_score,accuracy_score\n",
    "from sklearn.preprocessing import MultiLabelBinarizer\n",
    "\n",
    "from PIL import Image\n",
    "import cv2\n",
    "\n",
    "import keras\n",
    "from keras import applications\n",
    "from keras.preprocessing.image import ImageDataGenerator\n",
    "from keras import optimizers,Model,Sequential\n",
    "from keras.layers import Input,GlobalAveragePooling2D,Dropout,Dense,Activation,BatchNormalization,GlobalMaxPooling2D,concatenate,Flatten\n",
    "from keras.callbacks.callbacks import EarlyStopping,ReduceLROnPlateau,Callback\n",
    "from keras.initializers import random_normal\n",
    "from keras.models import load_model\n",
    "from keras.losses import binary_crossentropy,categorical_crossentropy,mean_squared_error\n",
    "from keras import backend as K\n",
    "\n",
    "import tensorflow as tf\n",
    "#import shap\n",
    "\n",
    "# Colab Libs...\n",
    "from pydrive.auth import GoogleAuth\n",
    "from pydrive.drive import GoogleDrive\n",
    "from google.colab import auth\n",
    "from oauth2client.client import GoogleCredentials"
   ]
  },
  {
   "cell_type": "markdown",
   "metadata": {
    "colab_type": "text",
    "id": "gsWsEmxVNzmI"
   },
   "source": [
    "#  <a id = 'section15'> <font color='red'>  15. Multi task learning  </font> </a>"
   ]
  },
  {
   "cell_type": "markdown",
   "metadata": {
    "colab_type": "text",
    "id": "3ghH0prCN6_F"
   },
   "source": [
    "### <font color='red'> 15.1 Setup Colab Environment </font>\n"
   ]
  },
  {
   "cell_type": "code",
   "execution_count": 0,
   "metadata": {
    "colab": {},
    "colab_type": "code",
    "id": "YSpwm4uBCwe3"
   },
   "outputs": [],
   "source": [
    "'''\n",
    "The codes below uses Authentication URL to allow loading of Files and Images from Google Drive to Colab Memory\n",
    "'''"
   ]
  },
  {
   "cell_type": "code",
   "execution_count": 0,
   "metadata": {
    "colab": {},
    "colab_type": "code",
    "id": "DaZG-E-IOE7F"
   },
   "outputs": [],
   "source": [
    "# Importing Libraries\n",
    "#ref - https://buomsoo-kim.github.io/colab/2018/04/16/Importing-files-from-Google-Drive-in-Google-Colab.md/\n",
    "\n",
    "auth.authenticate_user()\n",
    "gauth = GoogleAuth()\n",
    "gauth.credentials = GoogleCredentials.get_application_default()\n",
    "drive = GoogleDrive(gauth)"
   ]
  },
  {
   "cell_type": "code",
   "execution_count": 3,
   "metadata": {
    "colab": {
     "base_uri": "https://localhost:8080/",
     "height": 121
    },
    "colab_type": "code",
    "id": "EbafLLivOG06",
    "outputId": "8dfee3c5-b3cb-4cbf-c86c-ba12c6d25e08"
   },
   "outputs": [
    {
     "name": "stdout",
     "output_type": "stream",
     "text": [
      "Go to this URL in a browser: https://accounts.google.com/o/oauth2/auth?client_id=947318989803-6bn6qk8qdgf4n4g3pfee6491hc0brc4i.apps.googleusercontent.com&redirect_uri=urn%3aietf%3awg%3aoauth%3a2.0%3aoob&response_type=code&scope=email%20https%3a%2f%2fwww.googleapis.com%2fauth%2fdocs.test%20https%3a%2f%2fwww.googleapis.com%2fauth%2fdrive%20https%3a%2f%2fwww.googleapis.com%2fauth%2fdrive.photos.readonly%20https%3a%2f%2fwww.googleapis.com%2fauth%2fpeopleapi.readonly\n",
      "\n",
      "Enter your authorization code:\n",
      "··········\n",
      "Mounted at /content/gdrive\n"
     ]
    }
   ],
   "source": [
    "from google.colab import drive\n",
    "drive.mount('/content/gdrive',force_remount = True)"
   ]
  },
  {
   "cell_type": "code",
   "execution_count": 4,
   "metadata": {
    "colab": {
     "base_uri": "https://localhost:8080/",
     "height": 34
    },
    "colab_type": "code",
    "id": "hmdV3sZDOOsH",
    "outputId": "c12a203d-60de-4702-b612-9bfa5a3c2703"
   },
   "outputs": [
    {
     "name": "stdout",
     "output_type": "stream",
     "text": [
      "We are currently in the folder of  /content/gdrive/My Drive/aptos2019\n"
     ]
    }
   ],
   "source": [
    "import os\n",
    "os.chdir('/content/gdrive/My Drive/aptos2019')\n",
    "print(\"We are currently in the folder of \",os.getcwd())"
   ]
  },
  {
   "cell_type": "markdown",
   "metadata": {
    "colab_type": "text",
    "id": "iqbNUH2r6dTa"
   },
   "source": [
    "### <font color='red'> 15.2 Load data and preprocess</font>\n"
   ]
  },
  {
   "cell_type": "code",
   "execution_count": 0,
   "metadata": {
    "colab": {},
    "colab_type": "code",
    "id": "kG55l44tCzV1"
   },
   "outputs": [],
   "source": [
    "'''\n",
    "Loading Train and Validation Data from Previously split Train/Test data\n",
    "'''"
   ]
  },
  {
   "cell_type": "code",
   "execution_count": 0,
   "metadata": {
    "colab": {},
    "colab_type": "code",
    "id": "a1y2H02GOQXu"
   },
   "outputs": [],
   "source": [
    "def load_data():\n",
    "    file = open('df_train_train', 'rb')\n",
    "    df_train_train = pickle.load(file)\n",
    "    file.close()\n",
    "\n",
    "    file = open('df_train_test', 'rb')\n",
    "    df_train_test = pickle.load(file)\n",
    "    file.close()\n",
    "    \n",
    "    return df_train_train,df_train_test"
   ]
  },
  {
   "cell_type": "code",
   "execution_count": 6,
   "metadata": {
    "colab": {
     "base_uri": "https://localhost:8080/",
     "height": 258
    },
    "colab_type": "code",
    "id": "AsdpEXif7Cto",
    "outputId": "69a0a7fe-a4e9-4a8a-efca-8379bb79acc3"
   },
   "outputs": [
    {
     "name": "stdout",
     "output_type": "stream",
     "text": [
      "(2929, 4) (733, 4) \n",
      "\n"
     ]
    },
    {
     "data": {
      "text/html": [
       "<div>\n",
       "<style scoped>\n",
       "    .dataframe tbody tr th:only-of-type {\n",
       "        vertical-align: middle;\n",
       "    }\n",
       "\n",
       "    .dataframe tbody tr th {\n",
       "        vertical-align: top;\n",
       "    }\n",
       "\n",
       "    .dataframe thead th {\n",
       "        text-align: right;\n",
       "    }\n",
       "</style>\n",
       "<table border=\"1\" class=\"dataframe\">\n",
       "  <thead>\n",
       "    <tr style=\"text-align: right;\">\n",
       "      <th></th>\n",
       "      <th>id_code</th>\n",
       "      <th>diagnosis</th>\n",
       "      <th>file_path</th>\n",
       "      <th>file_name</th>\n",
       "    </tr>\n",
       "  </thead>\n",
       "  <tbody>\n",
       "    <tr>\n",
       "      <th>3396</th>\n",
       "      <td>eb6b1f1c09db</td>\n",
       "      <td>0</td>\n",
       "      <td>./train_images/eb6b1f1c09db.png</td>\n",
       "      <td>eb6b1f1c09db.png</td>\n",
       "    </tr>\n",
       "    <tr>\n",
       "      <th>100</th>\n",
       "      <td>07a3be30563b</td>\n",
       "      <td>2</td>\n",
       "      <td>./train_images/07a3be30563b.png</td>\n",
       "      <td>07a3be30563b.png</td>\n",
       "    </tr>\n",
       "    <tr>\n",
       "      <th>3204</th>\n",
       "      <td>df3adfd6ba36</td>\n",
       "      <td>2</td>\n",
       "      <td>./train_images/df3adfd6ba36.png</td>\n",
       "      <td>df3adfd6ba36.png</td>\n",
       "    </tr>\n",
       "    <tr>\n",
       "      <th>3324</th>\n",
       "      <td>e68bdd36e589</td>\n",
       "      <td>0</td>\n",
       "      <td>./train_images/e68bdd36e589.png</td>\n",
       "      <td>e68bdd36e589.png</td>\n",
       "    </tr>\n",
       "    <tr>\n",
       "      <th>1911</th>\n",
       "      <td>86e7f98f73f1</td>\n",
       "      <td>2</td>\n",
       "      <td>./train_images/86e7f98f73f1.png</td>\n",
       "      <td>86e7f98f73f1.png</td>\n",
       "    </tr>\n",
       "    <tr>\n",
       "      <th>396</th>\n",
       "      <td>1caba2fb38f6</td>\n",
       "      <td>0</td>\n",
       "      <td>./train_images/1caba2fb38f6.png</td>\n",
       "      <td>1caba2fb38f6.png</td>\n",
       "    </tr>\n",
       "  </tbody>\n",
       "</table>\n",
       "</div>"
      ],
      "text/plain": [
       "           id_code diagnosis                        file_path         file_name\n",
       "3396  eb6b1f1c09db         0  ./train_images/eb6b1f1c09db.png  eb6b1f1c09db.png\n",
       "100   07a3be30563b         2  ./train_images/07a3be30563b.png  07a3be30563b.png\n",
       "3204  df3adfd6ba36         2  ./train_images/df3adfd6ba36.png  df3adfd6ba36.png\n",
       "3324  e68bdd36e589         0  ./train_images/e68bdd36e589.png  e68bdd36e589.png\n",
       "1911  86e7f98f73f1         2  ./train_images/86e7f98f73f1.png  86e7f98f73f1.png\n",
       "396   1caba2fb38f6         0  ./train_images/1caba2fb38f6.png  1caba2fb38f6.png"
      ]
     },
     "execution_count": 6,
     "metadata": {
      "tags": []
     },
     "output_type": "execute_result"
    }
   ],
   "source": [
    "df_train_train,df_train_test = load_data()\n",
    "print(df_train_train.shape,df_train_test.shape,'\\n')\n",
    "df_train_train.head(6)"
   ]
  },
  {
   "cell_type": "code",
   "execution_count": 7,
   "metadata": {
    "colab": {
     "base_uri": "https://localhost:8080/",
     "height": 34
    },
    "colab_type": "code",
    "id": "cwTSL-XLIYPv",
    "outputId": "2bbf64d0-8382-4ddd-9b8d-8c729e2cc2b0"
   },
   "outputs": [
    {
     "name": "stdout",
     "output_type": "stream",
     "text": [
      "2930 733\n"
     ]
    }
   ],
   "source": [
    "print(len(os.listdir(\"./train_images_resized_preprocessed/\")),len(os.listdir(\"./test_images_resized_preprocessed/\")))"
   ]
  },
  {
   "cell_type": "code",
   "execution_count": 0,
   "metadata": {
    "colab": {},
    "colab_type": "code",
    "id": "L_-O--AhOXXD"
   },
   "outputs": [],
   "source": [
    "def crop_image_from_gray(img,tol=7):\n",
    "    if img.ndim ==2:\n",
    "        mask = img>tol\n",
    "        return img[np.ix_(mask.any(1),mask.any(0))]\n",
    "    elif img.ndim==3:\n",
    "        gray_img = cv2.cvtColor(img, cv2.COLOR_RGB2GRAY)\n",
    "        mask = gray_img>tol\n",
    "        \n",
    "        check_shape = img[:,:,0][np.ix_(mask.any(1),mask.any(0))].shape[0]\n",
    "        if (check_shape == 0): # image is too dark so that we crop out everything,\n",
    "            return img # return original image\n",
    "        else:\n",
    "            img1=img[:,:,0][np.ix_(mask.any(1),mask.any(0))]\n",
    "            img2=img[:,:,1][np.ix_(mask.any(1),mask.any(0))]\n",
    "            img3=img[:,:,2][np.ix_(mask.any(1),mask.any(0))]\n",
    "    #         print(img1.shape,img2.shape,img3.shape)\n",
    "            img = np.stack([img1,img2,img3],axis=-1)\n",
    "    #         print(img.shape)\n",
    "        return img\n",
    "\n",
    "def circle_crop(img, sigmaX = 30):   \n",
    "    \"\"\"\n",
    "    Create circular crop around image centre    \n",
    "    \"\"\"    \n",
    "    img = crop_image_from_gray(img)    \n",
    "    img = cv2.cvtColor(img, cv2.COLOR_BGR2RGB)\n",
    "    \n",
    "    height, width, depth = img.shape    \n",
    "    \n",
    "    x = int(width/2)\n",
    "    y = int(height/2)\n",
    "    r = np.amin((x,y))\n",
    "    \n",
    "    circle_img = np.zeros((height, width), np.uint8)\n",
    "    cv2.circle(circle_img, (x,y), int(r), 1, thickness=-1)\n",
    "    img = cv2.bitwise_and(img, img, mask=circle_img)\n",
    "    img = crop_image_from_gray(img)\n",
    "    img=cv2.addWeighted(img,4, cv2.GaussianBlur( img , (0,0) , sigmaX) ,-4 ,128)\n",
    "    return img \n",
    "\n",
    "def preprocess_image(file):\n",
    "    input_filepath = os.path.join('./','train_images_resized','{}.png'.format(file))\n",
    "    output_filepath = os.path.join('./','train_images_resized_preprocessed','{}.png'.format(file))\n",
    "    \n",
    "    img = cv2.imread(input_filepath)\n",
    "    img = circle_crop(img) \n",
    "    cv2.imwrite(output_filepath, cv2.resize(img, (IMG_SIZE,IMG_SIZE)))"
   ]
  },
  {
   "cell_type": "code",
   "execution_count": 0,
   "metadata": {
    "colab": {},
    "colab_type": "code",
    "id": "xviDidlMLQtM"
   },
   "outputs": [],
   "source": [
    "'''\n",
    "Defining Global Variables to be used in this notebook\n",
    "'''\n",
    "FACTOR = 4\n",
    "BATCH_SIZE = 8 * FACTOR\n",
    "IMG_SIZE = 512\n",
    "EPOCHS = 20\n",
    "WARMUP_EPOCHS = 5\n",
    "LEARNING_RATE = 1e-4 * FACTOR\n",
    "WARMUP_LEARNING_RATE = 1e-3 * FACTOR\n",
    "HEIGHT = 320\n",
    "WIDTH = 320\n",
    "CANAL = 3\n",
    "N_CLASSES = df_train_train['diagnosis'].nunique()\n",
    "ES_PATIENCE = 5\n",
    "RLROP_PATIENCE = 3\n",
    "DECAY_DROP = 0.5\n",
    "\n",
    "LR_WARMUP_EPOCHS_1st = 2\n",
    "LR_WARMUP_EPOCHS_2nd = 5\n",
    "STEP_SIZE = len(df_train_train) // BATCH_SIZE\n",
    "TOTAL_STEPS_1st = WARMUP_EPOCHS * STEP_SIZE\n",
    "TOTAL_STEPS_2nd = EPOCHS * STEP_SIZE\n",
    "WARMUP_STEPS_1st = LR_WARMUP_EPOCHS_1st * STEP_SIZE\n",
    "WARMUP_STEPS_2nd = LR_WARMUP_EPOCHS_2nd * STEP_SIZE"
   ]
  },
  {
   "cell_type": "markdown",
   "metadata": {
    "colab_type": "text",
    "id": "YQQrFrG8CrSS"
   },
   "source": [
    "### <font color='red'> 15.3 Custom Image Data generator</font>\n"
   ]
  },
  {
   "cell_type": "code",
   "execution_count": 0,
   "metadata": {
    "colab": {},
    "colab_type": "code",
    "id": "tnKuoUQUC5Pc"
   },
   "outputs": [],
   "source": [
    "'''\n",
    "This Function creates a custom Image Data generator, \n",
    "Since this is a Multi Output Model, a custom Image data generator is used (which yeild's outputs to next iterator)\n",
    "'''"
   ]
  },
  {
   "cell_type": "code",
   "execution_count": 0,
   "metadata": {
    "colab": {},
    "colab_type": "code",
    "id": "-tlnoyOdJ0MM"
   },
   "outputs": [],
   "source": [
    "# custom generator ref - https://classifai.net/blog/multiple-outputs-keras/\n",
    "# ref - https://stackoverflow.com/questions/54143458/convert-categorical-data-back-to-numbers-using-keras-utils-to-categorical\n",
    "\n",
    "def multiple_outputs(generator,dataframe, image_dir, batch_size, height,width, subset):\n",
    "    gen = generator.flow_from_dataframe(\n",
    "        dataframe = dataframe,\n",
    "        x_col = \"file_name\",\n",
    "        y_col = \"diagnosis\",\n",
    "        directory = image_dir,\n",
    "        target_size=(height, width),\n",
    "        batch_size=batch_size,\n",
    "        class_mode='categorical',\n",
    "        subset=subset)\n",
    "    \n",
    "    mlb = MultiLabelBinarizer(classes = range(N_CLASSES))\n",
    "    \n",
    "    while True:\n",
    "        gnext = gen.next()\n",
    "        yield gnext[0], [np.argmax(gnext[1],axis = -1),gnext[1],mlb.fit_transform([list(range(x+1)) for x in np.argmax(gnext[1],axis = -1)])]"
   ]
  },
  {
   "cell_type": "code",
   "execution_count": 11,
   "metadata": {
    "colab": {
     "base_uri": "https://localhost:8080/",
     "height": 70
    },
    "colab_type": "code",
    "id": "n8YzFFqHK15Q",
    "outputId": "3093a6cb-2614-48c7-8830-07bde108edb3"
   },
   "outputs": [
    {
     "name": "stderr",
     "output_type": "stream",
     "text": [
      "/usr/local/lib/python3.6/dist-packages/keras_preprocessing/image/image_data_generator.py:337: UserWarning: This ImageDataGenerator specifies `zca_whitening`, which overrides setting of `featurewise_center`.\n",
      "  warnings.warn('This ImageDataGenerator specifies '\n"
     ]
    }
   ],
   "source": [
    "train_datagen=ImageDataGenerator(rescale=1./255, rotation_range=360,brightness_range=[0.5, 1.5],\n",
    "                                     zoom_range=[1, 1.2],zca_whitening=True,horizontal_flip=True,\n",
    "                                     vertical_flip=True,fill_mode='constant',cval=0.,validation_split = 0.0)\n",
    "\n",
    "train_generator = multiple_outputs(generator = train_datagen,dataframe = df_train_train,\n",
    "                                   image_dir=\"./train_images_resized_preprocessed/\",\n",
    "                                   batch_size=BATCH_SIZE,height = HEIGHT,width = WIDTH,\n",
    "                                   subset='training')\n",
    "     \n",
    "valid_generator = multiple_outputs(generator = train_datagen,dataframe = df_train_test,\n",
    "                                   image_dir=\"./test_images_resized_preprocessed/\",\n",
    "                                   batch_size=BATCH_SIZE,height = HEIGHT,width = WIDTH,\n",
    "                                   subset='validation')"
   ]
  },
  {
   "cell_type": "markdown",
   "metadata": {
    "colab_type": "text",
    "id": "VCFNVYNoOdhB"
   },
   "source": [
    "### <font color='red'> 15.4 Stage 1 (Pre Training) using ResNet50</font>\n"
   ]
  },
  {
   "cell_type": "code",
   "execution_count": 0,
   "metadata": {
    "colab": {
     "base_uri": "https://localhost:8080/",
     "height": 50
    },
    "colab_type": "code",
    "id": "Mwx2DeXP8MCO",
    "outputId": "d3bc4b98-0bad-440b-e75f-e0e265ae08c8"
   },
   "outputs": [
    {
     "name": "stderr",
     "output_type": "stream",
     "text": [
      "/usr/local/lib/python3.6/dist-packages/keras_applications/resnet50.py:265: UserWarning: The output shape of `ResNet50(include_top=False)` has been changed since Keras 2.2.0.\n",
      "  warnings.warn('The output shape of `ResNet50(include_top=False)` '\n"
     ]
    }
   ],
   "source": [
    "'''Implementing this Stage 1 as mentioned in the Research paper'''\n",
    "\n",
    "input_tensor = Input(shape=(HEIGHT, WIDTH, CANAL))\n",
    "base_model = applications.ResNet50(weights=None, include_top=False,input_tensor=input_tensor)\n",
    "base_model.load_weights('resnet50_weights_tf_dim_ordering_tf_kernels_notop.h5')\n",
    "\n",
    "x1 = GlobalAveragePooling2D()(base_model.output)\n",
    "x1 = BatchNormalization()(x1)\n",
    "\n",
    "x2 = GlobalMaxPooling2D()(base_model.output)\n",
    "x2 = BatchNormalization()(x2)\n",
    "\n",
    "x = concatenate([x1,x2])\n",
    "\n",
    "# Regression Head\n",
    "xr = Dense(2048, activation='relu')(x)\n",
    "xr = Dropout(0.5)(xr)\n",
    "xr = Dense(1,activation = 'linear',name = 'regression_output')(xr)\n",
    "\n",
    "# Classification Head\n",
    "xc = Dense(2048, activation='relu')(x)\n",
    "xc = Dropout(0.5)(xc)\n",
    "xc = Dense(N_CLASSES,activation = 'softmax',name = 'classification_output')(xc)\n",
    "\n",
    "# Ordinal Regression Head\n",
    "xo = Dense(2048, activation='relu')(x)\n",
    "xo = Dropout(0.5)(xo)\n",
    "xo = Dense(N_CLASSES,activation = 'softmax',name = 'ordinal_regression_output')(xo)\n",
    "\n",
    "model = Model(inputs = [input_tensor], outputs = [xr,xc,xo])"
   ]
  },
  {
   "cell_type": "code",
   "execution_count": 0,
   "metadata": {
    "colab": {
     "base_uri": "https://localhost:8080/",
     "height": 1000
    },
    "colab_type": "code",
    "id": "DehalZUM9Sf1",
    "outputId": "57eefeda-a4ef-415b-8bbb-ea14027c9f67"
   },
   "outputs": [
    {
     "name": "stdout",
     "output_type": "stream",
     "text": [
      "Model: \"model_3\"\n",
      "__________________________________________________________________________________________________\n",
      "Layer (type)                    Output Shape         Param #     Connected to                     \n",
      "==================================================================================================\n",
      "input_3 (InputLayer)            (None, 320, 320, 3)  0                                            \n",
      "__________________________________________________________________________________________________\n",
      "conv1_pad (ZeroPadding2D)       (None, 326, 326, 3)  0           input_3[0][0]                    \n",
      "__________________________________________________________________________________________________\n",
      "conv1 (Conv2D)                  (None, 160, 160, 64) 9472        conv1_pad[0][0]                  \n",
      "__________________________________________________________________________________________________\n",
      "bn_conv1 (BatchNormalization)   (None, 160, 160, 64) 256         conv1[0][0]                      \n",
      "__________________________________________________________________________________________________\n",
      "activation_99 (Activation)      (None, 160, 160, 64) 0           bn_conv1[0][0]                   \n",
      "__________________________________________________________________________________________________\n",
      "pool1_pad (ZeroPadding2D)       (None, 162, 162, 64) 0           activation_99[0][0]              \n",
      "__________________________________________________________________________________________________\n",
      "max_pooling2d_3 (MaxPooling2D)  (None, 80, 80, 64)   0           pool1_pad[0][0]                  \n",
      "__________________________________________________________________________________________________\n",
      "res2a_branch2a (Conv2D)         (None, 80, 80, 64)   4160        max_pooling2d_3[0][0]            \n",
      "__________________________________________________________________________________________________\n",
      "bn2a_branch2a (BatchNormalizati (None, 80, 80, 64)   256         res2a_branch2a[0][0]             \n",
      "__________________________________________________________________________________________________\n",
      "activation_100 (Activation)     (None, 80, 80, 64)   0           bn2a_branch2a[0][0]              \n",
      "__________________________________________________________________________________________________\n",
      "res2a_branch2b (Conv2D)         (None, 80, 80, 64)   36928       activation_100[0][0]             \n",
      "__________________________________________________________________________________________________\n",
      "bn2a_branch2b (BatchNormalizati (None, 80, 80, 64)   256         res2a_branch2b[0][0]             \n",
      "__________________________________________________________________________________________________\n",
      "activation_101 (Activation)     (None, 80, 80, 64)   0           bn2a_branch2b[0][0]              \n",
      "__________________________________________________________________________________________________\n",
      "res2a_branch2c (Conv2D)         (None, 80, 80, 256)  16640       activation_101[0][0]             \n",
      "__________________________________________________________________________________________________\n",
      "res2a_branch1 (Conv2D)          (None, 80, 80, 256)  16640       max_pooling2d_3[0][0]            \n",
      "__________________________________________________________________________________________________\n",
      "bn2a_branch2c (BatchNormalizati (None, 80, 80, 256)  1024        res2a_branch2c[0][0]             \n",
      "__________________________________________________________________________________________________\n",
      "bn2a_branch1 (BatchNormalizatio (None, 80, 80, 256)  1024        res2a_branch1[0][0]              \n",
      "__________________________________________________________________________________________________\n",
      "add_33 (Add)                    (None, 80, 80, 256)  0           bn2a_branch2c[0][0]              \n",
      "                                                                 bn2a_branch1[0][0]               \n",
      "__________________________________________________________________________________________________\n",
      "activation_102 (Activation)     (None, 80, 80, 256)  0           add_33[0][0]                     \n",
      "__________________________________________________________________________________________________\n",
      "res2b_branch2a (Conv2D)         (None, 80, 80, 64)   16448       activation_102[0][0]             \n",
      "__________________________________________________________________________________________________\n",
      "bn2b_branch2a (BatchNormalizati (None, 80, 80, 64)   256         res2b_branch2a[0][0]             \n",
      "__________________________________________________________________________________________________\n",
      "activation_103 (Activation)     (None, 80, 80, 64)   0           bn2b_branch2a[0][0]              \n",
      "__________________________________________________________________________________________________\n",
      "res2b_branch2b (Conv2D)         (None, 80, 80, 64)   36928       activation_103[0][0]             \n",
      "__________________________________________________________________________________________________\n",
      "bn2b_branch2b (BatchNormalizati (None, 80, 80, 64)   256         res2b_branch2b[0][0]             \n",
      "__________________________________________________________________________________________________\n",
      "activation_104 (Activation)     (None, 80, 80, 64)   0           bn2b_branch2b[0][0]              \n",
      "__________________________________________________________________________________________________\n",
      "res2b_branch2c (Conv2D)         (None, 80, 80, 256)  16640       activation_104[0][0]             \n",
      "__________________________________________________________________________________________________\n",
      "bn2b_branch2c (BatchNormalizati (None, 80, 80, 256)  1024        res2b_branch2c[0][0]             \n",
      "__________________________________________________________________________________________________\n",
      "add_34 (Add)                    (None, 80, 80, 256)  0           bn2b_branch2c[0][0]              \n",
      "                                                                 activation_102[0][0]             \n",
      "__________________________________________________________________________________________________\n",
      "activation_105 (Activation)     (None, 80, 80, 256)  0           add_34[0][0]                     \n",
      "__________________________________________________________________________________________________\n",
      "res2c_branch2a (Conv2D)         (None, 80, 80, 64)   16448       activation_105[0][0]             \n",
      "__________________________________________________________________________________________________\n",
      "bn2c_branch2a (BatchNormalizati (None, 80, 80, 64)   256         res2c_branch2a[0][0]             \n",
      "__________________________________________________________________________________________________\n",
      "activation_106 (Activation)     (None, 80, 80, 64)   0           bn2c_branch2a[0][0]              \n",
      "__________________________________________________________________________________________________\n",
      "res2c_branch2b (Conv2D)         (None, 80, 80, 64)   36928       activation_106[0][0]             \n",
      "__________________________________________________________________________________________________\n",
      "bn2c_branch2b (BatchNormalizati (None, 80, 80, 64)   256         res2c_branch2b[0][0]             \n",
      "__________________________________________________________________________________________________\n",
      "activation_107 (Activation)     (None, 80, 80, 64)   0           bn2c_branch2b[0][0]              \n",
      "__________________________________________________________________________________________________\n",
      "res2c_branch2c (Conv2D)         (None, 80, 80, 256)  16640       activation_107[0][0]             \n",
      "__________________________________________________________________________________________________\n",
      "bn2c_branch2c (BatchNormalizati (None, 80, 80, 256)  1024        res2c_branch2c[0][0]             \n",
      "__________________________________________________________________________________________________\n",
      "add_35 (Add)                    (None, 80, 80, 256)  0           bn2c_branch2c[0][0]              \n",
      "                                                                 activation_105[0][0]             \n",
      "__________________________________________________________________________________________________\n",
      "activation_108 (Activation)     (None, 80, 80, 256)  0           add_35[0][0]                     \n",
      "__________________________________________________________________________________________________\n",
      "res3a_branch2a (Conv2D)         (None, 40, 40, 128)  32896       activation_108[0][0]             \n",
      "__________________________________________________________________________________________________\n",
      "bn3a_branch2a (BatchNormalizati (None, 40, 40, 128)  512         res3a_branch2a[0][0]             \n",
      "__________________________________________________________________________________________________\n",
      "activation_109 (Activation)     (None, 40, 40, 128)  0           bn3a_branch2a[0][0]              \n",
      "__________________________________________________________________________________________________\n",
      "res3a_branch2b (Conv2D)         (None, 40, 40, 128)  147584      activation_109[0][0]             \n",
      "__________________________________________________________________________________________________\n",
      "bn3a_branch2b (BatchNormalizati (None, 40, 40, 128)  512         res3a_branch2b[0][0]             \n",
      "__________________________________________________________________________________________________\n",
      "activation_110 (Activation)     (None, 40, 40, 128)  0           bn3a_branch2b[0][0]              \n",
      "__________________________________________________________________________________________________\n",
      "res3a_branch2c (Conv2D)         (None, 40, 40, 512)  66048       activation_110[0][0]             \n",
      "__________________________________________________________________________________________________\n",
      "res3a_branch1 (Conv2D)          (None, 40, 40, 512)  131584      activation_108[0][0]             \n",
      "__________________________________________________________________________________________________\n",
      "bn3a_branch2c (BatchNormalizati (None, 40, 40, 512)  2048        res3a_branch2c[0][0]             \n",
      "__________________________________________________________________________________________________\n",
      "bn3a_branch1 (BatchNormalizatio (None, 40, 40, 512)  2048        res3a_branch1[0][0]              \n",
      "__________________________________________________________________________________________________\n",
      "add_36 (Add)                    (None, 40, 40, 512)  0           bn3a_branch2c[0][0]              \n",
      "                                                                 bn3a_branch1[0][0]               \n",
      "__________________________________________________________________________________________________\n",
      "activation_111 (Activation)     (None, 40, 40, 512)  0           add_36[0][0]                     \n",
      "__________________________________________________________________________________________________\n",
      "res3b_branch2a (Conv2D)         (None, 40, 40, 128)  65664       activation_111[0][0]             \n",
      "__________________________________________________________________________________________________\n",
      "bn3b_branch2a (BatchNormalizati (None, 40, 40, 128)  512         res3b_branch2a[0][0]             \n",
      "__________________________________________________________________________________________________\n",
      "activation_112 (Activation)     (None, 40, 40, 128)  0           bn3b_branch2a[0][0]              \n",
      "__________________________________________________________________________________________________\n",
      "res3b_branch2b (Conv2D)         (None, 40, 40, 128)  147584      activation_112[0][0]             \n",
      "__________________________________________________________________________________________________\n",
      "bn3b_branch2b (BatchNormalizati (None, 40, 40, 128)  512         res3b_branch2b[0][0]             \n",
      "__________________________________________________________________________________________________\n",
      "activation_113 (Activation)     (None, 40, 40, 128)  0           bn3b_branch2b[0][0]              \n",
      "__________________________________________________________________________________________________\n",
      "res3b_branch2c (Conv2D)         (None, 40, 40, 512)  66048       activation_113[0][0]             \n",
      "__________________________________________________________________________________________________\n",
      "bn3b_branch2c (BatchNormalizati (None, 40, 40, 512)  2048        res3b_branch2c[0][0]             \n",
      "__________________________________________________________________________________________________\n",
      "add_37 (Add)                    (None, 40, 40, 512)  0           bn3b_branch2c[0][0]              \n",
      "                                                                 activation_111[0][0]             \n",
      "__________________________________________________________________________________________________\n",
      "activation_114 (Activation)     (None, 40, 40, 512)  0           add_37[0][0]                     \n",
      "__________________________________________________________________________________________________\n",
      "res3c_branch2a (Conv2D)         (None, 40, 40, 128)  65664       activation_114[0][0]             \n",
      "__________________________________________________________________________________________________\n",
      "bn3c_branch2a (BatchNormalizati (None, 40, 40, 128)  512         res3c_branch2a[0][0]             \n",
      "__________________________________________________________________________________________________\n",
      "activation_115 (Activation)     (None, 40, 40, 128)  0           bn3c_branch2a[0][0]              \n",
      "__________________________________________________________________________________________________\n",
      "res3c_branch2b (Conv2D)         (None, 40, 40, 128)  147584      activation_115[0][0]             \n",
      "__________________________________________________________________________________________________\n",
      "bn3c_branch2b (BatchNormalizati (None, 40, 40, 128)  512         res3c_branch2b[0][0]             \n",
      "__________________________________________________________________________________________________\n",
      "activation_116 (Activation)     (None, 40, 40, 128)  0           bn3c_branch2b[0][0]              \n",
      "__________________________________________________________________________________________________\n",
      "res3c_branch2c (Conv2D)         (None, 40, 40, 512)  66048       activation_116[0][0]             \n",
      "__________________________________________________________________________________________________\n",
      "bn3c_branch2c (BatchNormalizati (None, 40, 40, 512)  2048        res3c_branch2c[0][0]             \n",
      "__________________________________________________________________________________________________\n",
      "add_38 (Add)                    (None, 40, 40, 512)  0           bn3c_branch2c[0][0]              \n",
      "                                                                 activation_114[0][0]             \n",
      "__________________________________________________________________________________________________\n",
      "activation_117 (Activation)     (None, 40, 40, 512)  0           add_38[0][0]                     \n",
      "__________________________________________________________________________________________________\n",
      "res3d_branch2a (Conv2D)         (None, 40, 40, 128)  65664       activation_117[0][0]             \n",
      "__________________________________________________________________________________________________\n",
      "bn3d_branch2a (BatchNormalizati (None, 40, 40, 128)  512         res3d_branch2a[0][0]             \n",
      "__________________________________________________________________________________________________\n",
      "activation_118 (Activation)     (None, 40, 40, 128)  0           bn3d_branch2a[0][0]              \n",
      "__________________________________________________________________________________________________\n",
      "res3d_branch2b (Conv2D)         (None, 40, 40, 128)  147584      activation_118[0][0]             \n",
      "__________________________________________________________________________________________________\n",
      "bn3d_branch2b (BatchNormalizati (None, 40, 40, 128)  512         res3d_branch2b[0][0]             \n",
      "__________________________________________________________________________________________________\n",
      "activation_119 (Activation)     (None, 40, 40, 128)  0           bn3d_branch2b[0][0]              \n",
      "__________________________________________________________________________________________________\n",
      "res3d_branch2c (Conv2D)         (None, 40, 40, 512)  66048       activation_119[0][0]             \n",
      "__________________________________________________________________________________________________\n",
      "bn3d_branch2c (BatchNormalizati (None, 40, 40, 512)  2048        res3d_branch2c[0][0]             \n",
      "__________________________________________________________________________________________________\n",
      "add_39 (Add)                    (None, 40, 40, 512)  0           bn3d_branch2c[0][0]              \n",
      "                                                                 activation_117[0][0]             \n",
      "__________________________________________________________________________________________________\n",
      "activation_120 (Activation)     (None, 40, 40, 512)  0           add_39[0][0]                     \n",
      "__________________________________________________________________________________________________\n",
      "res4a_branch2a (Conv2D)         (None, 20, 20, 256)  131328      activation_120[0][0]             \n",
      "__________________________________________________________________________________________________\n",
      "bn4a_branch2a (BatchNormalizati (None, 20, 20, 256)  1024        res4a_branch2a[0][0]             \n",
      "__________________________________________________________________________________________________\n",
      "activation_121 (Activation)     (None, 20, 20, 256)  0           bn4a_branch2a[0][0]              \n",
      "__________________________________________________________________________________________________\n",
      "res4a_branch2b (Conv2D)         (None, 20, 20, 256)  590080      activation_121[0][0]             \n",
      "__________________________________________________________________________________________________\n",
      "bn4a_branch2b (BatchNormalizati (None, 20, 20, 256)  1024        res4a_branch2b[0][0]             \n",
      "__________________________________________________________________________________________________\n",
      "activation_122 (Activation)     (None, 20, 20, 256)  0           bn4a_branch2b[0][0]              \n",
      "__________________________________________________________________________________________________\n",
      "res4a_branch2c (Conv2D)         (None, 20, 20, 1024) 263168      activation_122[0][0]             \n",
      "__________________________________________________________________________________________________\n",
      "res4a_branch1 (Conv2D)          (None, 20, 20, 1024) 525312      activation_120[0][0]             \n",
      "__________________________________________________________________________________________________\n",
      "bn4a_branch2c (BatchNormalizati (None, 20, 20, 1024) 4096        res4a_branch2c[0][0]             \n",
      "__________________________________________________________________________________________________\n",
      "bn4a_branch1 (BatchNormalizatio (None, 20, 20, 1024) 4096        res4a_branch1[0][0]              \n",
      "__________________________________________________________________________________________________\n",
      "add_40 (Add)                    (None, 20, 20, 1024) 0           bn4a_branch2c[0][0]              \n",
      "                                                                 bn4a_branch1[0][0]               \n",
      "__________________________________________________________________________________________________\n",
      "activation_123 (Activation)     (None, 20, 20, 1024) 0           add_40[0][0]                     \n",
      "__________________________________________________________________________________________________\n",
      "res4b_branch2a (Conv2D)         (None, 20, 20, 256)  262400      activation_123[0][0]             \n",
      "__________________________________________________________________________________________________\n",
      "bn4b_branch2a (BatchNormalizati (None, 20, 20, 256)  1024        res4b_branch2a[0][0]             \n",
      "__________________________________________________________________________________________________\n",
      "activation_124 (Activation)     (None, 20, 20, 256)  0           bn4b_branch2a[0][0]              \n",
      "__________________________________________________________________________________________________\n",
      "res4b_branch2b (Conv2D)         (None, 20, 20, 256)  590080      activation_124[0][0]             \n",
      "__________________________________________________________________________________________________\n",
      "bn4b_branch2b (BatchNormalizati (None, 20, 20, 256)  1024        res4b_branch2b[0][0]             \n",
      "__________________________________________________________________________________________________\n",
      "activation_125 (Activation)     (None, 20, 20, 256)  0           bn4b_branch2b[0][0]              \n",
      "__________________________________________________________________________________________________\n",
      "res4b_branch2c (Conv2D)         (None, 20, 20, 1024) 263168      activation_125[0][0]             \n",
      "__________________________________________________________________________________________________\n",
      "bn4b_branch2c (BatchNormalizati (None, 20, 20, 1024) 4096        res4b_branch2c[0][0]             \n",
      "__________________________________________________________________________________________________\n",
      "add_41 (Add)                    (None, 20, 20, 1024) 0           bn4b_branch2c[0][0]              \n",
      "                                                                 activation_123[0][0]             \n",
      "__________________________________________________________________________________________________\n",
      "activation_126 (Activation)     (None, 20, 20, 1024) 0           add_41[0][0]                     \n",
      "__________________________________________________________________________________________________\n",
      "res4c_branch2a (Conv2D)         (None, 20, 20, 256)  262400      activation_126[0][0]             \n",
      "__________________________________________________________________________________________________\n",
      "bn4c_branch2a (BatchNormalizati (None, 20, 20, 256)  1024        res4c_branch2a[0][0]             \n",
      "__________________________________________________________________________________________________\n",
      "activation_127 (Activation)     (None, 20, 20, 256)  0           bn4c_branch2a[0][0]              \n",
      "__________________________________________________________________________________________________\n",
      "res4c_branch2b (Conv2D)         (None, 20, 20, 256)  590080      activation_127[0][0]             \n",
      "__________________________________________________________________________________________________\n",
      "bn4c_branch2b (BatchNormalizati (None, 20, 20, 256)  1024        res4c_branch2b[0][0]             \n",
      "__________________________________________________________________________________________________\n",
      "activation_128 (Activation)     (None, 20, 20, 256)  0           bn4c_branch2b[0][0]              \n",
      "__________________________________________________________________________________________________\n",
      "res4c_branch2c (Conv2D)         (None, 20, 20, 1024) 263168      activation_128[0][0]             \n",
      "__________________________________________________________________________________________________\n",
      "bn4c_branch2c (BatchNormalizati (None, 20, 20, 1024) 4096        res4c_branch2c[0][0]             \n",
      "__________________________________________________________________________________________________\n",
      "add_42 (Add)                    (None, 20, 20, 1024) 0           bn4c_branch2c[0][0]              \n",
      "                                                                 activation_126[0][0]             \n",
      "__________________________________________________________________________________________________\n",
      "activation_129 (Activation)     (None, 20, 20, 1024) 0           add_42[0][0]                     \n",
      "__________________________________________________________________________________________________\n",
      "res4d_branch2a (Conv2D)         (None, 20, 20, 256)  262400      activation_129[0][0]             \n",
      "__________________________________________________________________________________________________\n",
      "bn4d_branch2a (BatchNormalizati (None, 20, 20, 256)  1024        res4d_branch2a[0][0]             \n",
      "__________________________________________________________________________________________________\n",
      "activation_130 (Activation)     (None, 20, 20, 256)  0           bn4d_branch2a[0][0]              \n",
      "__________________________________________________________________________________________________\n",
      "res4d_branch2b (Conv2D)         (None, 20, 20, 256)  590080      activation_130[0][0]             \n",
      "__________________________________________________________________________________________________\n",
      "bn4d_branch2b (BatchNormalizati (None, 20, 20, 256)  1024        res4d_branch2b[0][0]             \n",
      "__________________________________________________________________________________________________\n",
      "activation_131 (Activation)     (None, 20, 20, 256)  0           bn4d_branch2b[0][0]              \n",
      "__________________________________________________________________________________________________\n",
      "res4d_branch2c (Conv2D)         (None, 20, 20, 1024) 263168      activation_131[0][0]             \n",
      "__________________________________________________________________________________________________\n",
      "bn4d_branch2c (BatchNormalizati (None, 20, 20, 1024) 4096        res4d_branch2c[0][0]             \n",
      "__________________________________________________________________________________________________\n",
      "add_43 (Add)                    (None, 20, 20, 1024) 0           bn4d_branch2c[0][0]              \n",
      "                                                                 activation_129[0][0]             \n",
      "__________________________________________________________________________________________________\n",
      "activation_132 (Activation)     (None, 20, 20, 1024) 0           add_43[0][0]                     \n",
      "__________________________________________________________________________________________________\n",
      "res4e_branch2a (Conv2D)         (None, 20, 20, 256)  262400      activation_132[0][0]             \n",
      "__________________________________________________________________________________________________\n",
      "bn4e_branch2a (BatchNormalizati (None, 20, 20, 256)  1024        res4e_branch2a[0][0]             \n",
      "__________________________________________________________________________________________________\n",
      "activation_133 (Activation)     (None, 20, 20, 256)  0           bn4e_branch2a[0][0]              \n",
      "__________________________________________________________________________________________________\n",
      "res4e_branch2b (Conv2D)         (None, 20, 20, 256)  590080      activation_133[0][0]             \n",
      "__________________________________________________________________________________________________\n",
      "bn4e_branch2b (BatchNormalizati (None, 20, 20, 256)  1024        res4e_branch2b[0][0]             \n",
      "__________________________________________________________________________________________________\n",
      "activation_134 (Activation)     (None, 20, 20, 256)  0           bn4e_branch2b[0][0]              \n",
      "__________________________________________________________________________________________________\n",
      "res4e_branch2c (Conv2D)         (None, 20, 20, 1024) 263168      activation_134[0][0]             \n",
      "__________________________________________________________________________________________________\n",
      "bn4e_branch2c (BatchNormalizati (None, 20, 20, 1024) 4096        res4e_branch2c[0][0]             \n",
      "__________________________________________________________________________________________________\n",
      "add_44 (Add)                    (None, 20, 20, 1024) 0           bn4e_branch2c[0][0]              \n",
      "                                                                 activation_132[0][0]             \n",
      "__________________________________________________________________________________________________\n",
      "activation_135 (Activation)     (None, 20, 20, 1024) 0           add_44[0][0]                     \n",
      "__________________________________________________________________________________________________\n",
      "res4f_branch2a (Conv2D)         (None, 20, 20, 256)  262400      activation_135[0][0]             \n",
      "__________________________________________________________________________________________________\n",
      "bn4f_branch2a (BatchNormalizati (None, 20, 20, 256)  1024        res4f_branch2a[0][0]             \n",
      "__________________________________________________________________________________________________\n",
      "activation_136 (Activation)     (None, 20, 20, 256)  0           bn4f_branch2a[0][0]              \n",
      "__________________________________________________________________________________________________\n",
      "res4f_branch2b (Conv2D)         (None, 20, 20, 256)  590080      activation_136[0][0]             \n",
      "__________________________________________________________________________________________________\n",
      "bn4f_branch2b (BatchNormalizati (None, 20, 20, 256)  1024        res4f_branch2b[0][0]             \n",
      "__________________________________________________________________________________________________\n",
      "activation_137 (Activation)     (None, 20, 20, 256)  0           bn4f_branch2b[0][0]              \n",
      "__________________________________________________________________________________________________\n",
      "res4f_branch2c (Conv2D)         (None, 20, 20, 1024) 263168      activation_137[0][0]             \n",
      "__________________________________________________________________________________________________\n",
      "bn4f_branch2c (BatchNormalizati (None, 20, 20, 1024) 4096        res4f_branch2c[0][0]             \n",
      "__________________________________________________________________________________________________\n",
      "add_45 (Add)                    (None, 20, 20, 1024) 0           bn4f_branch2c[0][0]              \n",
      "                                                                 activation_135[0][0]             \n",
      "__________________________________________________________________________________________________\n",
      "activation_138 (Activation)     (None, 20, 20, 1024) 0           add_45[0][0]                     \n",
      "__________________________________________________________________________________________________\n",
      "res5a_branch2a (Conv2D)         (None, 10, 10, 512)  524800      activation_138[0][0]             \n",
      "__________________________________________________________________________________________________\n",
      "bn5a_branch2a (BatchNormalizati (None, 10, 10, 512)  2048        res5a_branch2a[0][0]             \n",
      "__________________________________________________________________________________________________\n",
      "activation_139 (Activation)     (None, 10, 10, 512)  0           bn5a_branch2a[0][0]              \n",
      "__________________________________________________________________________________________________\n",
      "res5a_branch2b (Conv2D)         (None, 10, 10, 512)  2359808     activation_139[0][0]             \n",
      "__________________________________________________________________________________________________\n",
      "bn5a_branch2b (BatchNormalizati (None, 10, 10, 512)  2048        res5a_branch2b[0][0]             \n",
      "__________________________________________________________________________________________________\n",
      "activation_140 (Activation)     (None, 10, 10, 512)  0           bn5a_branch2b[0][0]              \n",
      "__________________________________________________________________________________________________\n",
      "res5a_branch2c (Conv2D)         (None, 10, 10, 2048) 1050624     activation_140[0][0]             \n",
      "__________________________________________________________________________________________________\n",
      "res5a_branch1 (Conv2D)          (None, 10, 10, 2048) 2099200     activation_138[0][0]             \n",
      "__________________________________________________________________________________________________\n",
      "bn5a_branch2c (BatchNormalizati (None, 10, 10, 2048) 8192        res5a_branch2c[0][0]             \n",
      "__________________________________________________________________________________________________\n",
      "bn5a_branch1 (BatchNormalizatio (None, 10, 10, 2048) 8192        res5a_branch1[0][0]              \n",
      "__________________________________________________________________________________________________\n",
      "add_46 (Add)                    (None, 10, 10, 2048) 0           bn5a_branch2c[0][0]              \n",
      "                                                                 bn5a_branch1[0][0]               \n",
      "__________________________________________________________________________________________________\n",
      "activation_141 (Activation)     (None, 10, 10, 2048) 0           add_46[0][0]                     \n",
      "__________________________________________________________________________________________________\n",
      "res5b_branch2a (Conv2D)         (None, 10, 10, 512)  1049088     activation_141[0][0]             \n",
      "__________________________________________________________________________________________________\n",
      "bn5b_branch2a (BatchNormalizati (None, 10, 10, 512)  2048        res5b_branch2a[0][0]             \n",
      "__________________________________________________________________________________________________\n",
      "activation_142 (Activation)     (None, 10, 10, 512)  0           bn5b_branch2a[0][0]              \n",
      "__________________________________________________________________________________________________\n",
      "res5b_branch2b (Conv2D)         (None, 10, 10, 512)  2359808     activation_142[0][0]             \n",
      "__________________________________________________________________________________________________\n",
      "bn5b_branch2b (BatchNormalizati (None, 10, 10, 512)  2048        res5b_branch2b[0][0]             \n",
      "__________________________________________________________________________________________________\n",
      "activation_143 (Activation)     (None, 10, 10, 512)  0           bn5b_branch2b[0][0]              \n",
      "__________________________________________________________________________________________________\n",
      "res5b_branch2c (Conv2D)         (None, 10, 10, 2048) 1050624     activation_143[0][0]             \n",
      "__________________________________________________________________________________________________\n",
      "bn5b_branch2c (BatchNormalizati (None, 10, 10, 2048) 8192        res5b_branch2c[0][0]             \n",
      "__________________________________________________________________________________________________\n",
      "add_47 (Add)                    (None, 10, 10, 2048) 0           bn5b_branch2c[0][0]              \n",
      "                                                                 activation_141[0][0]             \n",
      "__________________________________________________________________________________________________\n",
      "activation_144 (Activation)     (None, 10, 10, 2048) 0           add_47[0][0]                     \n",
      "__________________________________________________________________________________________________\n",
      "res5c_branch2a (Conv2D)         (None, 10, 10, 512)  1049088     activation_144[0][0]             \n",
      "__________________________________________________________________________________________________\n",
      "bn5c_branch2a (BatchNormalizati (None, 10, 10, 512)  2048        res5c_branch2a[0][0]             \n",
      "__________________________________________________________________________________________________\n",
      "activation_145 (Activation)     (None, 10, 10, 512)  0           bn5c_branch2a[0][0]              \n",
      "__________________________________________________________________________________________________\n",
      "res5c_branch2b (Conv2D)         (None, 10, 10, 512)  2359808     activation_145[0][0]             \n",
      "__________________________________________________________________________________________________\n",
      "bn5c_branch2b (BatchNormalizati (None, 10, 10, 512)  2048        res5c_branch2b[0][0]             \n",
      "__________________________________________________________________________________________________\n",
      "activation_146 (Activation)     (None, 10, 10, 512)  0           bn5c_branch2b[0][0]              \n",
      "__________________________________________________________________________________________________\n",
      "res5c_branch2c (Conv2D)         (None, 10, 10, 2048) 1050624     activation_146[0][0]             \n",
      "__________________________________________________________________________________________________\n",
      "bn5c_branch2c (BatchNormalizati (None, 10, 10, 2048) 8192        res5c_branch2c[0][0]             \n",
      "__________________________________________________________________________________________________\n",
      "add_48 (Add)                    (None, 10, 10, 2048) 0           bn5c_branch2c[0][0]              \n",
      "                                                                 activation_144[0][0]             \n",
      "__________________________________________________________________________________________________\n",
      "activation_147 (Activation)     (None, 10, 10, 2048) 0           add_48[0][0]                     \n",
      "__________________________________________________________________________________________________\n",
      "global_average_pooling2d_3 (Glo (None, 2048)         0           activation_147[0][0]             \n",
      "__________________________________________________________________________________________________\n",
      "global_max_pooling2d_3 (GlobalM (None, 2048)         0           activation_147[0][0]             \n",
      "__________________________________________________________________________________________________\n",
      "batch_normalization_5 (BatchNor (None, 2048)         8192        global_average_pooling2d_3[0][0] \n",
      "__________________________________________________________________________________________________\n",
      "batch_normalization_6 (BatchNor (None, 2048)         8192        global_max_pooling2d_3[0][0]     \n",
      "__________________________________________________________________________________________________\n",
      "concatenate_3 (Concatenate)     (None, 4096)         0           batch_normalization_5[0][0]      \n",
      "                                                                 batch_normalization_6[0][0]      \n",
      "__________________________________________________________________________________________________\n",
      "dense_7 (Dense)                 (None, 2048)         8390656     concatenate_3[0][0]              \n",
      "__________________________________________________________________________________________________\n",
      "dense_8 (Dense)                 (None, 2048)         8390656     concatenate_3[0][0]              \n",
      "__________________________________________________________________________________________________\n",
      "dense_9 (Dense)                 (None, 2048)         8390656     concatenate_3[0][0]              \n",
      "__________________________________________________________________________________________________\n",
      "dropout_7 (Dropout)             (None, 2048)         0           dense_7[0][0]                    \n",
      "__________________________________________________________________________________________________\n",
      "dropout_8 (Dropout)             (None, 2048)         0           dense_8[0][0]                    \n",
      "__________________________________________________________________________________________________\n",
      "dropout_9 (Dropout)             (None, 2048)         0           dense_9[0][0]                    \n",
      "__________________________________________________________________________________________________\n",
      "regression_output (Dense)       (None, 1)            2049        dropout_7[0][0]                  \n",
      "__________________________________________________________________________________________________\n",
      "classification_output (Dense)   (None, 5)            10245       dropout_8[0][0]                  \n",
      "__________________________________________________________________________________________________\n",
      "ordinal_regression_output (Dens (None, 5)            10245       dropout_9[0][0]                  \n",
      "==================================================================================================\n",
      "Total params: 48,798,603\n",
      "Trainable params: 48,737,291\n",
      "Non-trainable params: 61,312\n",
      "__________________________________________________________________________________________________\n"
     ]
    }
   ],
   "source": [
    "# Train all Layers\n",
    "\n",
    "for layer in model.layers:\n",
    "    layer.trainable = True\n",
    "model.summary()"
   ]
  },
  {
   "cell_type": "code",
   "execution_count": 0,
   "metadata": {
    "colab": {
     "base_uri": "https://localhost:8080/",
     "height": 34
    },
    "colab_type": "code",
    "id": "i4NV7v51KIeR",
    "outputId": "77becb7a-618f-49e2-ad15-4689fb485a4c"
   },
   "outputs": [
    {
     "name": "stdout",
     "output_type": "stream",
     "text": [
      "91 22\n"
     ]
    }
   ],
   "source": [
    "STEP_SIZE_TRAIN = len(df_train_train)//BATCH_SIZE\n",
    "STEP_SIZE_VALID = len(df_train_test)//BATCH_SIZE\n",
    "print(STEP_SIZE_TRAIN,STEP_SIZE_VALID)"
   ]
  },
  {
   "cell_type": "code",
   "execution_count": 0,
   "metadata": {
    "colab": {},
    "colab_type": "code",
    "id": "AGk1j-cmEkCo"
   },
   "outputs": [],
   "source": [
    "''' This Code part includes Class & Function Implementatin of the Cosine Learning Rate Scheduler'''\n",
    "\n",
    "# ref  - https://github.com/dimitreOliveira/APTOS2019BlindnessDetection/blob/master/Best%20solution%20(Bronze%20medal%20-%20163rd%20place)/233%20-%20EfficientNetB5-Reg-Img224%200%2C5data%20Fold1.ipynb\n",
    "\n",
    "def cosine_decay_with_warmup(global_step,\n",
    "                             learning_rate_base,\n",
    "                             total_steps,\n",
    "                             warmup_learning_rate=0.0,\n",
    "                             warmup_steps=0,\n",
    "                             hold_base_rate_steps=0):\n",
    "    \"\"\"\n",
    "    Cosine decay schedule with warm up period.\n",
    "    In this schedule, the learning rate grows linearly from warmup_learning_rate\n",
    "    to learning_rate_base for warmup_steps, then transitions to a cosine decay\n",
    "    schedule.\n",
    "    :param global_step {int}: global step.\n",
    "    :param learning_rate_base {float}: base learning rate.\n",
    "    :param total_steps {int}: total number of training steps.\n",
    "    :param warmup_learning_rate {float}: initial learning rate for warm up. (default: {0.0}).\n",
    "    :param warmup_steps {int}: number of warmup steps. (default: {0}).\n",
    "    :param hold_base_rate_steps {int}: Optional number of steps to hold base learning rate before decaying. (default: {0}).\n",
    "    :param global_step {int}: global step.\n",
    "    :Returns : a float representing learning rate.\n",
    "    :Raises ValueError: if warmup_learning_rate is larger than learning_rate_base, or if warmup_steps is larger than total_steps.\n",
    "    \"\"\"\n",
    "\n",
    "    if total_steps < warmup_steps:\n",
    "        raise ValueError('total_steps must be larger or equal to warmup_steps.')\n",
    "    learning_rate = 0.5 * learning_rate_base * (1 + np.cos(\n",
    "        np.pi *\n",
    "        (global_step - warmup_steps - hold_base_rate_steps\n",
    "         ) / float(total_steps - warmup_steps - hold_base_rate_steps)))\n",
    "    if hold_base_rate_steps > 0:\n",
    "        learning_rate = np.where(global_step > warmup_steps + hold_base_rate_steps,\n",
    "                                 learning_rate, learning_rate_base)\n",
    "    if warmup_steps > 0:\n",
    "        if learning_rate_base < warmup_learning_rate:\n",
    "            raise ValueError('learning_rate_base must be larger or equal to warmup_learning_rate.')\n",
    "        slope = (learning_rate_base - warmup_learning_rate) / warmup_steps\n",
    "        warmup_rate = slope * global_step + warmup_learning_rate\n",
    "        learning_rate = np.where(global_step < warmup_steps, warmup_rate,\n",
    "                                 learning_rate)\n",
    "    return np.where(global_step > total_steps, 0.0, learning_rate)\n",
    "\n",
    "\n",
    "class WarmUpCosineDecayScheduler(Callback):\n",
    "    \"\"\"Cosine decay with warmup learning rate scheduler\"\"\"\n",
    "\n",
    "    def __init__(self,\n",
    "                 learning_rate_base,\n",
    "                 total_steps,\n",
    "                 global_step_init=0,\n",
    "                 warmup_learning_rate=0.0,\n",
    "                 warmup_steps=0,\n",
    "                 hold_base_rate_steps=0,\n",
    "                 verbose=0):\n",
    "        \"\"\"\n",
    "        Constructor for cosine decay with warmup learning rate scheduler.\n",
    "        :param learning_rate_base {float}: base learning rate.\n",
    "        :param total_steps {int}: total number of training steps.\n",
    "        :param global_step_init {int}: initial global step, e.g. from previous checkpoint.\n",
    "        :param warmup_learning_rate {float}: initial learning rate for warm up. (default: {0.0}).\n",
    "        :param warmup_steps {int}: number of warmup steps. (default: {0}).\n",
    "        :param hold_base_rate_steps {int}: Optional number of steps to hold base learning rate before decaying. (default: {0}).\n",
    "        :param verbose {int}: quiet, 1: update messages. (default: {0}).\n",
    "        \"\"\"\n",
    "\n",
    "        super(WarmUpCosineDecayScheduler, self).__init__()\n",
    "        self.learning_rate_base = learning_rate_base\n",
    "        self.total_steps = total_steps\n",
    "        self.global_step = global_step_init\n",
    "        self.warmup_learning_rate = warmup_learning_rate\n",
    "        self.warmup_steps = warmup_steps\n",
    "        self.hold_base_rate_steps = hold_base_rate_steps\n",
    "        self.verbose = verbose\n",
    "        self.learning_rates = []\n",
    "\n",
    "    def on_batch_end(self, batch, logs=None):\n",
    "        self.global_step = self.global_step + 1\n",
    "        lr = K.get_value(self.model.optimizer.lr)\n",
    "        self.learning_rates.append(lr)\n",
    "\n",
    "    def on_batch_begin(self, batch, logs=None):\n",
    "        lr = cosine_decay_with_warmup(global_step=self.global_step,\n",
    "                                      learning_rate_base=self.learning_rate_base,\n",
    "                                      total_steps=self.total_steps,\n",
    "                                      warmup_learning_rate=self.warmup_learning_rate,\n",
    "                                      warmup_steps=self.warmup_steps,\n",
    "                                      hold_base_rate_steps=self.hold_base_rate_steps)\n",
    "        K.set_value(self.model.optimizer.lr, lr)\n",
    "        if self.verbose > 0:\n",
    "            print('\\nBatch %02d: setting learning rate to %s.' % (self.global_step + 1, lr))"
   ]
  },
  {
   "cell_type": "code",
   "execution_count": 0,
   "metadata": {
    "colab": {},
    "colab_type": "code",
    "id": "yzSnpqUmFYtD"
   },
   "outputs": [],
   "source": [
    "# Use Cosine LR Scheduler as callback\n",
    "\n",
    "cosine_lr = WarmUpCosineDecayScheduler(learning_rate_base = LEARNING_RATE,\n",
    "                                       total_steps=TOTAL_STEPS_1st,\n",
    "                                       warmup_learning_rate=0.0,\n",
    "                                       warmup_steps=TOTAL_STEPS_1st,\n",
    "                                       hold_base_rate_steps=(2 * STEP_SIZE))\n",
    "\n",
    "callback_list = [cosine_lr_1st]"
   ]
  },
  {
   "cell_type": "code",
   "execution_count": 0,
   "metadata": {
    "colab": {
     "base_uri": "https://localhost:8080/",
     "height": 776
    },
    "colab_type": "code",
    "id": "Aki2wj75JNuA",
    "outputId": "e61b66a0-59c9-4bd7-c0eb-edfc0035dfab"
   },
   "outputs": [
    {
     "name": "stdout",
     "output_type": "stream",
     "text": [
      "Epoch 1/20\n"
     ]
    },
    {
     "name": "stderr",
     "output_type": "stream",
     "text": [
      "/usr/local/lib/python3.6/dist-packages/keras_preprocessing/image/image_data_generator.py:716: UserWarning: This ImageDataGenerator specifies `featurewise_center`, but it hasn't been fit on any training data. Fit it first by calling `.fit(numpy_data)`.\n",
      "  warnings.warn('This ImageDataGenerator specifies '\n",
      "/usr/local/lib/python3.6/dist-packages/keras_preprocessing/image/image_data_generator.py:735: UserWarning: This ImageDataGenerator specifies `zca_whitening`, but it hasn't been fit on any training data. Fit it first by calling `.fit(numpy_data)`.\n",
      "  warnings.warn('This ImageDataGenerator specifies '\n"
     ]
    },
    {
     "name": "stdout",
     "output_type": "stream",
     "text": [
      "91/91 [==============================] - 1524s 17s/step - loss: 5.1883 - regression_output_loss: 1.7428 - classification_output_loss: 2.1430 - ordinal_regression_output_loss: 1.3026 - regression_output_accuracy: 0.1956 - classification_output_accuracy: 0.2493 - ordinal_regression_output_accuracy: 0.5438 - val_loss: 4.0071 - val_regression_output_loss: 1.1378 - val_classification_output_loss: 1.5767 - val_ordinal_regression_output_loss: 1.3871 - val_regression_output_accuracy: 0.1991 - val_classification_output_accuracy: 0.1898 - val_ordinal_regression_output_accuracy: 0.5231\n",
      "Epoch 2/20\n",
      "91/91 [==============================] - 233s 3s/step - loss: 4.3981 - regression_output_loss: 1.4690 - classification_output_loss: 1.7545 - ordinal_regression_output_loss: 1.1746 - regression_output_accuracy: 0.2237 - classification_output_accuracy: 0.3951 - ordinal_regression_output_accuracy: 0.5657 - val_loss: 4.1293 - val_regression_output_loss: 1.1813 - val_classification_output_loss: 1.7535 - val_ordinal_regression_output_loss: 1.2246 - val_regression_output_accuracy: 0.2050 - val_classification_output_accuracy: 0.2965 - val_ordinal_regression_output_accuracy: 0.4811\n",
      "Epoch 3/20\n",
      "91/91 [==============================] - 233s 3s/step - loss: 3.7510 - regression_output_loss: 1.3158 - classification_output_loss: 1.4536 - ordinal_regression_output_loss: 0.9817 - regression_output_accuracy: 0.2431 - classification_output_accuracy: 0.5083 - ordinal_regression_output_accuracy: 0.6202 - val_loss: 3.6815 - val_regression_output_loss: 1.2850 - val_classification_output_loss: 1.6249 - val_ordinal_regression_output_loss: 0.8262 - val_regression_output_accuracy: 0.2284 - val_classification_output_accuracy: 0.4074 - val_ordinal_regression_output_accuracy: 0.5772\n",
      "Epoch 4/20\n",
      "91/91 [==============================] - 233s 3s/step - loss: 3.4007 - regression_output_loss: 1.2339 - classification_output_loss: 1.2959 - ordinal_regression_output_loss: 0.8711 - regression_output_accuracy: 0.2462 - classification_output_accuracy: 0.5654 - ordinal_regression_output_accuracy: 0.6704 - val_loss: 3.8909 - val_regression_output_loss: 1.2679 - val_classification_output_loss: 1.9382 - val_ordinal_regression_output_loss: 0.7703 - val_regression_output_accuracy: 0.2191 - val_classification_output_accuracy: 0.4290 - val_ordinal_regression_output_accuracy: 0.7336\n",
      "Epoch 5/20\n",
      "91/91 [==============================] - 231s 3s/step - loss: 3.1984 - regression_output_loss: 1.2321 - classification_output_loss: 1.1672 - ordinal_regression_output_loss: 0.7990 - regression_output_accuracy: 0.2545 - classification_output_accuracy: 0.6191 - ordinal_regression_output_accuracy: 0.7022 - val_loss: 5.4479 - val_regression_output_loss: 1.1788 - val_classification_output_loss: 2.2913 - val_ordinal_regression_output_loss: 1.0087 - val_regression_output_accuracy: 0.1940 - val_classification_output_accuracy: 0.4385 - val_ordinal_regression_output_accuracy: 0.7580\n",
      "Epoch 6/20\n",
      "91/91 [==============================] - 233s 3s/step - loss: 3.0537 - regression_output_loss: 1.1670 - classification_output_loss: 1.1066 - ordinal_regression_output_loss: 0.7801 - regression_output_accuracy: 0.2843 - classification_output_accuracy: 0.6188 - ordinal_regression_output_accuracy: 0.7106 - val_loss: 4.4921 - val_regression_output_loss: 1.0824 - val_classification_output_loss: 2.1887 - val_ordinal_regression_output_loss: 0.8554 - val_regression_output_accuracy: 0.2685 - val_classification_output_accuracy: 0.4398 - val_ordinal_regression_output_accuracy: 0.7546\n",
      "Epoch 7/20\n",
      "91/91 [==============================] - 232s 3s/step - loss: 3.1659 - regression_output_loss: 1.2324 - classification_output_loss: 1.1599 - ordinal_regression_output_loss: 0.7738 - regression_output_accuracy: 0.2587 - classification_output_accuracy: 0.6091 - ordinal_regression_output_accuracy: 0.7144 - val_loss: 3.7538 - val_regression_output_loss: 1.1764 - val_classification_output_loss: 2.1236 - val_ordinal_regression_output_loss: 0.8300 - val_regression_output_accuracy: 0.2098 - val_classification_output_accuracy: 0.4479 - val_ordinal_regression_output_accuracy: 0.7360\n",
      "Epoch 8/20\n",
      "91/91 [==============================] - 233s 3s/step - loss: 3.0609 - regression_output_loss: 1.1830 - classification_output_loss: 1.1071 - ordinal_regression_output_loss: 0.7708 - regression_output_accuracy: 0.2680 - classification_output_accuracy: 0.6278 - ordinal_regression_output_accuracy: 0.7118 - val_loss: 3.7900 - val_regression_output_loss: 1.2193 - val_classification_output_loss: 1.8970 - val_ordinal_regression_output_loss: 0.8225 - val_regression_output_accuracy: 0.2485 - val_classification_output_accuracy: 0.4614 - val_ordinal_regression_output_accuracy: 0.6920\n",
      "Epoch 9/20\n",
      "91/91 [==============================] - 231s 3s/step - loss: 3.1663 - regression_output_loss: 1.2448 - classification_output_loss: 1.1410 - ordinal_regression_output_loss: 0.7805 - regression_output_accuracy: 0.2524 - classification_output_accuracy: 0.6219 - ordinal_regression_output_accuracy: 0.7075 - val_loss: 3.2800 - val_regression_output_loss: 1.2505 - val_classification_output_loss: 1.5863 - val_ordinal_regression_output_loss: 0.8027 - val_regression_output_accuracy: 0.2299 - val_classification_output_accuracy: 0.5247 - val_ordinal_regression_output_accuracy: 0.6815\n",
      "Epoch 10/20\n",
      "91/91 [==============================] - 232s 3s/step - loss: 3.0595 - regression_output_loss: 1.1836 - classification_output_loss: 1.0988 - ordinal_regression_output_loss: 0.7771 - regression_output_accuracy: 0.2780 - classification_output_accuracy: 0.6333 - ordinal_regression_output_accuracy: 0.7116 - val_loss: 3.3471 - val_regression_output_loss: 1.1571 - val_classification_output_loss: 1.4196 - val_ordinal_regression_output_loss: 0.7358 - val_regression_output_accuracy: 0.2618 - val_classification_output_accuracy: 0.5489 - val_ordinal_regression_output_accuracy: 0.6751\n",
      "Epoch 11/20\n",
      "91/91 [==============================] - 232s 3s/step - loss: 3.0657 - regression_output_loss: 1.1723 - classification_output_loss: 1.1267 - ordinal_regression_output_loss: 0.7667 - regression_output_accuracy: 0.2794 - classification_output_accuracy: 0.6101 - ordinal_regression_output_accuracy: 0.7148 - val_loss: 2.3704 - val_regression_output_loss: 0.9302 - val_classification_output_loss: 1.1411 - val_ordinal_regression_output_loss: 0.7102 - val_regression_output_accuracy: 0.3395 - val_classification_output_accuracy: 0.6188 - val_ordinal_regression_output_accuracy: 0.6750\n",
      "Epoch 12/20\n",
      "91/91 [==============================] - 232s 3s/step - loss: 3.0834 - regression_output_loss: 1.2290 - classification_output_loss: 1.0929 - ordinal_regression_output_loss: 0.7616 - regression_output_accuracy: 0.2531 - classification_output_accuracy: 0.6340 - ordinal_regression_output_accuracy: 0.7106 - val_loss: 2.3742 - val_regression_output_loss: 0.8289 - val_classification_output_loss: 1.0466 - val_ordinal_regression_output_loss: 0.6851 - val_regression_output_accuracy: 0.3644 - val_classification_output_accuracy: 0.6293 - val_ordinal_regression_output_accuracy: 0.6943\n",
      "Epoch 13/20\n",
      "91/91 [==============================] - 232s 3s/step - loss: 3.0937 - regression_output_loss: 1.2155 - classification_output_loss: 1.1012 - ordinal_regression_output_loss: 0.7769 - regression_output_accuracy: 0.2668 - classification_output_accuracy: 0.6295 - ordinal_regression_output_accuracy: 0.7079 - val_loss: 1.9974 - val_regression_output_loss: 0.8044 - val_classification_output_loss: 1.0234 - val_ordinal_regression_output_loss: 0.6549 - val_regression_output_accuracy: 0.3889 - val_classification_output_accuracy: 0.6404 - val_ordinal_regression_output_accuracy: 0.7034\n",
      "Epoch 14/20\n",
      "91/91 [==============================] - 234s 3s/step - loss: 3.1043 - regression_output_loss: 1.2112 - classification_output_loss: 1.1203 - ordinal_regression_output_loss: 0.7728 - regression_output_accuracy: 0.2659 - classification_output_accuracy: 0.6229 - ordinal_regression_output_accuracy: 0.7088 - val_loss: 2.0999 - val_regression_output_loss: 0.8312 - val_classification_output_loss: 1.0002 - val_ordinal_regression_output_loss: 0.6631 - val_regression_output_accuracy: 0.3781 - val_classification_output_accuracy: 0.6451 - val_ordinal_regression_output_accuracy: 0.6988\n",
      "Epoch 15/20\n",
      "91/91 [==============================] - 234s 3s/step - loss: 3.1577 - regression_output_loss: 1.2282 - classification_output_loss: 1.1371 - ordinal_regression_output_loss: 0.7925 - regression_output_accuracy: 0.2517 - classification_output_accuracy: 0.6174 - ordinal_regression_output_accuracy: 0.7084 - val_loss: 2.7068 - val_regression_output_loss: 0.8060 - val_classification_output_loss: 1.0136 - val_ordinal_regression_output_loss: 0.6829 - val_regression_output_accuracy: 0.4259 - val_classification_output_accuracy: 0.6467 - val_ordinal_regression_output_accuracy: 0.7013\n",
      "Epoch 16/20\n",
      "91/91 [==============================] - 234s 3s/step - loss: 3.1346 - regression_output_loss: 1.2293 - classification_output_loss: 1.1368 - ordinal_regression_output_loss: 0.7686 - regression_output_accuracy: 0.2680 - classification_output_accuracy: 0.6205 - ordinal_regression_output_accuracy: 0.7136 - val_loss: 2.6054 - val_regression_output_loss: 0.7906 - val_classification_output_loss: 1.0021 - val_ordinal_regression_output_loss: 0.6772 - val_regression_output_accuracy: 0.3981 - val_classification_output_accuracy: 0.6451 - val_ordinal_regression_output_accuracy: 0.7049\n",
      "Epoch 17/20\n",
      "91/91 [==============================] - 232s 3s/step - loss: 3.0998 - regression_output_loss: 1.2101 - classification_output_loss: 1.1175 - ordinal_regression_output_loss: 0.7720 - regression_output_accuracy: 0.2663 - classification_output_accuracy: 0.6167 - ordinal_regression_output_accuracy: 0.7101 - val_loss: 2.6601 - val_regression_output_loss: 0.7803 - val_classification_output_loss: 0.9965 - val_ordinal_regression_output_loss: 0.6467 - val_regression_output_accuracy: 0.4069 - val_classification_output_accuracy: 0.6262 - val_ordinal_regression_output_accuracy: 0.7110\n",
      "Epoch 18/20\n",
      "91/91 [==============================] - 232s 3s/step - loss: 3.1085 - regression_output_loss: 1.2151 - classification_output_loss: 1.1135 - ordinal_regression_output_loss: 0.7800 - regression_output_accuracy: 0.2664 - classification_output_accuracy: 0.6274 - ordinal_regression_output_accuracy: 0.7123 - val_loss: 2.2384 - val_regression_output_loss: 0.7755 - val_classification_output_loss: 1.0271 - val_ordinal_regression_output_loss: 0.6703 - val_regression_output_accuracy: 0.4259 - val_classification_output_accuracy: 0.6373 - val_ordinal_regression_output_accuracy: 0.7096\n",
      "Epoch 19/20\n",
      "91/91 [==============================] - 234s 3s/step - loss: 3.1094 - regression_output_loss: 1.2162 - classification_output_loss: 1.1257 - ordinal_regression_output_loss: 0.7674 - regression_output_accuracy: 0.2732 - classification_output_accuracy: 0.6240 - ordinal_regression_output_accuracy: 0.7088 - val_loss: 2.6748 - val_regression_output_loss: 0.7974 - val_classification_output_loss: 1.0171 - val_ordinal_regression_output_loss: 0.6713 - val_regression_output_accuracy: 0.4167 - val_classification_output_accuracy: 0.6404 - val_ordinal_regression_output_accuracy: 0.7120\n",
      "Epoch 20/20\n",
      "91/91 [==============================] - 233s 3s/step - loss: 3.1323 - regression_output_loss: 1.2185 - classification_output_loss: 1.1430 - ordinal_regression_output_loss: 0.7706 - regression_output_accuracy: 0.2590 - classification_output_accuracy: 0.6212 - ordinal_regression_output_accuracy: 0.7084 - val_loss: 2.3598 - val_regression_output_loss: 0.8361 - val_classification_output_loss: 0.9844 - val_ordinal_regression_output_loss: 0.6649 - val_regression_output_accuracy: 0.3943 - val_classification_output_accuracy: 0.6483 - val_ordinal_regression_output_accuracy: 0.7126\n"
     ]
    }
   ],
   "source": [
    "# ref - https://keras.io/getting-started/functional-api-guide/\n",
    "\n",
    "model.compile(optimizer = optimizers.SGD(lr=LEARNING_RATE),\n",
    "              loss={'regression_output': 'mean_absolute_error', \n",
    "                    'classification_output': 'categorical_crossentropy',\n",
    "                    'ordinal_regression_output' : 'binary_crossentropy'\n",
    "                    },\n",
    "              metrics = ['accuracy'])\n",
    "\n",
    "history = model.fit_generator(generator=train_generator,\n",
    "                              steps_per_epoch=STEP_SIZE_TRAIN,\n",
    "                              validation_data=valid_generator,\n",
    "                              validation_steps=STEP_SIZE_VALID,\n",
    "                              epochs=20,\n",
    "                              callbacks = callback_list,\n",
    "                              verbose=1).history\n",
    "\n",
    "model.save(\"model_pre_training.h5\")\n",
    "f = open(\"history_pre_training\",\"wb\")\n",
    "pickle.dump(history,f)\n",
    "f.close()"
   ]
  },
  {
   "cell_type": "code",
   "execution_count": 0,
   "metadata": {
    "colab": {
     "base_uri": "https://localhost:8080/",
     "height": 350
    },
    "colab_type": "code",
    "id": "j2rduAwJeWFF",
    "outputId": "045fe918-d3a0-4ae6-ace3-5053424d3811"
   },
   "outputs": [
    {
     "data": {
      "image/png": "[encoded data removed]",
      "text/plain": [
       "<Figure size 576x360 with 1 Axes>"
      ]
     },
     "metadata": {
      "needs_background": "light",
      "tags": []
     },
     "output_type": "display_data"
    }
   ],
   "source": [
    "plt.figure(figsize=(8,5))\n",
    "plt.plot(history['regression_output_loss'])\n",
    "plt.plot(history['val_regression_output_loss'])\n",
    "plt.title('Regression Model Loss - Pre Training')\n",
    "plt.ylabel('Loss (MAE)')\n",
    "plt.xlabel('Epoch')\n",
    "plt.legend(['Train', 'Validation'], loc='best')\n",
    "plt.xticks(range(1,21))\n",
    "plt.gca().ticklabel_format(axis='both', style='plain', useOffset=False)\n",
    "plt.show()"
   ]
  },
  {
   "cell_type": "code",
   "execution_count": 0,
   "metadata": {
    "colab": {
     "base_uri": "https://localhost:8080/",
     "height": 350
    },
    "colab_type": "code",
    "id": "-MhYaj8VfbGo",
    "outputId": "b27560ce-7a28-40cb-a0bb-1065d6aa4b46"
   },
   "outputs": [
    {
     "data": {
      "image/png": "[encoded data removed]",
      "text/plain": [
       "<Figure size 576x360 with 1 Axes>"
      ]
     },
     "metadata": {
      "needs_background": "light",
      "tags": []
     },
     "output_type": "display_data"
    }
   ],
   "source": [
    "plt.figure(figsize=(8,5))\n",
    "plt.plot(history['classification_output_loss'])\n",
    "plt.plot(history['val_classification_output_loss'])\n",
    "plt.title('Classification Model Loss - Pre Training')\n",
    "plt.ylabel('Loss (Categorical Cross Entropy)')\n",
    "plt.xlabel('Epoch')\n",
    "plt.legend(['Train', 'Validation'], loc='best')\n",
    "plt.xticks(range(1,21))\n",
    "plt.gca().ticklabel_format(axis='both', style='plain', useOffset=False)\n",
    "plt.show()"
   ]
  },
  {
   "cell_type": "code",
   "execution_count": 0,
   "metadata": {
    "colab": {
     "base_uri": "https://localhost:8080/",
     "height": 350
    },
    "colab_type": "code",
    "id": "Cr75LfqLfbs1",
    "outputId": "79d1272d-310b-4bb8-9440-16d0f15464ea"
   },
   "outputs": [
    {
     "data": {
      "image/png": "[encoded data removed]",
      "text/plain": [
       "<Figure size 576x360 with 1 Axes>"
      ]
     },
     "metadata": {
      "needs_background": "light",
      "tags": []
     },
     "output_type": "display_data"
    }
   ],
   "source": [
    "plt.figure(figsize=(8,5))\n",
    "plt.plot(history['ordinal_regression_output_loss'])\n",
    "plt.plot(history['val_ordinal_regression_output_loss'])\n",
    "plt.title('Ordinal Regression Model Loss - Pre Training')\n",
    "plt.ylabel('Loss (Binary Cross Entropy)')\n",
    "plt.xlabel('Epoch')\n",
    "plt.legend(['Train', 'Validation'], loc='best')\n",
    "plt.xticks(range(1,21))\n",
    "plt.gca().ticklabel_format(axis='both', style='plain', useOffset=False)\n",
    "plt.show()"
   ]
  },
  {
   "cell_type": "markdown",
   "metadata": {
    "colab_type": "text",
    "id": "WnYIX-05RkIb"
   },
   "source": [
    "### <font color='red'> 15.5 Stage 2 (Main Training) </font>\n"
   ]
  },
  {
   "cell_type": "code",
   "execution_count": 0,
   "metadata": {
    "colab": {
     "base_uri": "https://localhost:8080/",
     "height": 1000
    },
    "colab_type": "code",
    "id": "CF2lgRdKQPbn",
    "outputId": "318d7da7-3581-49cc-a2a6-026150bdbdbe"
   },
   "outputs": [
    {
     "name": "stdout",
     "output_type": "stream",
     "text": [
      "Model: \"model_3\"\n",
      "__________________________________________________________________________________________________\n",
      "Layer (type)                    Output Shape         Param #     Connected to                     \n",
      "==================================================================================================\n",
      "input_3 (InputLayer)            (None, 320, 320, 3)  0                                            \n",
      "__________________________________________________________________________________________________\n",
      "conv1_pad (ZeroPadding2D)       (None, 326, 326, 3)  0           input_3[0][0]                    \n",
      "__________________________________________________________________________________________________\n",
      "conv1 (Conv2D)                  (None, 160, 160, 64) 9472        conv1_pad[0][0]                  \n",
      "__________________________________________________________________________________________________\n",
      "bn_conv1 (BatchNormalization)   (None, 160, 160, 64) 256         conv1[0][0]                      \n",
      "__________________________________________________________________________________________________\n",
      "activation_99 (Activation)      (None, 160, 160, 64) 0           bn_conv1[0][0]                   \n",
      "__________________________________________________________________________________________________\n",
      "pool1_pad (ZeroPadding2D)       (None, 162, 162, 64) 0           activation_99[0][0]              \n",
      "__________________________________________________________________________________________________\n",
      "max_pooling2d_3 (MaxPooling2D)  (None, 80, 80, 64)   0           pool1_pad[0][0]                  \n",
      "__________________________________________________________________________________________________\n",
      "res2a_branch2a (Conv2D)         (None, 80, 80, 64)   4160        max_pooling2d_3[0][0]            \n",
      "__________________________________________________________________________________________________\n",
      "bn2a_branch2a (BatchNormalizati (None, 80, 80, 64)   256         res2a_branch2a[0][0]             \n",
      "__________________________________________________________________________________________________\n",
      "activation_100 (Activation)     (None, 80, 80, 64)   0           bn2a_branch2a[0][0]              \n",
      "__________________________________________________________________________________________________\n",
      "res2a_branch2b (Conv2D)         (None, 80, 80, 64)   36928       activation_100[0][0]             \n",
      "__________________________________________________________________________________________________\n",
      "bn2a_branch2b (BatchNormalizati (None, 80, 80, 64)   256         res2a_branch2b[0][0]             \n",
      "__________________________________________________________________________________________________\n",
      "activation_101 (Activation)     (None, 80, 80, 64)   0           bn2a_branch2b[0][0]              \n",
      "__________________________________________________________________________________________________\n",
      "res2a_branch2c (Conv2D)         (None, 80, 80, 256)  16640       activation_101[0][0]             \n",
      "__________________________________________________________________________________________________\n",
      "res2a_branch1 (Conv2D)          (None, 80, 80, 256)  16640       max_pooling2d_3[0][0]            \n",
      "__________________________________________________________________________________________________\n",
      "bn2a_branch2c (BatchNormalizati (None, 80, 80, 256)  1024        res2a_branch2c[0][0]             \n",
      "__________________________________________________________________________________________________\n",
      "bn2a_branch1 (BatchNormalizatio (None, 80, 80, 256)  1024        res2a_branch1[0][0]              \n",
      "__________________________________________________________________________________________________\n",
      "add_33 (Add)                    (None, 80, 80, 256)  0           bn2a_branch2c[0][0]              \n",
      "                                                                 bn2a_branch1[0][0]               \n",
      "__________________________________________________________________________________________________\n",
      "activation_102 (Activation)     (None, 80, 80, 256)  0           add_33[0][0]                     \n",
      "__________________________________________________________________________________________________\n",
      "res2b_branch2a (Conv2D)         (None, 80, 80, 64)   16448       activation_102[0][0]             \n",
      "__________________________________________________________________________________________________\n",
      "bn2b_branch2a (BatchNormalizati (None, 80, 80, 64)   256         res2b_branch2a[0][0]             \n",
      "__________________________________________________________________________________________________\n",
      "activation_103 (Activation)     (None, 80, 80, 64)   0           bn2b_branch2a[0][0]              \n",
      "__________________________________________________________________________________________________\n",
      "res2b_branch2b (Conv2D)         (None, 80, 80, 64)   36928       activation_103[0][0]             \n",
      "__________________________________________________________________________________________________\n",
      "bn2b_branch2b (BatchNormalizati (None, 80, 80, 64)   256         res2b_branch2b[0][0]             \n",
      "__________________________________________________________________________________________________\n",
      "activation_104 (Activation)     (None, 80, 80, 64)   0           bn2b_branch2b[0][0]              \n",
      "__________________________________________________________________________________________________\n",
      "res2b_branch2c (Conv2D)         (None, 80, 80, 256)  16640       activation_104[0][0]             \n",
      "__________________________________________________________________________________________________\n",
      "bn2b_branch2c (BatchNormalizati (None, 80, 80, 256)  1024        res2b_branch2c[0][0]             \n",
      "__________________________________________________________________________________________________\n",
      "add_34 (Add)                    (None, 80, 80, 256)  0           bn2b_branch2c[0][0]              \n",
      "                                                                 activation_102[0][0]             \n",
      "__________________________________________________________________________________________________\n",
      "activation_105 (Activation)     (None, 80, 80, 256)  0           add_34[0][0]                     \n",
      "__________________________________________________________________________________________________\n",
      "res2c_branch2a (Conv2D)         (None, 80, 80, 64)   16448       activation_105[0][0]             \n",
      "__________________________________________________________________________________________________\n",
      "bn2c_branch2a (BatchNormalizati (None, 80, 80, 64)   256         res2c_branch2a[0][0]             \n",
      "__________________________________________________________________________________________________\n",
      "activation_106 (Activation)     (None, 80, 80, 64)   0           bn2c_branch2a[0][0]              \n",
      "__________________________________________________________________________________________________\n",
      "res2c_branch2b (Conv2D)         (None, 80, 80, 64)   36928       activation_106[0][0]             \n",
      "__________________________________________________________________________________________________\n",
      "bn2c_branch2b (BatchNormalizati (None, 80, 80, 64)   256         res2c_branch2b[0][0]             \n",
      "__________________________________________________________________________________________________\n",
      "activation_107 (Activation)     (None, 80, 80, 64)   0           bn2c_branch2b[0][0]              \n",
      "__________________________________________________________________________________________________\n",
      "res2c_branch2c (Conv2D)         (None, 80, 80, 256)  16640       activation_107[0][0]             \n",
      "__________________________________________________________________________________________________\n",
      "bn2c_branch2c (BatchNormalizati (None, 80, 80, 256)  1024        res2c_branch2c[0][0]             \n",
      "__________________________________________________________________________________________________\n",
      "add_35 (Add)                    (None, 80, 80, 256)  0           bn2c_branch2c[0][0]              \n",
      "                                                                 activation_105[0][0]             \n",
      "__________________________________________________________________________________________________\n",
      "activation_108 (Activation)     (None, 80, 80, 256)  0           add_35[0][0]                     \n",
      "__________________________________________________________________________________________________\n",
      "res3a_branch2a (Conv2D)         (None, 40, 40, 128)  32896       activation_108[0][0]             \n",
      "__________________________________________________________________________________________________\n",
      "bn3a_branch2a (BatchNormalizati (None, 40, 40, 128)  512         res3a_branch2a[0][0]             \n",
      "__________________________________________________________________________________________________\n",
      "activation_109 (Activation)     (None, 40, 40, 128)  0           bn3a_branch2a[0][0]              \n",
      "__________________________________________________________________________________________________\n",
      "res3a_branch2b (Conv2D)         (None, 40, 40, 128)  147584      activation_109[0][0]             \n",
      "__________________________________________________________________________________________________\n",
      "bn3a_branch2b (BatchNormalizati (None, 40, 40, 128)  512         res3a_branch2b[0][0]             \n",
      "__________________________________________________________________________________________________\n",
      "activation_110 (Activation)     (None, 40, 40, 128)  0           bn3a_branch2b[0][0]              \n",
      "__________________________________________________________________________________________________\n",
      "res3a_branch2c (Conv2D)         (None, 40, 40, 512)  66048       activation_110[0][0]             \n",
      "__________________________________________________________________________________________________\n",
      "res3a_branch1 (Conv2D)          (None, 40, 40, 512)  131584      activation_108[0][0]             \n",
      "__________________________________________________________________________________________________\n",
      "bn3a_branch2c (BatchNormalizati (None, 40, 40, 512)  2048        res3a_branch2c[0][0]             \n",
      "__________________________________________________________________________________________________\n",
      "bn3a_branch1 (BatchNormalizatio (None, 40, 40, 512)  2048        res3a_branch1[0][0]              \n",
      "__________________________________________________________________________________________________\n",
      "add_36 (Add)                    (None, 40, 40, 512)  0           bn3a_branch2c[0][0]              \n",
      "                                                                 bn3a_branch1[0][0]               \n",
      "__________________________________________________________________________________________________\n",
      "activation_111 (Activation)     (None, 40, 40, 512)  0           add_36[0][0]                     \n",
      "__________________________________________________________________________________________________\n",
      "res3b_branch2a (Conv2D)         (None, 40, 40, 128)  65664       activation_111[0][0]             \n",
      "__________________________________________________________________________________________________\n",
      "bn3b_branch2a (BatchNormalizati (None, 40, 40, 128)  512         res3b_branch2a[0][0]             \n",
      "__________________________________________________________________________________________________\n",
      "activation_112 (Activation)     (None, 40, 40, 128)  0           bn3b_branch2a[0][0]              \n",
      "__________________________________________________________________________________________________\n",
      "res3b_branch2b (Conv2D)         (None, 40, 40, 128)  147584      activation_112[0][0]             \n",
      "__________________________________________________________________________________________________\n",
      "bn3b_branch2b (BatchNormalizati (None, 40, 40, 128)  512         res3b_branch2b[0][0]             \n",
      "__________________________________________________________________________________________________\n",
      "activation_113 (Activation)     (None, 40, 40, 128)  0           bn3b_branch2b[0][0]              \n",
      "__________________________________________________________________________________________________\n",
      "res3b_branch2c (Conv2D)         (None, 40, 40, 512)  66048       activation_113[0][0]             \n",
      "__________________________________________________________________________________________________\n",
      "bn3b_branch2c (BatchNormalizati (None, 40, 40, 512)  2048        res3b_branch2c[0][0]             \n",
      "__________________________________________________________________________________________________\n",
      "add_37 (Add)                    (None, 40, 40, 512)  0           bn3b_branch2c[0][0]              \n",
      "                                                                 activation_111[0][0]             \n",
      "__________________________________________________________________________________________________\n",
      "activation_114 (Activation)     (None, 40, 40, 512)  0           add_37[0][0]                     \n",
      "__________________________________________________________________________________________________\n",
      "res3c_branch2a (Conv2D)         (None, 40, 40, 128)  65664       activation_114[0][0]             \n",
      "__________________________________________________________________________________________________\n",
      "bn3c_branch2a (BatchNormalizati (None, 40, 40, 128)  512         res3c_branch2a[0][0]             \n",
      "__________________________________________________________________________________________________\n",
      "activation_115 (Activation)     (None, 40, 40, 128)  0           bn3c_branch2a[0][0]              \n",
      "__________________________________________________________________________________________________\n",
      "res3c_branch2b (Conv2D)         (None, 40, 40, 128)  147584      activation_115[0][0]             \n",
      "__________________________________________________________________________________________________\n",
      "bn3c_branch2b (BatchNormalizati (None, 40, 40, 128)  512         res3c_branch2b[0][0]             \n",
      "__________________________________________________________________________________________________\n",
      "activation_116 (Activation)     (None, 40, 40, 128)  0           bn3c_branch2b[0][0]              \n",
      "__________________________________________________________________________________________________\n",
      "res3c_branch2c (Conv2D)         (None, 40, 40, 512)  66048       activation_116[0][0]             \n",
      "__________________________________________________________________________________________________\n",
      "bn3c_branch2c (BatchNormalizati (None, 40, 40, 512)  2048        res3c_branch2c[0][0]             \n",
      "__________________________________________________________________________________________________\n",
      "add_38 (Add)                    (None, 40, 40, 512)  0           bn3c_branch2c[0][0]              \n",
      "                                                                 activation_114[0][0]             \n",
      "__________________________________________________________________________________________________\n",
      "activation_117 (Activation)     (None, 40, 40, 512)  0           add_38[0][0]                     \n",
      "__________________________________________________________________________________________________\n",
      "res3d_branch2a (Conv2D)         (None, 40, 40, 128)  65664       activation_117[0][0]             \n",
      "__________________________________________________________________________________________________\n",
      "bn3d_branch2a (BatchNormalizati (None, 40, 40, 128)  512         res3d_branch2a[0][0]             \n",
      "__________________________________________________________________________________________________\n",
      "activation_118 (Activation)     (None, 40, 40, 128)  0           bn3d_branch2a[0][0]              \n",
      "__________________________________________________________________________________________________\n",
      "res3d_branch2b (Conv2D)         (None, 40, 40, 128)  147584      activation_118[0][0]             \n",
      "__________________________________________________________________________________________________\n",
      "bn3d_branch2b (BatchNormalizati (None, 40, 40, 128)  512         res3d_branch2b[0][0]             \n",
      "__________________________________________________________________________________________________\n",
      "activation_119 (Activation)     (None, 40, 40, 128)  0           bn3d_branch2b[0][0]              \n",
      "__________________________________________________________________________________________________\n",
      "res3d_branch2c (Conv2D)         (None, 40, 40, 512)  66048       activation_119[0][0]             \n",
      "__________________________________________________________________________________________________\n",
      "bn3d_branch2c (BatchNormalizati (None, 40, 40, 512)  2048        res3d_branch2c[0][0]             \n",
      "__________________________________________________________________________________________________\n",
      "add_39 (Add)                    (None, 40, 40, 512)  0           bn3d_branch2c[0][0]              \n",
      "                                                                 activation_117[0][0]             \n",
      "__________________________________________________________________________________________________\n",
      "activation_120 (Activation)     (None, 40, 40, 512)  0           add_39[0][0]                     \n",
      "__________________________________________________________________________________________________\n",
      "res4a_branch2a (Conv2D)         (None, 20, 20, 256)  131328      activation_120[0][0]             \n",
      "__________________________________________________________________________________________________\n",
      "bn4a_branch2a (BatchNormalizati (None, 20, 20, 256)  1024        res4a_branch2a[0][0]             \n",
      "__________________________________________________________________________________________________\n",
      "activation_121 (Activation)     (None, 20, 20, 256)  0           bn4a_branch2a[0][0]              \n",
      "__________________________________________________________________________________________________\n",
      "res4a_branch2b (Conv2D)         (None, 20, 20, 256)  590080      activation_121[0][0]             \n",
      "__________________________________________________________________________________________________\n",
      "bn4a_branch2b (BatchNormalizati (None, 20, 20, 256)  1024        res4a_branch2b[0][0]             \n",
      "__________________________________________________________________________________________________\n",
      "activation_122 (Activation)     (None, 20, 20, 256)  0           bn4a_branch2b[0][0]              \n",
      "__________________________________________________________________________________________________\n",
      "res4a_branch2c (Conv2D)         (None, 20, 20, 1024) 263168      activation_122[0][0]             \n",
      "__________________________________________________________________________________________________\n",
      "res4a_branch1 (Conv2D)          (None, 20, 20, 1024) 525312      activation_120[0][0]             \n",
      "__________________________________________________________________________________________________\n",
      "bn4a_branch2c (BatchNormalizati (None, 20, 20, 1024) 4096        res4a_branch2c[0][0]             \n",
      "__________________________________________________________________________________________________\n",
      "bn4a_branch1 (BatchNormalizatio (None, 20, 20, 1024) 4096        res4a_branch1[0][0]              \n",
      "__________________________________________________________________________________________________\n",
      "add_40 (Add)                    (None, 20, 20, 1024) 0           bn4a_branch2c[0][0]              \n",
      "                                                                 bn4a_branch1[0][0]               \n",
      "__________________________________________________________________________________________________\n",
      "activation_123 (Activation)     (None, 20, 20, 1024) 0           add_40[0][0]                     \n",
      "__________________________________________________________________________________________________\n",
      "res4b_branch2a (Conv2D)         (None, 20, 20, 256)  262400      activation_123[0][0]             \n",
      "__________________________________________________________________________________________________\n",
      "bn4b_branch2a (BatchNormalizati (None, 20, 20, 256)  1024        res4b_branch2a[0][0]             \n",
      "__________________________________________________________________________________________________\n",
      "activation_124 (Activation)     (None, 20, 20, 256)  0           bn4b_branch2a[0][0]              \n",
      "__________________________________________________________________________________________________\n",
      "res4b_branch2b (Conv2D)         (None, 20, 20, 256)  590080      activation_124[0][0]             \n",
      "__________________________________________________________________________________________________\n",
      "bn4b_branch2b (BatchNormalizati (None, 20, 20, 256)  1024        res4b_branch2b[0][0]             \n",
      "__________________________________________________________________________________________________\n",
      "activation_125 (Activation)     (None, 20, 20, 256)  0           bn4b_branch2b[0][0]              \n",
      "__________________________________________________________________________________________________\n",
      "res4b_branch2c (Conv2D)         (None, 20, 20, 1024) 263168      activation_125[0][0]             \n",
      "__________________________________________________________________________________________________\n",
      "bn4b_branch2c (BatchNormalizati (None, 20, 20, 1024) 4096        res4b_branch2c[0][0]             \n",
      "__________________________________________________________________________________________________\n",
      "add_41 (Add)                    (None, 20, 20, 1024) 0           bn4b_branch2c[0][0]              \n",
      "                                                                 activation_123[0][0]             \n",
      "__________________________________________________________________________________________________\n",
      "activation_126 (Activation)     (None, 20, 20, 1024) 0           add_41[0][0]                     \n",
      "__________________________________________________________________________________________________\n",
      "res4c_branch2a (Conv2D)         (None, 20, 20, 256)  262400      activation_126[0][0]             \n",
      "__________________________________________________________________________________________________\n",
      "bn4c_branch2a (BatchNormalizati (None, 20, 20, 256)  1024        res4c_branch2a[0][0]             \n",
      "__________________________________________________________________________________________________\n",
      "activation_127 (Activation)     (None, 20, 20, 256)  0           bn4c_branch2a[0][0]              \n",
      "__________________________________________________________________________________________________\n",
      "res4c_branch2b (Conv2D)         (None, 20, 20, 256)  590080      activation_127[0][0]             \n",
      "__________________________________________________________________________________________________\n",
      "bn4c_branch2b (BatchNormalizati (None, 20, 20, 256)  1024        res4c_branch2b[0][0]             \n",
      "__________________________________________________________________________________________________\n",
      "activation_128 (Activation)     (None, 20, 20, 256)  0           bn4c_branch2b[0][0]              \n",
      "__________________________________________________________________________________________________\n",
      "res4c_branch2c (Conv2D)         (None, 20, 20, 1024) 263168      activation_128[0][0]             \n",
      "__________________________________________________________________________________________________\n",
      "bn4c_branch2c (BatchNormalizati (None, 20, 20, 1024) 4096        res4c_branch2c[0][0]             \n",
      "__________________________________________________________________________________________________\n",
      "add_42 (Add)                    (None, 20, 20, 1024) 0           bn4c_branch2c[0][0]              \n",
      "                                                                 activation_126[0][0]             \n",
      "__________________________________________________________________________________________________\n",
      "activation_129 (Activation)     (None, 20, 20, 1024) 0           add_42[0][0]                     \n",
      "__________________________________________________________________________________________________\n",
      "res4d_branch2a (Conv2D)         (None, 20, 20, 256)  262400      activation_129[0][0]             \n",
      "__________________________________________________________________________________________________\n",
      "bn4d_branch2a (BatchNormalizati (None, 20, 20, 256)  1024        res4d_branch2a[0][0]             \n",
      "__________________________________________________________________________________________________\n",
      "activation_130 (Activation)     (None, 20, 20, 256)  0           bn4d_branch2a[0][0]              \n",
      "__________________________________________________________________________________________________\n",
      "res4d_branch2b (Conv2D)         (None, 20, 20, 256)  590080      activation_130[0][0]             \n",
      "__________________________________________________________________________________________________\n",
      "bn4d_branch2b (BatchNormalizati (None, 20, 20, 256)  1024        res4d_branch2b[0][0]             \n",
      "__________________________________________________________________________________________________\n",
      "activation_131 (Activation)     (None, 20, 20, 256)  0           bn4d_branch2b[0][0]              \n",
      "__________________________________________________________________________________________________\n",
      "res4d_branch2c (Conv2D)         (None, 20, 20, 1024) 263168      activation_131[0][0]             \n",
      "__________________________________________________________________________________________________\n",
      "bn4d_branch2c (BatchNormalizati (None, 20, 20, 1024) 4096        res4d_branch2c[0][0]             \n",
      "__________________________________________________________________________________________________\n",
      "add_43 (Add)                    (None, 20, 20, 1024) 0           bn4d_branch2c[0][0]              \n",
      "                                                                 activation_129[0][0]             \n",
      "__________________________________________________________________________________________________\n",
      "activation_132 (Activation)     (None, 20, 20, 1024) 0           add_43[0][0]                     \n",
      "__________________________________________________________________________________________________\n",
      "res4e_branch2a (Conv2D)         (None, 20, 20, 256)  262400      activation_132[0][0]             \n",
      "__________________________________________________________________________________________________\n",
      "bn4e_branch2a (BatchNormalizati (None, 20, 20, 256)  1024        res4e_branch2a[0][0]             \n",
      "__________________________________________________________________________________________________\n",
      "activation_133 (Activation)     (None, 20, 20, 256)  0           bn4e_branch2a[0][0]              \n",
      "__________________________________________________________________________________________________\n",
      "res4e_branch2b (Conv2D)         (None, 20, 20, 256)  590080      activation_133[0][0]             \n",
      "__________________________________________________________________________________________________\n",
      "bn4e_branch2b (BatchNormalizati (None, 20, 20, 256)  1024        res4e_branch2b[0][0]             \n",
      "__________________________________________________________________________________________________\n",
      "activation_134 (Activation)     (None, 20, 20, 256)  0           bn4e_branch2b[0][0]              \n",
      "__________________________________________________________________________________________________\n",
      "res4e_branch2c (Conv2D)         (None, 20, 20, 1024) 263168      activation_134[0][0]             \n",
      "__________________________________________________________________________________________________\n",
      "bn4e_branch2c (BatchNormalizati (None, 20, 20, 1024) 4096        res4e_branch2c[0][0]             \n",
      "__________________________________________________________________________________________________\n",
      "add_44 (Add)                    (None, 20, 20, 1024) 0           bn4e_branch2c[0][0]              \n",
      "                                                                 activation_132[0][0]             \n",
      "__________________________________________________________________________________________________\n",
      "activation_135 (Activation)     (None, 20, 20, 1024) 0           add_44[0][0]                     \n",
      "__________________________________________________________________________________________________\n",
      "res4f_branch2a (Conv2D)         (None, 20, 20, 256)  262400      activation_135[0][0]             \n",
      "__________________________________________________________________________________________________\n",
      "bn4f_branch2a (BatchNormalizati (None, 20, 20, 256)  1024        res4f_branch2a[0][0]             \n",
      "__________________________________________________________________________________________________\n",
      "activation_136 (Activation)     (None, 20, 20, 256)  0           bn4f_branch2a[0][0]              \n",
      "__________________________________________________________________________________________________\n",
      "res4f_branch2b (Conv2D)         (None, 20, 20, 256)  590080      activation_136[0][0]             \n",
      "__________________________________________________________________________________________________\n",
      "bn4f_branch2b (BatchNormalizati (None, 20, 20, 256)  1024        res4f_branch2b[0][0]             \n",
      "__________________________________________________________________________________________________\n",
      "activation_137 (Activation)     (None, 20, 20, 256)  0           bn4f_branch2b[0][0]              \n",
      "__________________________________________________________________________________________________\n",
      "res4f_branch2c (Conv2D)         (None, 20, 20, 1024) 263168      activation_137[0][0]             \n",
      "__________________________________________________________________________________________________\n",
      "bn4f_branch2c (BatchNormalizati (None, 20, 20, 1024) 4096        res4f_branch2c[0][0]             \n",
      "__________________________________________________________________________________________________\n",
      "add_45 (Add)                    (None, 20, 20, 1024) 0           bn4f_branch2c[0][0]              \n",
      "                                                                 activation_135[0][0]             \n",
      "__________________________________________________________________________________________________\n",
      "activation_138 (Activation)     (None, 20, 20, 1024) 0           add_45[0][0]                     \n",
      "__________________________________________________________________________________________________\n",
      "res5a_branch2a (Conv2D)         (None, 10, 10, 512)  524800      activation_138[0][0]             \n",
      "__________________________________________________________________________________________________\n",
      "bn5a_branch2a (BatchNormalizati (None, 10, 10, 512)  2048        res5a_branch2a[0][0]             \n",
      "__________________________________________________________________________________________________\n",
      "activation_139 (Activation)     (None, 10, 10, 512)  0           bn5a_branch2a[0][0]              \n",
      "__________________________________________________________________________________________________\n",
      "res5a_branch2b (Conv2D)         (None, 10, 10, 512)  2359808     activation_139[0][0]             \n",
      "__________________________________________________________________________________________________\n",
      "bn5a_branch2b (BatchNormalizati (None, 10, 10, 512)  2048        res5a_branch2b[0][0]             \n",
      "__________________________________________________________________________________________________\n",
      "activation_140 (Activation)     (None, 10, 10, 512)  0           bn5a_branch2b[0][0]              \n",
      "__________________________________________________________________________________________________\n",
      "res5a_branch2c (Conv2D)         (None, 10, 10, 2048) 1050624     activation_140[0][0]             \n",
      "__________________________________________________________________________________________________\n",
      "res5a_branch1 (Conv2D)          (None, 10, 10, 2048) 2099200     activation_138[0][0]             \n",
      "__________________________________________________________________________________________________\n",
      "bn5a_branch2c (BatchNormalizati (None, 10, 10, 2048) 8192        res5a_branch2c[0][0]             \n",
      "__________________________________________________________________________________________________\n",
      "bn5a_branch1 (BatchNormalizatio (None, 10, 10, 2048) 8192        res5a_branch1[0][0]              \n",
      "__________________________________________________________________________________________________\n",
      "add_46 (Add)                    (None, 10, 10, 2048) 0           bn5a_branch2c[0][0]              \n",
      "                                                                 bn5a_branch1[0][0]               \n",
      "__________________________________________________________________________________________________\n",
      "activation_141 (Activation)     (None, 10, 10, 2048) 0           add_46[0][0]                     \n",
      "__________________________________________________________________________________________________\n",
      "res5b_branch2a (Conv2D)         (None, 10, 10, 512)  1049088     activation_141[0][0]             \n",
      "__________________________________________________________________________________________________\n",
      "bn5b_branch2a (BatchNormalizati (None, 10, 10, 512)  2048        res5b_branch2a[0][0]             \n",
      "__________________________________________________________________________________________________\n",
      "activation_142 (Activation)     (None, 10, 10, 512)  0           bn5b_branch2a[0][0]              \n",
      "__________________________________________________________________________________________________\n",
      "res5b_branch2b (Conv2D)         (None, 10, 10, 512)  2359808     activation_142[0][0]             \n",
      "__________________________________________________________________________________________________\n",
      "bn5b_branch2b (BatchNormalizati (None, 10, 10, 512)  2048        res5b_branch2b[0][0]             \n",
      "__________________________________________________________________________________________________\n",
      "activation_143 (Activation)     (None, 10, 10, 512)  0           bn5b_branch2b[0][0]              \n",
      "__________________________________________________________________________________________________\n",
      "res5b_branch2c (Conv2D)         (None, 10, 10, 2048) 1050624     activation_143[0][0]             \n",
      "__________________________________________________________________________________________________\n",
      "bn5b_branch2c (BatchNormalizati (None, 10, 10, 2048) 8192        res5b_branch2c[0][0]             \n",
      "__________________________________________________________________________________________________\n",
      "add_47 (Add)                    (None, 10, 10, 2048) 0           bn5b_branch2c[0][0]              \n",
      "                                                                 activation_141[0][0]             \n",
      "__________________________________________________________________________________________________\n",
      "activation_144 (Activation)     (None, 10, 10, 2048) 0           add_47[0][0]                     \n",
      "__________________________________________________________________________________________________\n",
      "res5c_branch2a (Conv2D)         (None, 10, 10, 512)  1049088     activation_144[0][0]             \n",
      "__________________________________________________________________________________________________\n",
      "bn5c_branch2a (BatchNormalizati (None, 10, 10, 512)  2048        res5c_branch2a[0][0]             \n",
      "__________________________________________________________________________________________________\n",
      "activation_145 (Activation)     (None, 10, 10, 512)  0           bn5c_branch2a[0][0]              \n",
      "__________________________________________________________________________________________________\n",
      "res5c_branch2b (Conv2D)         (None, 10, 10, 512)  2359808     activation_145[0][0]             \n",
      "__________________________________________________________________________________________________\n",
      "bn5c_branch2b (BatchNormalizati (None, 10, 10, 512)  2048        res5c_branch2b[0][0]             \n",
      "__________________________________________________________________________________________________\n",
      "activation_146 (Activation)     (None, 10, 10, 512)  0           bn5c_branch2b[0][0]              \n",
      "__________________________________________________________________________________________________\n",
      "res5c_branch2c (Conv2D)         (None, 10, 10, 2048) 1050624     activation_146[0][0]             \n",
      "__________________________________________________________________________________________________\n",
      "bn5c_branch2c (BatchNormalizati (None, 10, 10, 2048) 8192        res5c_branch2c[0][0]             \n",
      "__________________________________________________________________________________________________\n",
      "add_48 (Add)                    (None, 10, 10, 2048) 0           bn5c_branch2c[0][0]              \n",
      "                                                                 activation_144[0][0]             \n",
      "__________________________________________________________________________________________________\n",
      "activation_147 (Activation)     (None, 10, 10, 2048) 0           add_48[0][0]                     \n",
      "__________________________________________________________________________________________________\n",
      "global_average_pooling2d_3 (Glo (None, 2048)         0           activation_147[0][0]             \n",
      "__________________________________________________________________________________________________\n",
      "global_max_pooling2d_3 (GlobalM (None, 2048)         0           activation_147[0][0]             \n",
      "__________________________________________________________________________________________________\n",
      "batch_normalization_5 (BatchNor (None, 2048)         8192        global_average_pooling2d_3[0][0] \n",
      "__________________________________________________________________________________________________\n",
      "batch_normalization_6 (BatchNor (None, 2048)         8192        global_max_pooling2d_3[0][0]     \n",
      "__________________________________________________________________________________________________\n",
      "concatenate_3 (Concatenate)     (None, 4096)         0           batch_normalization_5[0][0]      \n",
      "                                                                 batch_normalization_6[0][0]      \n",
      "__________________________________________________________________________________________________\n",
      "dense_7 (Dense)                 (None, 2048)         8390656     concatenate_3[0][0]              \n",
      "__________________________________________________________________________________________________\n",
      "dense_8 (Dense)                 (None, 2048)         8390656     concatenate_3[0][0]              \n",
      "__________________________________________________________________________________________________\n",
      "dense_9 (Dense)                 (None, 2048)         8390656     concatenate_3[0][0]              \n",
      "__________________________________________________________________________________________________\n",
      "dropout_7 (Dropout)             (None, 2048)         0           dense_7[0][0]                    \n",
      "__________________________________________________________________________________________________\n",
      "dropout_8 (Dropout)             (None, 2048)         0           dense_8[0][0]                    \n",
      "__________________________________________________________________________________________________\n",
      "dropout_9 (Dropout)             (None, 2048)         0           dense_9[0][0]                    \n",
      "__________________________________________________________________________________________________\n",
      "regression_output (Dense)       (None, 1)            2049        dropout_7[0][0]                  \n",
      "__________________________________________________________________________________________________\n",
      "classification_output (Dense)   (None, 5)            10245       dropout_8[0][0]                  \n",
      "__________________________________________________________________________________________________\n",
      "ordinal_regression_output (Dens (None, 5)            10245       dropout_9[0][0]                  \n",
      "==================================================================================================\n",
      "Total params: 72,333,195\n",
      "Trainable params: 48,737,291\n",
      "Non-trainable params: 23,595,904\n",
      "__________________________________________________________________________________________________\n"
     ]
    },
    {
     "name": "stderr",
     "output_type": "stream",
     "text": [
      "/usr/local/lib/python3.6/dist-packages/keras/engine/training.py:297: UserWarning: Discrepancy between trainable weights and collected trainable weights, did you set `model.trainable` without calling `model.compile` after ?\n",
      "  'Discrepancy between trainable weights and collected trainable'\n"
     ]
    }
   ],
   "source": [
    "# Freezing the Encoder Layers Training..(Only Last 14 layers are trainable) for 5 Epochs (Warming up the Weights for Main Training)\n",
    "\n",
    "for layer in model.layers:\n",
    "    layer.trainable = False\n",
    "\n",
    "for i in range(-14,0):\n",
    "  model.layers[i].trainable = True\n",
    "\n",
    "model.summary()"
   ]
  },
  {
   "cell_type": "code",
   "execution_count": 0,
   "metadata": {
    "colab": {},
    "colab_type": "code",
    "id": "5dJgeOMnRl3G"
   },
   "outputs": [],
   "source": [
    "# ref - https://github.com/umbertogriffo/focal-loss-keras/blob/master/losses.py\n",
    "\n",
    "'''Below Functions create custom loss functions - Categorical Focal Loss, Binary Focal Loss'''\n",
    "\n",
    "def binary_focal_loss(gamma=2., alpha=.25):\n",
    "    \"\"\"\n",
    "    Binary form of focal loss.\n",
    "      FL(p_t) = -alpha * (1 - p_t)**gamma * log(p_t)\n",
    "      where p = sigmoid(x), p_t = p or 1 - p depending on if the label is 1 or 0, respectively.\n",
    "    References:\n",
    "        https://arxiv.org/pdf/1708.02002.pdf\n",
    "    Usage:\n",
    "     model.compile(loss=[binary_focal_loss(alpha=.25, gamma=2)], metrics=[\"accuracy\"], optimizer=adam)\n",
    "    \"\"\"\n",
    "    def binary_focal_loss_fixed(y_true, y_pred):\n",
    "        \"\"\"\n",
    "        :param y_true: A tensor of the same shape as `y_pred`\n",
    "        :param y_pred:  A tensor resulting from a sigmoid\n",
    "        :return: Output tensor.\n",
    "        \"\"\"\n",
    "        pt_1 = tf.where(tf.equal(y_true, 1), y_pred, tf.ones_like(y_pred))\n",
    "        pt_0 = tf.where(tf.equal(y_true, 0), y_pred, tf.zeros_like(y_pred))\n",
    "\n",
    "        epsilon = K.epsilon()\n",
    "        # clip to prevent NaN's and Inf's\n",
    "        pt_1 = K.clip(pt_1, epsilon, 1. - epsilon)\n",
    "        pt_0 = K.clip(pt_0, epsilon, 1. - epsilon)\n",
    "\n",
    "        return -K.mean(alpha * K.pow(1. - pt_1, gamma) * K.log(pt_1)) \\\n",
    "               -K.mean((1 - alpha) * K.pow(pt_0, gamma) * K.log(1. - pt_0))\n",
    "\n",
    "    return binary_focal_loss_fixed"
   ]
  },
  {
   "cell_type": "code",
   "execution_count": 0,
   "metadata": {
    "colab": {},
    "colab_type": "code",
    "id": "JDC7DXOGtaa-"
   },
   "outputs": [],
   "source": [
    "def categorical_focal_loss(gamma=2., alpha=.25):\n",
    "    \"\"\"\n",
    "    Softmax version of focal loss.\n",
    "           m\n",
    "      FL = ∑  -alpha * (1 - p_o,c)^gamma * y_o,c * log(p_o,c)\n",
    "          c=1\n",
    "      where m = number of classes, c = class and o = observation\n",
    "    Parameters:\n",
    "      alpha -- the same as weighing factor in balanced cross entropy\n",
    "      gamma -- focusing parameter for modulating factor (1-p)\n",
    "    Default value:\n",
    "      gamma -- 2.0 as mentioned in the paper\n",
    "      alpha -- 0.25 as mentioned in the paper\n",
    "    References:\n",
    "        Official paper: https://arxiv.org/pdf/1708.02002.pdf\n",
    "        https://www.tensorflow.org/api_docs/python/tf/keras/backend/categorical_crossentropy\n",
    "    Usage:\n",
    "     model.compile(loss=[categorical_focal_loss(alpha=.25, gamma=2)], metrics=[\"accuracy\"], optimizer=adam)\n",
    "    \"\"\"\n",
    "    def categorical_focal_loss_fixed(y_true, y_pred):\n",
    "        \"\"\"\n",
    "        :param y_true: A tensor of the same shape as `y_pred`\n",
    "        :param y_pred: A tensor resulting from a softmax\n",
    "        :return: Output tensor.\n",
    "        \"\"\"\n",
    "\n",
    "        # Scale predictions so that the class probas of each sample sum to 1\n",
    "        y_pred /= K.sum(y_pred, axis=-1, keepdims=True)\n",
    "\n",
    "        # Clip the prediction value to prevent NaN's and Inf's\n",
    "        epsilon = K.epsilon()\n",
    "        y_pred = K.clip(y_pred, epsilon, 1. - epsilon)\n",
    "\n",
    "        # Calculate Cross Entropy\n",
    "        cross_entropy = -y_true * K.log(y_pred)\n",
    "\n",
    "        # Calculate Focal Loss\n",
    "        loss = alpha * K.pow(1 - y_pred, gamma) * cross_entropy\n",
    "\n",
    "        # Compute mean loss in mini_batch\n",
    "        return K.mean(loss, axis=1)\n",
    "\n",
    "    return categorical_focal_loss_fixed"
   ]
  },
  {
   "cell_type": "code",
   "execution_count": 0,
   "metadata": {
    "colab": {
     "base_uri": "https://localhost:8080/",
     "height": 272
    },
    "colab_type": "code",
    "id": "tyP6URxCtk_G",
    "outputId": "30cc874e-4bea-4ab2-8c4f-dd541d062c23"
   },
   "outputs": [
    {
     "name": "stdout",
     "output_type": "stream",
     "text": [
      "Epoch 1/5\n"
     ]
    },
    {
     "name": "stderr",
     "output_type": "stream",
     "text": [
      "/usr/local/lib/python3.6/dist-packages/keras_preprocessing/image/image_data_generator.py:716: UserWarning: This ImageDataGenerator specifies `featurewise_center`, but it hasn't been fit on any training data. Fit it first by calling `.fit(numpy_data)`.\n",
      "  warnings.warn('This ImageDataGenerator specifies '\n",
      "/usr/local/lib/python3.6/dist-packages/keras_preprocessing/image/image_data_generator.py:735: UserWarning: This ImageDataGenerator specifies `zca_whitening`, but it hasn't been fit on any training data. Fit it first by calling `.fit(numpy_data)`.\n",
      "  warnings.warn('This ImageDataGenerator specifies '\n"
     ]
    },
    {
     "name": "stdout",
     "output_type": "stream",
     "text": [
      "91/91 [==============================] - 148s 2s/step - loss: 2.5590 - regression_output_loss: 2.3655 - classification_output_loss: 0.0419 - ordinal_regression_output_loss: 0.1518 - regression_output_accuracy: 0.2552 - classification_output_accuracy: 0.6226 - ordinal_regression_output_accuracy: 0.6634 - val_loss: 1.7189 - val_regression_output_loss: 1.1061 - val_classification_output_loss: 0.0382 - val_ordinal_regression_output_loss: 0.1158 - val_regression_output_accuracy: 0.3981 - val_classification_output_accuracy: 0.6188 - val_ordinal_regression_output_accuracy: 0.7685\n",
      "Epoch 2/5\n",
      "91/91 [==============================] - 128s 1s/step - loss: 2.6535 - regression_output_loss: 2.4601 - classification_output_loss: 0.0431 - ordinal_regression_output_loss: 0.1503 - regression_output_accuracy: 0.2615 - classification_output_accuracy: 0.6271 - ordinal_regression_output_accuracy: 0.6781 - val_loss: 1.4155 - val_regression_output_loss: 1.1397 - val_classification_output_loss: 0.0335 - val_ordinal_regression_output_loss: 0.1182 - val_regression_output_accuracy: 0.3912 - val_classification_output_accuracy: 0.6593 - val_ordinal_regression_output_accuracy: 0.7555\n",
      "Epoch 3/5\n",
      "91/91 [==============================] - 128s 1s/step - loss: 2.6969 - regression_output_loss: 2.5007 - classification_output_loss: 0.0412 - ordinal_regression_output_loss: 0.1551 - regression_output_accuracy: 0.2573 - classification_output_accuracy: 0.6333 - ordinal_regression_output_accuracy: 0.6877 - val_loss: 1.1441 - val_regression_output_loss: 1.1301 - val_classification_output_loss: 0.0364 - val_ordinal_regression_output_loss: 0.1143 - val_regression_output_accuracy: 0.3935 - val_classification_output_accuracy: 0.6358 - val_ordinal_regression_output_accuracy: 0.7778\n",
      "Epoch 4/5\n",
      "91/91 [==============================] - 130s 1s/step - loss: 2.5449 - regression_output_loss: 2.3492 - classification_output_loss: 0.0418 - ordinal_regression_output_loss: 0.1539 - regression_output_accuracy: 0.2524 - classification_output_accuracy: 0.6188 - ordinal_regression_output_accuracy: 0.6742 - val_loss: 1.3834 - val_regression_output_loss: 1.0916 - val_classification_output_loss: 0.0343 - val_ordinal_regression_output_loss: 0.1150 - val_regression_output_accuracy: 0.4054 - val_classification_output_accuracy: 0.6451 - val_ordinal_regression_output_accuracy: 0.7902\n",
      "Epoch 5/5\n",
      "91/91 [==============================] - 130s 1s/step - loss: 2.4767 - regression_output_loss: 2.2821 - classification_output_loss: 0.0425 - ordinal_regression_output_loss: 0.1521 - regression_output_accuracy: 0.2684 - classification_output_accuracy: 0.6236 - ordinal_regression_output_accuracy: 0.6790 - val_loss: 1.0212 - val_regression_output_loss: 1.0832 - val_classification_output_loss: 0.0363 - val_ordinal_regression_output_loss: 0.1151 - val_regression_output_accuracy: 0.4090 - val_classification_output_accuracy: 0.6451 - val_ordinal_regression_output_accuracy: 0.7793\n"
     ]
    }
   ],
   "source": [
    "# ref - https://keras.io/getting-started/functional-api-guide/\n",
    "\n",
    "model.compile(optimizer = optimizers.Adam(lr=WARMUP_LEARNING_RATE),\n",
    "              loss={'regression_output': mean_squared_error, \n",
    "                    'classification_output': categorical_focal_loss(alpha=.25, gamma=2) ,\n",
    "                    'ordinal_regression_output' : binary_focal_loss(alpha=.25, gamma=2)\n",
    "                    },\n",
    "              metrics = ['accuracy'])\n",
    "\n",
    "history = model.fit_generator(generator=train_generator,\n",
    "                              steps_per_epoch=STEP_SIZE_TRAIN,\n",
    "                              validation_data=valid_generator,\n",
    "                              validation_steps=STEP_SIZE_VALID,\n",
    "                              epochs=5,\n",
    "                              callbacks = callback_list,\n",
    "                              verbose=1).history\n",
    "\n",
    "model.save(\"model_main_training.h5\")\n",
    "f = open(\"history_main_training\",\"wb\")\n",
    "pickle.dump(history,f)\n",
    "f.close()"
   ]
  },
  {
   "cell_type": "code",
   "execution_count": 0,
   "metadata": {
    "colab": {
     "base_uri": "https://localhost:8080/",
     "height": 1000
    },
    "colab_type": "code",
    "id": "HGzThk-2QeP7",
    "outputId": "a1e74209-0ab0-468a-f3fb-03cde94e8311"
   },
   "outputs": [
    {
     "name": "stdout",
     "output_type": "stream",
     "text": [
      "Model: \"model_3\"\n",
      "__________________________________________________________________________________________________\n",
      "Layer (type)                    Output Shape         Param #     Connected to                     \n",
      "==================================================================================================\n",
      "input_3 (InputLayer)            (None, 320, 320, 3)  0                                            \n",
      "__________________________________________________________________________________________________\n",
      "conv1_pad (ZeroPadding2D)       (None, 326, 326, 3)  0           input_3[0][0]                    \n",
      "__________________________________________________________________________________________________\n",
      "conv1 (Conv2D)                  (None, 160, 160, 64) 9472        conv1_pad[0][0]                  \n",
      "__________________________________________________________________________________________________\n",
      "bn_conv1 (BatchNormalization)   (None, 160, 160, 64) 256         conv1[0][0]                      \n",
      "__________________________________________________________________________________________________\n",
      "activation_99 (Activation)      (None, 160, 160, 64) 0           bn_conv1[0][0]                   \n",
      "__________________________________________________________________________________________________\n",
      "pool1_pad (ZeroPadding2D)       (None, 162, 162, 64) 0           activation_99[0][0]              \n",
      "__________________________________________________________________________________________________\n",
      "max_pooling2d_3 (MaxPooling2D)  (None, 80, 80, 64)   0           pool1_pad[0][0]                  \n",
      "__________________________________________________________________________________________________\n",
      "res2a_branch2a (Conv2D)         (None, 80, 80, 64)   4160        max_pooling2d_3[0][0]            \n",
      "__________________________________________________________________________________________________\n",
      "bn2a_branch2a (BatchNormalizati (None, 80, 80, 64)   256         res2a_branch2a[0][0]             \n",
      "__________________________________________________________________________________________________\n",
      "activation_100 (Activation)     (None, 80, 80, 64)   0           bn2a_branch2a[0][0]              \n",
      "__________________________________________________________________________________________________\n",
      "res2a_branch2b (Conv2D)         (None, 80, 80, 64)   36928       activation_100[0][0]             \n",
      "__________________________________________________________________________________________________\n",
      "bn2a_branch2b (BatchNormalizati (None, 80, 80, 64)   256         res2a_branch2b[0][0]             \n",
      "__________________________________________________________________________________________________\n",
      "activation_101 (Activation)     (None, 80, 80, 64)   0           bn2a_branch2b[0][0]              \n",
      "__________________________________________________________________________________________________\n",
      "res2a_branch2c (Conv2D)         (None, 80, 80, 256)  16640       activation_101[0][0]             \n",
      "__________________________________________________________________________________________________\n",
      "res2a_branch1 (Conv2D)          (None, 80, 80, 256)  16640       max_pooling2d_3[0][0]            \n",
      "__________________________________________________________________________________________________\n",
      "bn2a_branch2c (BatchNormalizati (None, 80, 80, 256)  1024        res2a_branch2c[0][0]             \n",
      "__________________________________________________________________________________________________\n",
      "bn2a_branch1 (BatchNormalizatio (None, 80, 80, 256)  1024        res2a_branch1[0][0]              \n",
      "__________________________________________________________________________________________________\n",
      "add_33 (Add)                    (None, 80, 80, 256)  0           bn2a_branch2c[0][0]              \n",
      "                                                                 bn2a_branch1[0][0]               \n",
      "__________________________________________________________________________________________________\n",
      "activation_102 (Activation)     (None, 80, 80, 256)  0           add_33[0][0]                     \n",
      "__________________________________________________________________________________________________\n",
      "res2b_branch2a (Conv2D)         (None, 80, 80, 64)   16448       activation_102[0][0]             \n",
      "__________________________________________________________________________________________________\n",
      "bn2b_branch2a (BatchNormalizati (None, 80, 80, 64)   256         res2b_branch2a[0][0]             \n",
      "__________________________________________________________________________________________________\n",
      "activation_103 (Activation)     (None, 80, 80, 64)   0           bn2b_branch2a[0][0]              \n",
      "__________________________________________________________________________________________________\n",
      "res2b_branch2b (Conv2D)         (None, 80, 80, 64)   36928       activation_103[0][0]             \n",
      "__________________________________________________________________________________________________\n",
      "bn2b_branch2b (BatchNormalizati (None, 80, 80, 64)   256         res2b_branch2b[0][0]             \n",
      "__________________________________________________________________________________________________\n",
      "activation_104 (Activation)     (None, 80, 80, 64)   0           bn2b_branch2b[0][0]              \n",
      "__________________________________________________________________________________________________\n",
      "res2b_branch2c (Conv2D)         (None, 80, 80, 256)  16640       activation_104[0][0]             \n",
      "__________________________________________________________________________________________________\n",
      "bn2b_branch2c (BatchNormalizati (None, 80, 80, 256)  1024        res2b_branch2c[0][0]             \n",
      "__________________________________________________________________________________________________\n",
      "add_34 (Add)                    (None, 80, 80, 256)  0           bn2b_branch2c[0][0]              \n",
      "                                                                 activation_102[0][0]             \n",
      "__________________________________________________________________________________________________\n",
      "activation_105 (Activation)     (None, 80, 80, 256)  0           add_34[0][0]                     \n",
      "__________________________________________________________________________________________________\n",
      "res2c_branch2a (Conv2D)         (None, 80, 80, 64)   16448       activation_105[0][0]             \n",
      "__________________________________________________________________________________________________\n",
      "bn2c_branch2a (BatchNormalizati (None, 80, 80, 64)   256         res2c_branch2a[0][0]             \n",
      "__________________________________________________________________________________________________\n",
      "activation_106 (Activation)     (None, 80, 80, 64)   0           bn2c_branch2a[0][0]              \n",
      "__________________________________________________________________________________________________\n",
      "res2c_branch2b (Conv2D)         (None, 80, 80, 64)   36928       activation_106[0][0]             \n",
      "__________________________________________________________________________________________________\n",
      "bn2c_branch2b (BatchNormalizati (None, 80, 80, 64)   256         res2c_branch2b[0][0]             \n",
      "__________________________________________________________________________________________________\n",
      "activation_107 (Activation)     (None, 80, 80, 64)   0           bn2c_branch2b[0][0]              \n",
      "__________________________________________________________________________________________________\n",
      "res2c_branch2c (Conv2D)         (None, 80, 80, 256)  16640       activation_107[0][0]             \n",
      "__________________________________________________________________________________________________\n",
      "bn2c_branch2c (BatchNormalizati (None, 80, 80, 256)  1024        res2c_branch2c[0][0]             \n",
      "__________________________________________________________________________________________________\n",
      "add_35 (Add)                    (None, 80, 80, 256)  0           bn2c_branch2c[0][0]              \n",
      "                                                                 activation_105[0][0]             \n",
      "__________________________________________________________________________________________________\n",
      "activation_108 (Activation)     (None, 80, 80, 256)  0           add_35[0][0]                     \n",
      "__________________________________________________________________________________________________\n",
      "res3a_branch2a (Conv2D)         (None, 40, 40, 128)  32896       activation_108[0][0]             \n",
      "__________________________________________________________________________________________________\n",
      "bn3a_branch2a (BatchNormalizati (None, 40, 40, 128)  512         res3a_branch2a[0][0]             \n",
      "__________________________________________________________________________________________________\n",
      "activation_109 (Activation)     (None, 40, 40, 128)  0           bn3a_branch2a[0][0]              \n",
      "__________________________________________________________________________________________________\n",
      "res3a_branch2b (Conv2D)         (None, 40, 40, 128)  147584      activation_109[0][0]             \n",
      "__________________________________________________________________________________________________\n",
      "bn3a_branch2b (BatchNormalizati (None, 40, 40, 128)  512         res3a_branch2b[0][0]             \n",
      "__________________________________________________________________________________________________\n",
      "activation_110 (Activation)     (None, 40, 40, 128)  0           bn3a_branch2b[0][0]              \n",
      "__________________________________________________________________________________________________\n",
      "res3a_branch2c (Conv2D)         (None, 40, 40, 512)  66048       activation_110[0][0]             \n",
      "__________________________________________________________________________________________________\n",
      "res3a_branch1 (Conv2D)          (None, 40, 40, 512)  131584      activation_108[0][0]             \n",
      "__________________________________________________________________________________________________\n",
      "bn3a_branch2c (BatchNormalizati (None, 40, 40, 512)  2048        res3a_branch2c[0][0]             \n",
      "__________________________________________________________________________________________________\n",
      "bn3a_branch1 (BatchNormalizatio (None, 40, 40, 512)  2048        res3a_branch1[0][0]              \n",
      "__________________________________________________________________________________________________\n",
      "add_36 (Add)                    (None, 40, 40, 512)  0           bn3a_branch2c[0][0]              \n",
      "                                                                 bn3a_branch1[0][0]               \n",
      "__________________________________________________________________________________________________\n",
      "activation_111 (Activation)     (None, 40, 40, 512)  0           add_36[0][0]                     \n",
      "__________________________________________________________________________________________________\n",
      "res3b_branch2a (Conv2D)         (None, 40, 40, 128)  65664       activation_111[0][0]             \n",
      "__________________________________________________________________________________________________\n",
      "bn3b_branch2a (BatchNormalizati (None, 40, 40, 128)  512         res3b_branch2a[0][0]             \n",
      "__________________________________________________________________________________________________\n",
      "activation_112 (Activation)     (None, 40, 40, 128)  0           bn3b_branch2a[0][0]              \n",
      "__________________________________________________________________________________________________\n",
      "res3b_branch2b (Conv2D)         (None, 40, 40, 128)  147584      activation_112[0][0]             \n",
      "__________________________________________________________________________________________________\n",
      "bn3b_branch2b (BatchNormalizati (None, 40, 40, 128)  512         res3b_branch2b[0][0]             \n",
      "__________________________________________________________________________________________________\n",
      "activation_113 (Activation)     (None, 40, 40, 128)  0           bn3b_branch2b[0][0]              \n",
      "__________________________________________________________________________________________________\n",
      "res3b_branch2c (Conv2D)         (None, 40, 40, 512)  66048       activation_113[0][0]             \n",
      "__________________________________________________________________________________________________\n",
      "bn3b_branch2c (BatchNormalizati (None, 40, 40, 512)  2048        res3b_branch2c[0][0]             \n",
      "__________________________________________________________________________________________________\n",
      "add_37 (Add)                    (None, 40, 40, 512)  0           bn3b_branch2c[0][0]              \n",
      "                                                                 activation_111[0][0]             \n",
      "__________________________________________________________________________________________________\n",
      "activation_114 (Activation)     (None, 40, 40, 512)  0           add_37[0][0]                     \n",
      "__________________________________________________________________________________________________\n",
      "res3c_branch2a (Conv2D)         (None, 40, 40, 128)  65664       activation_114[0][0]             \n",
      "__________________________________________________________________________________________________\n",
      "bn3c_branch2a (BatchNormalizati (None, 40, 40, 128)  512         res3c_branch2a[0][0]             \n",
      "__________________________________________________________________________________________________\n",
      "activation_115 (Activation)     (None, 40, 40, 128)  0           bn3c_branch2a[0][0]              \n",
      "__________________________________________________________________________________________________\n",
      "res3c_branch2b (Conv2D)         (None, 40, 40, 128)  147584      activation_115[0][0]             \n",
      "__________________________________________________________________________________________________\n",
      "bn3c_branch2b (BatchNormalizati (None, 40, 40, 128)  512         res3c_branch2b[0][0]             \n",
      "__________________________________________________________________________________________________\n",
      "activation_116 (Activation)     (None, 40, 40, 128)  0           bn3c_branch2b[0][0]              \n",
      "__________________________________________________________________________________________________\n",
      "res3c_branch2c (Conv2D)         (None, 40, 40, 512)  66048       activation_116[0][0]             \n",
      "__________________________________________________________________________________________________\n",
      "bn3c_branch2c (BatchNormalizati (None, 40, 40, 512)  2048        res3c_branch2c[0][0]             \n",
      "__________________________________________________________________________________________________\n",
      "add_38 (Add)                    (None, 40, 40, 512)  0           bn3c_branch2c[0][0]              \n",
      "                                                                 activation_114[0][0]             \n",
      "__________________________________________________________________________________________________\n",
      "activation_117 (Activation)     (None, 40, 40, 512)  0           add_38[0][0]                     \n",
      "__________________________________________________________________________________________________\n",
      "res3d_branch2a (Conv2D)         (None, 40, 40, 128)  65664       activation_117[0][0]             \n",
      "__________________________________________________________________________________________________\n",
      "bn3d_branch2a (BatchNormalizati (None, 40, 40, 128)  512         res3d_branch2a[0][0]             \n",
      "__________________________________________________________________________________________________\n",
      "activation_118 (Activation)     (None, 40, 40, 128)  0           bn3d_branch2a[0][0]              \n",
      "__________________________________________________________________________________________________\n",
      "res3d_branch2b (Conv2D)         (None, 40, 40, 128)  147584      activation_118[0][0]             \n",
      "__________________________________________________________________________________________________\n",
      "bn3d_branch2b (BatchNormalizati (None, 40, 40, 128)  512         res3d_branch2b[0][0]             \n",
      "__________________________________________________________________________________________________\n",
      "activation_119 (Activation)     (None, 40, 40, 128)  0           bn3d_branch2b[0][0]              \n",
      "__________________________________________________________________________________________________\n",
      "res3d_branch2c (Conv2D)         (None, 40, 40, 512)  66048       activation_119[0][0]             \n",
      "__________________________________________________________________________________________________\n",
      "bn3d_branch2c (BatchNormalizati (None, 40, 40, 512)  2048        res3d_branch2c[0][0]             \n",
      "__________________________________________________________________________________________________\n",
      "add_39 (Add)                    (None, 40, 40, 512)  0           bn3d_branch2c[0][0]              \n",
      "                                                                 activation_117[0][0]             \n",
      "__________________________________________________________________________________________________\n",
      "activation_120 (Activation)     (None, 40, 40, 512)  0           add_39[0][0]                     \n",
      "__________________________________________________________________________________________________\n",
      "res4a_branch2a (Conv2D)         (None, 20, 20, 256)  131328      activation_120[0][0]             \n",
      "__________________________________________________________________________________________________\n",
      "bn4a_branch2a (BatchNormalizati (None, 20, 20, 256)  1024        res4a_branch2a[0][0]             \n",
      "__________________________________________________________________________________________________\n",
      "activation_121 (Activation)     (None, 20, 20, 256)  0           bn4a_branch2a[0][0]              \n",
      "__________________________________________________________________________________________________\n",
      "res4a_branch2b (Conv2D)         (None, 20, 20, 256)  590080      activation_121[0][0]             \n",
      "__________________________________________________________________________________________________\n",
      "bn4a_branch2b (BatchNormalizati (None, 20, 20, 256)  1024        res4a_branch2b[0][0]             \n",
      "__________________________________________________________________________________________________\n",
      "activation_122 (Activation)     (None, 20, 20, 256)  0           bn4a_branch2b[0][0]              \n",
      "__________________________________________________________________________________________________\n",
      "res4a_branch2c (Conv2D)         (None, 20, 20, 1024) 263168      activation_122[0][0]             \n",
      "__________________________________________________________________________________________________\n",
      "res4a_branch1 (Conv2D)          (None, 20, 20, 1024) 525312      activation_120[0][0]             \n",
      "__________________________________________________________________________________________________\n",
      "bn4a_branch2c (BatchNormalizati (None, 20, 20, 1024) 4096        res4a_branch2c[0][0]             \n",
      "__________________________________________________________________________________________________\n",
      "bn4a_branch1 (BatchNormalizatio (None, 20, 20, 1024) 4096        res4a_branch1[0][0]              \n",
      "__________________________________________________________________________________________________\n",
      "add_40 (Add)                    (None, 20, 20, 1024) 0           bn4a_branch2c[0][0]              \n",
      "                                                                 bn4a_branch1[0][0]               \n",
      "__________________________________________________________________________________________________\n",
      "activation_123 (Activation)     (None, 20, 20, 1024) 0           add_40[0][0]                     \n",
      "__________________________________________________________________________________________________\n",
      "res4b_branch2a (Conv2D)         (None, 20, 20, 256)  262400      activation_123[0][0]             \n",
      "__________________________________________________________________________________________________\n",
      "bn4b_branch2a (BatchNormalizati (None, 20, 20, 256)  1024        res4b_branch2a[0][0]             \n",
      "__________________________________________________________________________________________________\n",
      "activation_124 (Activation)     (None, 20, 20, 256)  0           bn4b_branch2a[0][0]              \n",
      "__________________________________________________________________________________________________\n",
      "res4b_branch2b (Conv2D)         (None, 20, 20, 256)  590080      activation_124[0][0]             \n",
      "__________________________________________________________________________________________________\n",
      "bn4b_branch2b (BatchNormalizati (None, 20, 20, 256)  1024        res4b_branch2b[0][0]             \n",
      "__________________________________________________________________________________________________\n",
      "activation_125 (Activation)     (None, 20, 20, 256)  0           bn4b_branch2b[0][0]              \n",
      "__________________________________________________________________________________________________\n",
      "res4b_branch2c (Conv2D)         (None, 20, 20, 1024) 263168      activation_125[0][0]             \n",
      "__________________________________________________________________________________________________\n",
      "bn4b_branch2c (BatchNormalizati (None, 20, 20, 1024) 4096        res4b_branch2c[0][0]             \n",
      "__________________________________________________________________________________________________\n",
      "add_41 (Add)                    (None, 20, 20, 1024) 0           bn4b_branch2c[0][0]              \n",
      "                                                                 activation_123[0][0]             \n",
      "__________________________________________________________________________________________________\n",
      "activation_126 (Activation)     (None, 20, 20, 1024) 0           add_41[0][0]                     \n",
      "__________________________________________________________________________________________________\n",
      "res4c_branch2a (Conv2D)         (None, 20, 20, 256)  262400      activation_126[0][0]             \n",
      "__________________________________________________________________________________________________\n",
      "bn4c_branch2a (BatchNormalizati (None, 20, 20, 256)  1024        res4c_branch2a[0][0]             \n",
      "__________________________________________________________________________________________________\n",
      "activation_127 (Activation)     (None, 20, 20, 256)  0           bn4c_branch2a[0][0]              \n",
      "__________________________________________________________________________________________________\n",
      "res4c_branch2b (Conv2D)         (None, 20, 20, 256)  590080      activation_127[0][0]             \n",
      "__________________________________________________________________________________________________\n",
      "bn4c_branch2b (BatchNormalizati (None, 20, 20, 256)  1024        res4c_branch2b[0][0]             \n",
      "__________________________________________________________________________________________________\n",
      "activation_128 (Activation)     (None, 20, 20, 256)  0           bn4c_branch2b[0][0]              \n",
      "__________________________________________________________________________________________________\n",
      "res4c_branch2c (Conv2D)         (None, 20, 20, 1024) 263168      activation_128[0][0]             \n",
      "__________________________________________________________________________________________________\n",
      "bn4c_branch2c (BatchNormalizati (None, 20, 20, 1024) 4096        res4c_branch2c[0][0]             \n",
      "__________________________________________________________________________________________________\n",
      "add_42 (Add)                    (None, 20, 20, 1024) 0           bn4c_branch2c[0][0]              \n",
      "                                                                 activation_126[0][0]             \n",
      "__________________________________________________________________________________________________\n",
      "activation_129 (Activation)     (None, 20, 20, 1024) 0           add_42[0][0]                     \n",
      "__________________________________________________________________________________________________\n",
      "res4d_branch2a (Conv2D)         (None, 20, 20, 256)  262400      activation_129[0][0]             \n",
      "__________________________________________________________________________________________________\n",
      "bn4d_branch2a (BatchNormalizati (None, 20, 20, 256)  1024        res4d_branch2a[0][0]             \n",
      "__________________________________________________________________________________________________\n",
      "activation_130 (Activation)     (None, 20, 20, 256)  0           bn4d_branch2a[0][0]              \n",
      "__________________________________________________________________________________________________\n",
      "res4d_branch2b (Conv2D)         (None, 20, 20, 256)  590080      activation_130[0][0]             \n",
      "__________________________________________________________________________________________________\n",
      "bn4d_branch2b (BatchNormalizati (None, 20, 20, 256)  1024        res4d_branch2b[0][0]             \n",
      "__________________________________________________________________________________________________\n",
      "activation_131 (Activation)     (None, 20, 20, 256)  0           bn4d_branch2b[0][0]              \n",
      "__________________________________________________________________________________________________\n",
      "res4d_branch2c (Conv2D)         (None, 20, 20, 1024) 263168      activation_131[0][0]             \n",
      "__________________________________________________________________________________________________\n",
      "bn4d_branch2c (BatchNormalizati (None, 20, 20, 1024) 4096        res4d_branch2c[0][0]             \n",
      "__________________________________________________________________________________________________\n",
      "add_43 (Add)                    (None, 20, 20, 1024) 0           bn4d_branch2c[0][0]              \n",
      "                                                                 activation_129[0][0]             \n",
      "__________________________________________________________________________________________________\n",
      "activation_132 (Activation)     (None, 20, 20, 1024) 0           add_43[0][0]                     \n",
      "__________________________________________________________________________________________________\n",
      "res4e_branch2a (Conv2D)         (None, 20, 20, 256)  262400      activation_132[0][0]             \n",
      "__________________________________________________________________________________________________\n",
      "bn4e_branch2a (BatchNormalizati (None, 20, 20, 256)  1024        res4e_branch2a[0][0]             \n",
      "__________________________________________________________________________________________________\n",
      "activation_133 (Activation)     (None, 20, 20, 256)  0           bn4e_branch2a[0][0]              \n",
      "__________________________________________________________________________________________________\n",
      "res4e_branch2b (Conv2D)         (None, 20, 20, 256)  590080      activation_133[0][0]             \n",
      "__________________________________________________________________________________________________\n",
      "bn4e_branch2b (BatchNormalizati (None, 20, 20, 256)  1024        res4e_branch2b[0][0]             \n",
      "__________________________________________________________________________________________________\n",
      "activation_134 (Activation)     (None, 20, 20, 256)  0           bn4e_branch2b[0][0]              \n",
      "__________________________________________________________________________________________________\n",
      "res4e_branch2c (Conv2D)         (None, 20, 20, 1024) 263168      activation_134[0][0]             \n",
      "__________________________________________________________________________________________________\n",
      "bn4e_branch2c (BatchNormalizati (None, 20, 20, 1024) 4096        res4e_branch2c[0][0]             \n",
      "__________________________________________________________________________________________________\n",
      "add_44 (Add)                    (None, 20, 20, 1024) 0           bn4e_branch2c[0][0]              \n",
      "                                                                 activation_132[0][0]             \n",
      "__________________________________________________________________________________________________\n",
      "activation_135 (Activation)     (None, 20, 20, 1024) 0           add_44[0][0]                     \n",
      "__________________________________________________________________________________________________\n",
      "res4f_branch2a (Conv2D)         (None, 20, 20, 256)  262400      activation_135[0][0]             \n",
      "__________________________________________________________________________________________________\n",
      "bn4f_branch2a (BatchNormalizati (None, 20, 20, 256)  1024        res4f_branch2a[0][0]             \n",
      "__________________________________________________________________________________________________\n",
      "activation_136 (Activation)     (None, 20, 20, 256)  0           bn4f_branch2a[0][0]              \n",
      "__________________________________________________________________________________________________\n",
      "res4f_branch2b (Conv2D)         (None, 20, 20, 256)  590080      activation_136[0][0]             \n",
      "__________________________________________________________________________________________________\n",
      "bn4f_branch2b (BatchNormalizati (None, 20, 20, 256)  1024        res4f_branch2b[0][0]             \n",
      "__________________________________________________________________________________________________\n",
      "activation_137 (Activation)     (None, 20, 20, 256)  0           bn4f_branch2b[0][0]              \n",
      "__________________________________________________________________________________________________\n",
      "res4f_branch2c (Conv2D)         (None, 20, 20, 1024) 263168      activation_137[0][0]             \n",
      "__________________________________________________________________________________________________\n",
      "bn4f_branch2c (BatchNormalizati (None, 20, 20, 1024) 4096        res4f_branch2c[0][0]             \n",
      "__________________________________________________________________________________________________\n",
      "add_45 (Add)                    (None, 20, 20, 1024) 0           bn4f_branch2c[0][0]              \n",
      "                                                                 activation_135[0][0]             \n",
      "__________________________________________________________________________________________________\n",
      "activation_138 (Activation)     (None, 20, 20, 1024) 0           add_45[0][0]                     \n",
      "__________________________________________________________________________________________________\n",
      "res5a_branch2a (Conv2D)         (None, 10, 10, 512)  524800      activation_138[0][0]             \n",
      "__________________________________________________________________________________________________\n",
      "bn5a_branch2a (BatchNormalizati (None, 10, 10, 512)  2048        res5a_branch2a[0][0]             \n",
      "__________________________________________________________________________________________________\n",
      "activation_139 (Activation)     (None, 10, 10, 512)  0           bn5a_branch2a[0][0]              \n",
      "__________________________________________________________________________________________________\n",
      "res5a_branch2b (Conv2D)         (None, 10, 10, 512)  2359808     activation_139[0][0]             \n",
      "__________________________________________________________________________________________________\n",
      "bn5a_branch2b (BatchNormalizati (None, 10, 10, 512)  2048        res5a_branch2b[0][0]             \n",
      "__________________________________________________________________________________________________\n",
      "activation_140 (Activation)     (None, 10, 10, 512)  0           bn5a_branch2b[0][0]              \n",
      "__________________________________________________________________________________________________\n",
      "res5a_branch2c (Conv2D)         (None, 10, 10, 2048) 1050624     activation_140[0][0]             \n",
      "__________________________________________________________________________________________________\n",
      "res5a_branch1 (Conv2D)          (None, 10, 10, 2048) 2099200     activation_138[0][0]             \n",
      "__________________________________________________________________________________________________\n",
      "bn5a_branch2c (BatchNormalizati (None, 10, 10, 2048) 8192        res5a_branch2c[0][0]             \n",
      "__________________________________________________________________________________________________\n",
      "bn5a_branch1 (BatchNormalizatio (None, 10, 10, 2048) 8192        res5a_branch1[0][0]              \n",
      "__________________________________________________________________________________________________\n",
      "add_46 (Add)                    (None, 10, 10, 2048) 0           bn5a_branch2c[0][0]              \n",
      "                                                                 bn5a_branch1[0][0]               \n",
      "__________________________________________________________________________________________________\n",
      "activation_141 (Activation)     (None, 10, 10, 2048) 0           add_46[0][0]                     \n",
      "__________________________________________________________________________________________________\n",
      "res5b_branch2a (Conv2D)         (None, 10, 10, 512)  1049088     activation_141[0][0]             \n",
      "__________________________________________________________________________________________________\n",
      "bn5b_branch2a (BatchNormalizati (None, 10, 10, 512)  2048        res5b_branch2a[0][0]             \n",
      "__________________________________________________________________________________________________\n",
      "activation_142 (Activation)     (None, 10, 10, 512)  0           bn5b_branch2a[0][0]              \n",
      "__________________________________________________________________________________________________\n",
      "res5b_branch2b (Conv2D)         (None, 10, 10, 512)  2359808     activation_142[0][0]             \n",
      "__________________________________________________________________________________________________\n",
      "bn5b_branch2b (BatchNormalizati (None, 10, 10, 512)  2048        res5b_branch2b[0][0]             \n",
      "__________________________________________________________________________________________________\n",
      "activation_143 (Activation)     (None, 10, 10, 512)  0           bn5b_branch2b[0][0]              \n",
      "__________________________________________________________________________________________________\n",
      "res5b_branch2c (Conv2D)         (None, 10, 10, 2048) 1050624     activation_143[0][0]             \n",
      "__________________________________________________________________________________________________\n",
      "bn5b_branch2c (BatchNormalizati (None, 10, 10, 2048) 8192        res5b_branch2c[0][0]             \n",
      "__________________________________________________________________________________________________\n",
      "add_47 (Add)                    (None, 10, 10, 2048) 0           bn5b_branch2c[0][0]              \n",
      "                                                                 activation_141[0][0]             \n",
      "__________________________________________________________________________________________________\n",
      "activation_144 (Activation)     (None, 10, 10, 2048) 0           add_47[0][0]                     \n",
      "__________________________________________________________________________________________________\n",
      "res5c_branch2a (Conv2D)         (None, 10, 10, 512)  1049088     activation_144[0][0]             \n",
      "__________________________________________________________________________________________________\n",
      "bn5c_branch2a (BatchNormalizati (None, 10, 10, 512)  2048        res5c_branch2a[0][0]             \n",
      "__________________________________________________________________________________________________\n",
      "activation_145 (Activation)     (None, 10, 10, 512)  0           bn5c_branch2a[0][0]              \n",
      "__________________________________________________________________________________________________\n",
      "res5c_branch2b (Conv2D)         (None, 10, 10, 512)  2359808     activation_145[0][0]             \n",
      "__________________________________________________________________________________________________\n",
      "bn5c_branch2b (BatchNormalizati (None, 10, 10, 512)  2048        res5c_branch2b[0][0]             \n",
      "__________________________________________________________________________________________________\n",
      "activation_146 (Activation)     (None, 10, 10, 512)  0           bn5c_branch2b[0][0]              \n",
      "__________________________________________________________________________________________________\n",
      "res5c_branch2c (Conv2D)         (None, 10, 10, 2048) 1050624     activation_146[0][0]             \n",
      "__________________________________________________________________________________________________\n",
      "bn5c_branch2c (BatchNormalizati (None, 10, 10, 2048) 8192        res5c_branch2c[0][0]             \n",
      "__________________________________________________________________________________________________\n",
      "add_48 (Add)                    (None, 10, 10, 2048) 0           bn5c_branch2c[0][0]              \n",
      "                                                                 activation_144[0][0]             \n",
      "__________________________________________________________________________________________________\n",
      "activation_147 (Activation)     (None, 10, 10, 2048) 0           add_48[0][0]                     \n",
      "__________________________________________________________________________________________________\n",
      "global_average_pooling2d_3 (Glo (None, 2048)         0           activation_147[0][0]             \n",
      "__________________________________________________________________________________________________\n",
      "global_max_pooling2d_3 (GlobalM (None, 2048)         0           activation_147[0][0]             \n",
      "__________________________________________________________________________________________________\n",
      "batch_normalization_5 (BatchNor (None, 2048)         8192        global_average_pooling2d_3[0][0] \n",
      "__________________________________________________________________________________________________\n",
      "batch_normalization_6 (BatchNor (None, 2048)         8192        global_max_pooling2d_3[0][0]     \n",
      "__________________________________________________________________________________________________\n",
      "concatenate_3 (Concatenate)     (None, 4096)         0           batch_normalization_5[0][0]      \n",
      "                                                                 batch_normalization_6[0][0]      \n",
      "__________________________________________________________________________________________________\n",
      "dense_7 (Dense)                 (None, 2048)         8390656     concatenate_3[0][0]              \n",
      "__________________________________________________________________________________________________\n",
      "dense_8 (Dense)                 (None, 2048)         8390656     concatenate_3[0][0]              \n",
      "__________________________________________________________________________________________________\n",
      "dense_9 (Dense)                 (None, 2048)         8390656     concatenate_3[0][0]              \n",
      "__________________________________________________________________________________________________\n",
      "dropout_7 (Dropout)             (None, 2048)         0           dense_7[0][0]                    \n",
      "__________________________________________________________________________________________________\n",
      "dropout_8 (Dropout)             (None, 2048)         0           dense_8[0][0]                    \n",
      "__________________________________________________________________________________________________\n",
      "dropout_9 (Dropout)             (None, 2048)         0           dense_9[0][0]                    \n",
      "__________________________________________________________________________________________________\n",
      "regression_output (Dense)       (None, 1)            2049        dropout_7[0][0]                  \n",
      "__________________________________________________________________________________________________\n",
      "classification_output (Dense)   (None, 5)            10245       dropout_8[0][0]                  \n",
      "__________________________________________________________________________________________________\n",
      "ordinal_regression_output (Dens (None, 5)            10245       dropout_9[0][0]                  \n",
      "==================================================================================================\n",
      "Total params: 25,264,011\n",
      "Trainable params: 25,202,699\n",
      "Non-trainable params: 61,312\n",
      "__________________________________________________________________________________________________\n"
     ]
    },
    {
     "name": "stderr",
     "output_type": "stream",
     "text": [
      "/usr/local/lib/python3.6/dist-packages/keras/engine/training.py:297: UserWarning: Discrepancy between trainable weights and collected trainable weights, did you set `model.trainable` without calling `model.compile` after ?\n",
      "  'Discrepancy between trainable weights and collected trainable'\n"
     ]
    }
   ],
   "source": [
    "# Now Unfreeze all Layers and make all layers as trainable = True (Train for 45 Epochs)\n",
    "\n",
    "for layer in model.layers:\n",
    "    layer.trainable = True\n",
    "model.summary()"
   ]
  },
  {
   "cell_type": "code",
   "execution_count": 0,
   "metadata": {
    "colab": {
     "base_uri": "https://localhost:8080/",
     "height": 1000
    },
    "colab_type": "code",
    "id": "qpmGwpjCQec9",
    "outputId": "0a3e573e-e8b1-4767-8af4-881c30a979b6"
   },
   "outputs": [
    {
     "name": "stdout",
     "output_type": "stream",
     "text": [
      "Epoch 1/45\n"
     ]
    },
    {
     "name": "stderr",
     "output_type": "stream",
     "text": [
      "/usr/local/lib/python3.6/dist-packages/keras_preprocessing/image/image_data_generator.py:716: UserWarning: This ImageDataGenerator specifies `featurewise_center`, but it hasn't been fit on any training data. Fit it first by calling `.fit(numpy_data)`.\n",
      "  warnings.warn('This ImageDataGenerator specifies '\n",
      "/usr/local/lib/python3.6/dist-packages/keras_preprocessing/image/image_data_generator.py:735: UserWarning: This ImageDataGenerator specifies `zca_whitening`, but it hasn't been fit on any training data. Fit it first by calling `.fit(numpy_data)`.\n",
      "  warnings.warn('This ImageDataGenerator specifies '\n"
     ]
    },
    {
     "name": "stdout",
     "output_type": "stream",
     "text": [
      "91/91 [==============================] - 276s 3s/step - loss: 2.6057 - regression_output_loss: 2.4114 - classification_output_loss: 0.0416 - ordinal_regression_output_loss: 0.1527 - regression_output_accuracy: 0.2708 - classification_output_accuracy: 0.6212 - ordinal_regression_output_accuracy: 0.6714 - val_loss: 1.3157 - val_regression_output_loss: 1.1729 - val_classification_output_loss: 0.0368 - val_ordinal_regression_output_loss: 0.1214 - val_regression_output_accuracy: 0.3991 - val_classification_output_accuracy: 0.6278 - val_ordinal_regression_output_accuracy: 0.7587\n",
      "Epoch 2/45\n",
      "91/91 [==============================] - 241s 3s/step - loss: 2.4529 - regression_output_loss: 2.2618 - classification_output_loss: 0.0424 - ordinal_regression_output_loss: 0.1487 - regression_output_accuracy: 0.2569 - classification_output_accuracy: 0.6229 - ordinal_regression_output_accuracy: 0.6735 - val_loss: 1.7067 - val_regression_output_loss: 1.1409 - val_classification_output_loss: 0.0369 - val_ordinal_regression_output_loss: 0.1155 - val_regression_output_accuracy: 0.3951 - val_classification_output_accuracy: 0.6281 - val_ordinal_regression_output_accuracy: 0.7438\n",
      "Epoch 3/45\n",
      "91/91 [==============================] - 241s 3s/step - loss: 2.5664 - regression_output_loss: 2.3732 - classification_output_loss: 0.0412 - ordinal_regression_output_loss: 0.1521 - regression_output_accuracy: 0.2735 - classification_output_accuracy: 0.6316 - ordinal_regression_output_accuracy: 0.6672 - val_loss: 2.0701 - val_regression_output_loss: 1.1213 - val_classification_output_loss: 0.0351 - val_ordinal_regression_output_loss: 0.1133 - val_regression_output_accuracy: 0.3997 - val_classification_output_accuracy: 0.6265 - val_ordinal_regression_output_accuracy: 0.7654\n",
      "Epoch 4/45\n",
      "91/91 [==============================] - 241s 3s/step - loss: 2.4378 - regression_output_loss: 2.2440 - classification_output_loss: 0.0422 - ordinal_regression_output_loss: 0.1515 - regression_output_accuracy: 0.2715 - classification_output_accuracy: 0.6191 - ordinal_regression_output_accuracy: 0.6863 - val_loss: 1.1621 - val_regression_output_loss: 1.0134 - val_classification_output_loss: 0.0353 - val_ordinal_regression_output_loss: 0.1176 - val_regression_output_accuracy: 0.4338 - val_classification_output_accuracy: 0.6230 - val_ordinal_regression_output_accuracy: 0.7681\n",
      "Epoch 5/45\n",
      "91/91 [==============================] - 239s 3s/step - loss: 2.4370 - regression_output_loss: 2.2472 - classification_output_loss: 0.0407 - ordinal_regression_output_loss: 0.1491 - regression_output_accuracy: 0.2776 - classification_output_accuracy: 0.6355 - ordinal_regression_output_accuracy: 0.6830 - val_loss: 1.0710 - val_regression_output_loss: 1.0957 - val_classification_output_loss: 0.0343 - val_ordinal_regression_output_loss: 0.1168 - val_regression_output_accuracy: 0.4074 - val_classification_output_accuracy: 0.6528 - val_ordinal_regression_output_accuracy: 0.7438\n",
      "Epoch 6/45\n",
      "91/91 [==============================] - 241s 3s/step - loss: 2.6006 - regression_output_loss: 2.4035 - classification_output_loss: 0.0441 - ordinal_regression_output_loss: 0.1530 - regression_output_accuracy: 0.2777 - classification_output_accuracy: 0.6174 - ordinal_regression_output_accuracy: 0.6714 - val_loss: 1.8871 - val_regression_output_loss: 1.1121 - val_classification_output_loss: 0.0347 - val_ordinal_regression_output_loss: 0.1129 - val_regression_output_accuracy: 0.4211 - val_classification_output_accuracy: 0.6167 - val_ordinal_regression_output_accuracy: 0.7713\n",
      "Epoch 7/45\n",
      "91/91 [==============================] - 242s 3s/step - loss: 2.5434 - regression_output_loss: 2.3441 - classification_output_loss: 0.0439 - ordinal_regression_output_loss: 0.1553 - regression_output_accuracy: 0.2732 - classification_output_accuracy: 0.6184 - ordinal_regression_output_accuracy: 0.6641 - val_loss: 1.1593 - val_regression_output_loss: 1.1086 - val_classification_output_loss: 0.0356 - val_ordinal_regression_output_loss: 0.1171 - val_regression_output_accuracy: 0.4059 - val_classification_output_accuracy: 0.6451 - val_ordinal_regression_output_accuracy: 0.7840\n",
      "Epoch 8/45\n",
      "91/91 [==============================] - 242s 3s/step - loss: 2.3885 - regression_output_loss: 2.1927 - classification_output_loss: 0.0425 - ordinal_regression_output_loss: 0.1532 - regression_output_accuracy: 0.2718 - classification_output_accuracy: 0.6177 - ordinal_regression_output_accuracy: 0.6738 - val_loss: 1.5889 - val_regression_output_loss: 1.0249 - val_classification_output_loss: 0.0352 - val_ordinal_regression_output_loss: 0.1232 - val_regression_output_accuracy: 0.4136 - val_classification_output_accuracy: 0.6265 - val_ordinal_regression_output_accuracy: 0.7870\n",
      "Epoch 9/45\n",
      "91/91 [==============================] - 240s 3s/step - loss: 2.5741 - regression_output_loss: 2.3783 - classification_output_loss: 0.0413 - ordinal_regression_output_loss: 0.1546 - regression_output_accuracy: 0.2577 - classification_output_accuracy: 0.6264 - ordinal_regression_output_accuracy: 0.6735 - val_loss: 1.3560 - val_regression_output_loss: 1.0342 - val_classification_output_loss: 0.0355 - val_ordinal_regression_output_loss: 0.1123 - val_regression_output_accuracy: 0.3864 - val_classification_output_accuracy: 0.6278 - val_ordinal_regression_output_accuracy: 0.7571\n",
      "Epoch 10/45\n",
      "91/91 [==============================] - 242s 3s/step - loss: 2.4638 - regression_output_loss: 2.2701 - classification_output_loss: 0.0420 - ordinal_regression_output_loss: 0.1518 - regression_output_accuracy: 0.2767 - classification_output_accuracy: 0.6274 - ordinal_regression_output_accuracy: 0.6690 - val_loss: 1.2165 - val_regression_output_loss: 1.0579 - val_classification_output_loss: 0.0325 - val_ordinal_regression_output_loss: 0.1172 - val_regression_output_accuracy: 0.3812 - val_classification_output_accuracy: 0.6574 - val_ordinal_regression_output_accuracy: 0.7809\n",
      "Epoch 11/45\n",
      "91/91 [==============================] - 241s 3s/step - loss: 2.5283 - regression_output_loss: 2.3342 - classification_output_loss: 0.0401 - ordinal_regression_output_loss: 0.1539 - regression_output_accuracy: 0.2694 - classification_output_accuracy: 0.6343 - ordinal_regression_output_accuracy: 0.6766 - val_loss: 0.9950 - val_regression_output_loss: 0.9897 - val_classification_output_loss: 0.0358 - val_ordinal_regression_output_loss: 0.1185 - val_regression_output_accuracy: 0.4196 - val_classification_output_accuracy: 0.6451 - val_ordinal_regression_output_accuracy: 0.7571\n",
      "Epoch 12/45\n",
      "91/91 [==============================] - 242s 3s/step - loss: 2.4852 - regression_output_loss: 2.2945 - classification_output_loss: 0.0417 - ordinal_regression_output_loss: 0.1489 - regression_output_accuracy: 0.2697 - classification_output_accuracy: 0.6305 - ordinal_regression_output_accuracy: 0.6717 - val_loss: 1.1872 - val_regression_output_loss: 1.1434 - val_classification_output_loss: 0.0368 - val_ordinal_regression_output_loss: 0.1154 - val_regression_output_accuracy: 0.3935 - val_classification_output_accuracy: 0.6281 - val_ordinal_regression_output_accuracy: 0.7623\n",
      "Epoch 13/45\n",
      "91/91 [==============================] - 240s 3s/step - loss: 2.6784 - regression_output_loss: 2.4792 - classification_output_loss: 0.0423 - ordinal_regression_output_loss: 0.1573 - regression_output_accuracy: 0.2587 - classification_output_accuracy: 0.6271 - ordinal_regression_output_accuracy: 0.6805 - val_loss: 1.8442 - val_regression_output_loss: 1.1268 - val_classification_output_loss: 0.0352 - val_ordinal_regression_output_loss: 0.1211 - val_regression_output_accuracy: 0.3981 - val_classification_output_accuracy: 0.6312 - val_ordinal_regression_output_accuracy: 0.7731\n",
      "Epoch 14/45\n",
      "91/91 [==============================] - 242s 3s/step - loss: 2.4568 - regression_output_loss: 2.2692 - classification_output_loss: 0.0415 - ordinal_regression_output_loss: 0.1460 - regression_output_accuracy: 0.2732 - classification_output_accuracy: 0.6222 - ordinal_regression_output_accuracy: 0.6672 - val_loss: 0.5801 - val_regression_output_loss: 1.0692 - val_classification_output_loss: 0.0347 - val_ordinal_regression_output_loss: 0.1129 - val_regression_output_accuracy: 0.4054 - val_classification_output_accuracy: 0.6577 - val_ordinal_regression_output_accuracy: 0.7587\n",
      "Epoch 15/45\n",
      "91/91 [==============================] - 242s 3s/step - loss: 2.5843 - regression_output_loss: 2.3919 - classification_output_loss: 0.0428 - ordinal_regression_output_loss: 0.1495 - regression_output_accuracy: 0.2542 - classification_output_accuracy: 0.6174 - ordinal_regression_output_accuracy: 0.6749 - val_loss: 1.5426 - val_regression_output_loss: 1.0508 - val_classification_output_loss: 0.0340 - val_ordinal_regression_output_loss: 0.1168 - val_regression_output_accuracy: 0.4136 - val_classification_output_accuracy: 0.6281 - val_ordinal_regression_output_accuracy: 0.7438\n",
      "Epoch 16/45\n",
      "91/91 [==============================] - 241s 3s/step - loss: 2.5985 - regression_output_loss: 2.4033 - classification_output_loss: 0.0421 - ordinal_regression_output_loss: 0.1530 - regression_output_accuracy: 0.2590 - classification_output_accuracy: 0.6247 - ordinal_regression_output_accuracy: 0.6704 - val_loss: 1.9170 - val_regression_output_loss: 1.1714 - val_classification_output_loss: 0.0366 - val_ordinal_regression_output_loss: 0.1190 - val_regression_output_accuracy: 0.3975 - val_classification_output_accuracy: 0.6262 - val_ordinal_regression_output_accuracy: 0.7666\n",
      "Epoch 17/45\n",
      "91/91 [==============================] - 241s 3s/step - loss: 2.5710 - regression_output_loss: 2.3776 - classification_output_loss: 0.0401 - ordinal_regression_output_loss: 0.1535 - regression_output_accuracy: 0.2690 - classification_output_accuracy: 0.6340 - ordinal_regression_output_accuracy: 0.6745 - val_loss: 1.6233 - val_regression_output_loss: 1.2364 - val_classification_output_loss: 0.0346 - val_ordinal_regression_output_loss: 0.1213 - val_regression_output_accuracy: 0.3827 - val_classification_output_accuracy: 0.6512 - val_ordinal_regression_output_accuracy: 0.7654\n",
      "Epoch 18/45\n",
      "91/91 [==============================] - 240s 3s/step - loss: 2.5903 - regression_output_loss: 2.3901 - classification_output_loss: 0.0436 - ordinal_regression_output_loss: 0.1567 - regression_output_accuracy: 0.2643 - classification_output_accuracy: 0.6072 - ordinal_regression_output_accuracy: 0.6683 - val_loss: 1.1960 - val_regression_output_loss: 1.1060 - val_classification_output_loss: 0.0359 - val_ordinal_regression_output_loss: 0.1169 - val_regression_output_accuracy: 0.4136 - val_classification_output_accuracy: 0.6157 - val_ordinal_regression_output_accuracy: 0.7670\n",
      "Epoch 19/45\n",
      "91/91 [==============================] - 241s 3s/step - loss: 2.4183 - regression_output_loss: 2.2278 - classification_output_loss: 0.0417 - ordinal_regression_output_loss: 0.1487 - regression_output_accuracy: 0.2663 - classification_output_accuracy: 0.6191 - ordinal_regression_output_accuracy: 0.6849 - val_loss: 1.4947 - val_regression_output_loss: 1.1662 - val_classification_output_loss: 0.0340 - val_ordinal_regression_output_loss: 0.1179 - val_regression_output_accuracy: 0.4148 - val_classification_output_accuracy: 0.6420 - val_ordinal_regression_output_accuracy: 0.7823\n",
      "Epoch 20/45\n",
      "91/91 [==============================] - 241s 3s/step - loss: 2.5433 - regression_output_loss: 2.3527 - classification_output_loss: 0.0411 - ordinal_regression_output_loss: 0.1495 - regression_output_accuracy: 0.2663 - classification_output_accuracy: 0.6326 - ordinal_regression_output_accuracy: 0.6731 - val_loss: 1.0675 - val_regression_output_loss: 1.1498 - val_classification_output_loss: 0.0349 - val_ordinal_regression_output_loss: 0.1153 - val_regression_output_accuracy: 0.3843 - val_classification_output_accuracy: 0.6435 - val_ordinal_regression_output_accuracy: 0.7824\n",
      "Epoch 21/45\n",
      "91/91 [==============================] - 240s 3s/step - loss: 2.5463 - regression_output_loss: 2.3495 - classification_output_loss: 0.0421 - ordinal_regression_output_loss: 0.1546 - regression_output_accuracy: 0.2611 - classification_output_accuracy: 0.6281 - ordinal_regression_output_accuracy: 0.6697 - val_loss: 1.2289 - val_regression_output_loss: 1.1678 - val_classification_output_loss: 0.0366 - val_ordinal_regression_output_loss: 0.1179 - val_regression_output_accuracy: 0.4117 - val_classification_output_accuracy: 0.6246 - val_ordinal_regression_output_accuracy: 0.7792\n",
      "Epoch 22/45\n",
      "91/91 [==============================] - 240s 3s/step - loss: 2.5133 - regression_output_loss: 2.3202 - classification_output_loss: 0.0423 - ordinal_regression_output_loss: 0.1513 - regression_output_accuracy: 0.2856 - classification_output_accuracy: 0.6187 - ordinal_regression_output_accuracy: 0.6620 - val_loss: 0.9225 - val_regression_output_loss: 1.1472 - val_classification_output_loss: 0.0354 - val_ordinal_regression_output_loss: 0.1140 - val_regression_output_accuracy: 0.4182 - val_classification_output_accuracy: 0.6528 - val_ordinal_regression_output_accuracy: 0.7824\n",
      "Epoch 23/45\n",
      "91/91 [==============================] - 242s 3s/step - loss: 2.6395 - regression_output_loss: 2.4462 - classification_output_loss: 0.0414 - ordinal_regression_output_loss: 0.1519 - regression_output_accuracy: 0.2538 - classification_output_accuracy: 0.6170 - ordinal_regression_output_accuracy: 0.6738 - val_loss: 1.0413 - val_regression_output_loss: 1.1223 - val_classification_output_loss: 0.0379 - val_ordinal_regression_output_loss: 0.1192 - val_regression_output_accuracy: 0.3951 - val_classification_output_accuracy: 0.6142 - val_ordinal_regression_output_accuracy: 0.7731\n",
      "Epoch 24/45\n",
      "91/91 [==============================] - 242s 3s/step - loss: 2.5023 - regression_output_loss: 2.3112 - classification_output_loss: 0.0421 - ordinal_regression_output_loss: 0.1490 - regression_output_accuracy: 0.2559 - classification_output_accuracy: 0.6302 - ordinal_regression_output_accuracy: 0.6901 - val_loss: 0.8381 - val_regression_output_loss: 0.9481 - val_classification_output_loss: 0.0331 - val_ordinal_regression_output_loss: 0.1106 - val_regression_output_accuracy: 0.4132 - val_classification_output_accuracy: 0.6530 - val_ordinal_regression_output_accuracy: 0.7760\n",
      "Epoch 25/45\n",
      "91/91 [==============================] - 241s 3s/step - loss: 2.6684 - regression_output_loss: 2.4708 - classification_output_loss: 0.0437 - ordinal_regression_output_loss: 0.1543 - regression_output_accuracy: 0.2742 - classification_output_accuracy: 0.6077 - ordinal_regression_output_accuracy: 0.6717 - val_loss: 1.0361 - val_regression_output_loss: 1.0448 - val_classification_output_loss: 0.0371 - val_ordinal_regression_output_loss: 0.1208 - val_regression_output_accuracy: 0.3843 - val_classification_output_accuracy: 0.6204 - val_ordinal_regression_output_accuracy: 0.7824\n",
      "Epoch 26/45\n",
      "91/91 [==============================] - 239s 3s/step - loss: 2.5254 - regression_output_loss: 2.3346 - classification_output_loss: 0.0433 - ordinal_regression_output_loss: 0.1480 - regression_output_accuracy: 0.2807 - classification_output_accuracy: 0.6149 - ordinal_regression_output_accuracy: 0.6763 - val_loss: 1.3770 - val_regression_output_loss: 1.0849 - val_classification_output_loss: 0.0351 - val_ordinal_regression_output_loss: 0.1123 - val_regression_output_accuracy: 0.4101 - val_classification_output_accuracy: 0.6309 - val_ordinal_regression_output_accuracy: 0.7524\n",
      "Epoch 27/45\n",
      "91/91 [==============================] - 241s 3s/step - loss: 2.6538 - regression_output_loss: 2.4615 - classification_output_loss: 0.0435 - ordinal_regression_output_loss: 0.1487 - regression_output_accuracy: 0.2562 - classification_output_accuracy: 0.6174 - ordinal_regression_output_accuracy: 0.6738 - val_loss: 0.6840 - val_regression_output_loss: 1.0273 - val_classification_output_loss: 0.0347 - val_ordinal_regression_output_loss: 0.1128 - val_regression_output_accuracy: 0.4012 - val_classification_output_accuracy: 0.6358 - val_ordinal_regression_output_accuracy: 0.7670\n",
      "Epoch 28/45\n",
      "91/91 [==============================] - 242s 3s/step - loss: 2.5414 - regression_output_loss: 2.3432 - classification_output_loss: 0.0437 - ordinal_regression_output_loss: 0.1544 - regression_output_accuracy: 0.2649 - classification_output_accuracy: 0.6039 - ordinal_regression_output_accuracy: 0.6783 - val_loss: 1.3909 - val_regression_output_loss: 1.0818 - val_classification_output_loss: 0.0342 - val_ordinal_regression_output_loss: 0.1160 - val_regression_output_accuracy: 0.3997 - val_classification_output_accuracy: 0.6543 - val_ordinal_regression_output_accuracy: 0.7500\n",
      "Epoch 29/45\n",
      "91/91 [==============================] - 241s 3s/step - loss: 2.5639 - regression_output_loss: 2.3747 - classification_output_loss: 0.0406 - ordinal_regression_output_loss: 0.1487 - regression_output_accuracy: 0.2694 - classification_output_accuracy: 0.6312 - ordinal_regression_output_accuracy: 0.6735 - val_loss: 1.4953 - val_regression_output_loss: 1.1237 - val_classification_output_loss: 0.0335 - val_ordinal_regression_output_loss: 0.1233 - val_regression_output_accuracy: 0.3959 - val_classification_output_accuracy: 0.6498 - val_ordinal_regression_output_accuracy: 0.7965\n",
      "Epoch 30/45\n",
      "91/91 [==============================] - 242s 3s/step - loss: 2.5414 - regression_output_loss: 2.3490 - classification_output_loss: 0.0408 - ordinal_regression_output_loss: 0.1518 - regression_output_accuracy: 0.2704 - classification_output_accuracy: 0.6264 - ordinal_regression_output_accuracy: 0.6714 - val_loss: 0.9315 - val_regression_output_loss: 1.0248 - val_classification_output_loss: 0.0354 - val_ordinal_regression_output_loss: 0.1219 - val_regression_output_accuracy: 0.4043 - val_classification_output_accuracy: 0.6435 - val_ordinal_regression_output_accuracy: 0.7469\n",
      "Epoch 31/45\n",
      "91/91 [==============================] - 239s 3s/step - loss: 2.5769 - regression_output_loss: 2.3838 - classification_output_loss: 0.0428 - ordinal_regression_output_loss: 0.1502 - regression_output_accuracy: 0.2640 - classification_output_accuracy: 0.6208 - ordinal_regression_output_accuracy: 0.6788 - val_loss: 1.1225 - val_regression_output_loss: 1.0994 - val_classification_output_loss: 0.0340 - val_ordinal_regression_output_loss: 0.1095 - val_regression_output_accuracy: 0.4069 - val_classification_output_accuracy: 0.6372 - val_ordinal_regression_output_accuracy: 0.7571\n",
      "Epoch 32/45\n",
      "91/91 [==============================] - 241s 3s/step - loss: 2.6521 - regression_output_loss: 2.4553 - classification_output_loss: 0.0434 - ordinal_regression_output_loss: 0.1533 - regression_output_accuracy: 0.2497 - classification_output_accuracy: 0.6208 - ordinal_regression_output_accuracy: 0.6939 - val_loss: 1.3525 - val_regression_output_loss: 1.1354 - val_classification_output_loss: 0.0353 - val_ordinal_regression_output_loss: 0.1220 - val_regression_output_accuracy: 0.3935 - val_classification_output_accuracy: 0.6466 - val_ordinal_regression_output_accuracy: 0.7654\n",
      "Epoch 33/45\n",
      "91/91 [==============================] - 242s 3s/step - loss: 2.5124 - regression_output_loss: 2.3189 - classification_output_loss: 0.0429 - ordinal_regression_output_loss: 0.1506 - regression_output_accuracy: 0.2535 - classification_output_accuracy: 0.6157 - ordinal_regression_output_accuracy: 0.6787 - val_loss: 0.9671 - val_regression_output_loss: 1.1081 - val_classification_output_loss: 0.0330 - val_ordinal_regression_output_loss: 0.1169 - val_regression_output_accuracy: 0.4398 - val_classification_output_accuracy: 0.6404 - val_ordinal_regression_output_accuracy: 0.7377\n",
      "Epoch 34/45\n",
      "91/91 [==============================] - 242s 3s/step - loss: 2.6016 - regression_output_loss: 2.4028 - classification_output_loss: 0.0430 - ordinal_regression_output_loss: 0.1556 - regression_output_accuracy: 0.2701 - classification_output_accuracy: 0.6153 - ordinal_regression_output_accuracy: 0.6745 - val_loss: 1.3711 - val_regression_output_loss: 1.1191 - val_classification_output_loss: 0.0349 - val_ordinal_regression_output_loss: 0.1198 - val_regression_output_accuracy: 0.3801 - val_classification_output_accuracy: 0.6325 - val_ordinal_regression_output_accuracy: 0.7524\n",
      "Epoch 35/45\n",
      "91/91 [==============================] - 240s 3s/step - loss: 2.4743 - regression_output_loss: 2.2823 - classification_output_loss: 0.0421 - ordinal_regression_output_loss: 0.1499 - regression_output_accuracy: 0.2786 - classification_output_accuracy: 0.6264 - ordinal_regression_output_accuracy: 0.6791 - val_loss: 1.7574 - val_regression_output_loss: 1.0110 - val_classification_output_loss: 0.0349 - val_ordinal_regression_output_loss: 0.1176 - val_regression_output_accuracy: 0.3796 - val_classification_output_accuracy: 0.6327 - val_ordinal_regression_output_accuracy: 0.7824\n",
      "Epoch 36/45\n",
      "91/91 [==============================] - 241s 3s/step - loss: 2.5761 - regression_output_loss: 2.3771 - classification_output_loss: 0.0425 - ordinal_regression_output_loss: 0.1566 - regression_output_accuracy: 0.2597 - classification_output_accuracy: 0.6143 - ordinal_regression_output_accuracy: 0.6835 - val_loss: 1.1672 - val_regression_output_loss: 1.0815 - val_classification_output_loss: 0.0360 - val_ordinal_regression_output_loss: 0.1181 - val_regression_output_accuracy: 0.3880 - val_classification_output_accuracy: 0.6325 - val_ordinal_regression_output_accuracy: 0.7729\n",
      "Epoch 37/45\n",
      "91/91 [==============================] - 241s 3s/step - loss: 2.4685 - regression_output_loss: 2.2738 - classification_output_loss: 0.0430 - ordinal_regression_output_loss: 0.1516 - regression_output_accuracy: 0.2774 - classification_output_accuracy: 0.6136 - ordinal_regression_output_accuracy: 0.6894 - val_loss: 1.4146 - val_regression_output_loss: 1.0558 - val_classification_output_loss: 0.0343 - val_ordinal_regression_output_loss: 0.1114 - val_regression_output_accuracy: 0.4198 - val_classification_output_accuracy: 0.6327 - val_ordinal_regression_output_accuracy: 0.7654\n",
      "Epoch 38/45\n",
      "91/91 [==============================] - 242s 3s/step - loss: 2.5798 - regression_output_loss: 2.3880 - classification_output_loss: 0.0416 - ordinal_regression_output_loss: 0.1502 - regression_output_accuracy: 0.2604 - classification_output_accuracy: 0.6274 - ordinal_regression_output_accuracy: 0.6742 - val_loss: 1.3468 - val_regression_output_loss: 1.1095 - val_classification_output_loss: 0.0362 - val_ordinal_regression_output_loss: 0.1231 - val_regression_output_accuracy: 0.4259 - val_classification_output_accuracy: 0.6188 - val_ordinal_regression_output_accuracy: 0.7639\n",
      "Epoch 39/45\n",
      "91/91 [==============================] - 240s 3s/step - loss: 2.4339 - regression_output_loss: 2.2404 - classification_output_loss: 0.0426 - ordinal_regression_output_loss: 0.1507 - regression_output_accuracy: 0.2682 - classification_output_accuracy: 0.6226 - ordinal_regression_output_accuracy: 0.6725 - val_loss: 1.3313 - val_regression_output_loss: 1.0387 - val_classification_output_loss: 0.0350 - val_ordinal_regression_output_loss: 0.1187 - val_regression_output_accuracy: 0.4132 - val_classification_output_accuracy: 0.6546 - val_ordinal_regression_output_accuracy: 0.7776\n",
      "Epoch 40/45\n",
      "91/91 [==============================] - 242s 3s/step - loss: 2.6115 - regression_output_loss: 2.4146 - classification_output_loss: 0.0428 - ordinal_regression_output_loss: 0.1542 - regression_output_accuracy: 0.2597 - classification_output_accuracy: 0.6157 - ordinal_regression_output_accuracy: 0.6801 - val_loss: 1.0509 - val_regression_output_loss: 1.0729 - val_classification_output_loss: 0.0310 - val_ordinal_regression_output_loss: 0.1147 - val_regression_output_accuracy: 0.4259 - val_classification_output_accuracy: 0.6636 - val_ordinal_regression_output_accuracy: 0.7546\n",
      "Epoch 41/45\n",
      "91/91 [==============================] - 241s 3s/step - loss: 2.5829 - regression_output_loss: 2.3884 - classification_output_loss: 0.0433 - ordinal_regression_output_loss: 0.1512 - regression_output_accuracy: 0.2538 - classification_output_accuracy: 0.6098 - ordinal_regression_output_accuracy: 0.6735 - val_loss: 2.1936 - val_regression_output_loss: 1.1888 - val_classification_output_loss: 0.0342 - val_ordinal_regression_output_loss: 0.1200 - val_regression_output_accuracy: 0.3770 - val_classification_output_accuracy: 0.6435 - val_ordinal_regression_output_accuracy: 0.7587\n",
      "Epoch 42/45\n",
      "91/91 [==============================] - 242s 3s/step - loss: 2.4547 - regression_output_loss: 2.2621 - classification_output_loss: 0.0420 - ordinal_regression_output_loss: 0.1504 - regression_output_accuracy: 0.2639 - classification_output_accuracy: 0.6247 - ordinal_regression_output_accuracy: 0.6742 - val_loss: 1.3943 - val_regression_output_loss: 1.1778 - val_classification_output_loss: 0.0368 - val_ordinal_regression_output_loss: 0.1198 - val_regression_output_accuracy: 0.3735 - val_classification_output_accuracy: 0.6327 - val_ordinal_regression_output_accuracy: 0.7685\n",
      "Epoch 43/45\n",
      "91/91 [==============================] - 242s 3s/step - loss: 2.6138 - regression_output_loss: 2.4205 - classification_output_loss: 0.0421 - ordinal_regression_output_loss: 0.1513 - regression_output_accuracy: 0.2555 - classification_output_accuracy: 0.6212 - ordinal_regression_output_accuracy: 0.6759 - val_loss: 1.3556 - val_regression_output_loss: 1.1130 - val_classification_output_loss: 0.0334 - val_ordinal_regression_output_loss: 0.1151 - val_regression_output_accuracy: 0.4043 - val_classification_output_accuracy: 0.6404 - val_ordinal_regression_output_accuracy: 0.7701\n",
      "Epoch 44/45\n",
      "91/91 [==============================] - 240s 3s/step - loss: 2.7060 - regression_output_loss: 2.5132 - classification_output_loss: 0.0413 - ordinal_regression_output_loss: 0.1518 - regression_output_accuracy: 0.2678 - classification_output_accuracy: 0.6194 - ordinal_regression_output_accuracy: 0.6788 - val_loss: 0.8575 - val_regression_output_loss: 1.1137 - val_classification_output_loss: 0.0362 - val_ordinal_regression_output_loss: 0.1174 - val_regression_output_accuracy: 0.4353 - val_classification_output_accuracy: 0.6420 - val_ordinal_regression_output_accuracy: 0.7603\n",
      "Epoch 45/45\n",
      "91/91 [==============================] - 242s 3s/step - loss: 2.5888 - regression_output_loss: 2.3928 - classification_output_loss: 0.0419 - ordinal_regression_output_loss: 0.1541 - regression_output_accuracy: 0.2531 - classification_output_accuracy: 0.6295 - ordinal_regression_output_accuracy: 0.6669 - val_loss: 0.9573 - val_regression_output_loss: 1.1088 - val_classification_output_loss: 0.0368 - val_ordinal_regression_output_loss: 0.1220 - val_regression_output_accuracy: 0.3796 - val_classification_output_accuracy: 0.6389 - val_ordinal_regression_output_accuracy: 0.7654\n"
     ]
    }
   ],
   "source": [
    "# ref - https://keras.io/getting-started/functional-api-guide/\n",
    "\n",
    "model.compile(optimizer = optimizers.Adam(lr=LEARNING_RATE),\n",
    "              loss={'regression_output': mean_squared_error, \n",
    "                    'classification_output': categorical_focal_loss(alpha=.25, gamma=2) ,\n",
    "                    'ordinal_regression_output' : binary_focal_loss(alpha=.25, gamma=2)\n",
    "                    },\n",
    "              metrics = ['accuracy'])\n",
    "\n",
    "history = model.fit_generator(generator=train_generator,\n",
    "                              steps_per_epoch=STEP_SIZE_TRAIN,\n",
    "                              validation_data=valid_generator,\n",
    "                              validation_steps=STEP_SIZE_VALID,\n",
    "                              epochs=45,\n",
    "                              callbacks = callback_list,\n",
    "                              verbose=1).history\n",
    "\n",
    "model.save(\"model_main_training.h5\")\n",
    "f = open(\"history_main_training\",\"wb\")\n",
    "pickle.dump(history,f)\n",
    "f.close()"
   ]
  },
  {
   "cell_type": "code",
   "execution_count": 0,
   "metadata": {
    "colab": {
     "base_uri": "https://localhost:8080/",
     "height": 350
    },
    "colab_type": "code",
    "id": "PBIobuYSNDbu",
    "outputId": "2558bd40-9a2f-4324-eff9-48acf4855698"
   },
   "outputs": [
    {
     "data": {
      "image/png": "[encoded data removed]",
      "text/plain": [
       "<Figure size 1080x360 with 1 Axes>"
      ]
     },
     "metadata": {
      "needs_background": "light",
      "tags": []
     },
     "output_type": "display_data"
    }
   ],
   "source": [
    "plt.figure(figsize=(15,5))\n",
    "plt.plot(history['regression_output_loss'])\n",
    "plt.plot(history['val_regression_output_loss'])\n",
    "plt.title('Regression Model Loss - Main Training')\n",
    "plt.ylabel('Loss (MSE)')\n",
    "plt.xlabel('Epoch')\n",
    "plt.legend(['Train', 'Validation'], loc='best')\n",
    "plt.xticks(range(1,46))\n",
    "plt.gca().ticklabel_format(axis='both', style='plain', useOffset=False)\n",
    "plt.show()"
   ]
  },
  {
   "cell_type": "code",
   "execution_count": 0,
   "metadata": {
    "colab": {
     "base_uri": "https://localhost:8080/",
     "height": 350
    },
    "colab_type": "code",
    "id": "XQlUK5u8NDjt",
    "outputId": "3eec29b9-abf5-409a-9aac-c41fd31c9fb0"
   },
   "outputs": [
    {
     "data": {
      "image/png": "[encoded data removed]",
      "text/plain": [
       "<Figure size 1080x360 with 1 Axes>"
      ]
     },
     "metadata": {
      "needs_background": "light",
      "tags": []
     },
     "output_type": "display_data"
    }
   ],
   "source": [
    "plt.figure(figsize=(15,5))\n",
    "plt.plot(history['classification_output_loss'])\n",
    "plt.plot(history['val_classification_output_loss'])\n",
    "plt.title('Classification Model Loss - Main Training')\n",
    "plt.ylabel('Loss (Categorical Focal Loss)')\n",
    "plt.xlabel('Epoch')\n",
    "plt.legend(['Train', 'Validation'], loc='best')\n",
    "plt.xticks(range(1,46))\n",
    "plt.gca().ticklabel_format(axis='both', style='plain', useOffset=False)\n",
    "plt.show()"
   ]
  },
  {
   "cell_type": "code",
   "execution_count": 0,
   "metadata": {
    "colab": {
     "base_uri": "https://localhost:8080/",
     "height": 350
    },
    "colab_type": "code",
    "id": "tgYxfJGxNDqi",
    "outputId": "c7aba244-c445-4034-9615-4a9f537c6bfb"
   },
   "outputs": [
    {
     "data": {
      "image/png": "[encoded data removed]",
      "text/plain": [
       "<Figure size 1080x360 with 1 Axes>"
      ]
     },
     "metadata": {
      "needs_background": "light",
      "tags": []
     },
     "output_type": "display_data"
    }
   ],
   "source": [
    "plt.figure(figsize=(15,5))\n",
    "plt.plot(history['ordinal_regression_output_loss'])\n",
    "plt.plot(history['val_ordinal_regression_output_loss'])\n",
    "plt.title('Ordinal Regression Model Loss - Main Training')\n",
    "plt.ylabel('Loss (Binary Focal Loss)')\n",
    "plt.xlabel('Epoch')\n",
    "plt.legend(['Train', 'Validation'], loc='best')\n",
    "plt.xticks(range(1,46))\n",
    "plt.gca().ticklabel_format(axis='both', style='plain', useOffset=False)\n",
    "plt.show()"
   ]
  },
  {
   "cell_type": "markdown",
   "metadata": {
    "colab_type": "text",
    "id": "pOZFyljJRnMS"
   },
   "source": [
    "### <font color='red'> 15.6 Stage 3 (Post Training) </font>\n"
   ]
  },
  {
   "cell_type": "code",
   "execution_count": 15,
   "metadata": {
    "colab": {
     "base_uri": "https://localhost:8080/",
     "height": 104
    },
    "colab_type": "code",
    "id": "TPItySzSb_de",
    "outputId": "ffbae475-c00f-4c3c-ffdb-a68ad41aad5d"
   },
   "outputs": [
    {
     "name": "stderr",
     "output_type": "stream",
     "text": [
      "/usr/local/lib/python3.6/dist-packages/keras_preprocessing/image/image_data_generator.py:337: UserWarning: This ImageDataGenerator specifies `zca_whitening`, which overrides setting of `featurewise_center`.\n",
      "  warnings.warn('This ImageDataGenerator specifies '\n"
     ]
    },
    {
     "name": "stdout",
     "output_type": "stream",
     "text": [
      "Found 2929 validated image filenames.\n",
      "2929\n"
     ]
    }
   ],
   "source": [
    "'''\n",
    "Get the Outputs from the 3 Heads - (Classification,Regression,Ordinal Regression) to pass the outputs to a new Model\n",
    "'''\n",
    "\n",
    "complete_datagen = ImageDataGenerator(rescale=1./255, rotation_range=360,brightness_range=[0.5, 1.5],\n",
    "                                     zoom_range=[1, 1.2],zca_whitening=True,horizontal_flip=True,\n",
    "                                     vertical_flip=True,fill_mode='constant')\n",
    "complete_generator = complete_datagen.flow_from_dataframe(dataframe=df_train_train,\n",
    "                                                          directory = \"./train_images_resized_preprocessed/\",\n",
    "                                                          x_col=\"file_name\",\n",
    "                                                          target_size=(HEIGHT, WIDTH),\n",
    "                                                          batch_size=1,\n",
    "                                                          shuffle=False,\n",
    "                                                          class_mode=None)\n",
    "STEP_SIZE_COMPLETE = complete_generator.n//complete_generator.batch_size\n",
    "print(complete_generator.n)"
   ]
  },
  {
   "cell_type": "code",
   "execution_count": 57,
   "metadata": {
    "colab": {
     "base_uri": "https://localhost:8080/",
     "height": 50
    },
    "colab_type": "code",
    "id": "5S3C2x2Hwo8-",
    "outputId": "6179394a-08aa-4b4f-fcfa-ac1e2b3eb77e"
   },
   "outputs": [
    {
     "name": "stdout",
     "output_type": "stream",
     "text": [
      "Found 733 validated image filenames.\n",
      "733\n"
     ]
    }
   ],
   "source": [
    "test_generator = complete_datagen.flow_from_dataframe(dataframe=df_train_test,\n",
    "                                                          directory = \"./test_images_resized_preprocessed/\",\n",
    "                                                          x_col=\"file_name\",\n",
    "                                                          target_size=(HEIGHT, WIDTH),\n",
    "                                                          batch_size=1,\n",
    "                                                          shuffle=False,\n",
    "                                                          class_mode=None)\n",
    "STEP_SIZE_TEST = test_generator.n//test_generator.batch_size\n",
    "print(test_generator.n)"
   ]
  },
  {
   "cell_type": "code",
   "execution_count": 16,
   "metadata": {
    "colab": {
     "base_uri": "https://localhost:8080/",
     "height": 121
    },
    "colab_type": "code",
    "id": "jPydELR1b_gF",
    "outputId": "7addea96-6e1c-46a3-c9ec-c1acd3e890fe"
   },
   "outputs": [
    {
     "name": "stderr",
     "output_type": "stream",
     "text": [
      "/usr/local/lib/python3.6/dist-packages/keras_preprocessing/image/image_data_generator.py:720: UserWarning: This ImageDataGenerator specifies `featurewise_center`, but it hasn't been fit on any training data. Fit it first by calling `.fit(numpy_data)`.\n",
      "  warnings.warn('This ImageDataGenerator specifies '\n",
      "/usr/local/lib/python3.6/dist-packages/keras_preprocessing/image/image_data_generator.py:739: UserWarning: This ImageDataGenerator specifies `zca_whitening`, but it hasn't been fit on any training data. Fit it first by calling `.fit(numpy_data)`.\n",
      "  warnings.warn('This ImageDataGenerator specifies '\n"
     ]
    },
    {
     "name": "stdout",
     "output_type": "stream",
     "text": [
      "2929/2929 [==============================] - 1006s 344ms/step\n"
     ]
    }
   ],
   "source": [
    "model = load_model(\"model_main_training.h5\",custom_objects={'categorical_focal_loss_fixed':categorical_focal_loss(alpha=.25, gamma=2),\n",
    "                                                            'binary_focal_loss_fixed' : binary_focal_loss(alpha=.25, gamma=2)})\n",
    "train_preds = model.predict_generator(complete_generator, steps=STEP_SIZE_COMPLETE,verbose = 1)\n",
    "\n",
    "f = open(\"train_preds\",\"wb\")\n",
    "pickle.dump(train_preds,f)\n",
    "f.close()"
   ]
  },
  {
   "cell_type": "code",
   "execution_count": 58,
   "metadata": {
    "colab": {
     "base_uri": "https://localhost:8080/",
     "height": 121
    },
    "colab_type": "code",
    "id": "Snsubop3wzXg",
    "outputId": "f30b7332-888c-4f10-808a-4419f32f56ff"
   },
   "outputs": [
    {
     "name": "stdout",
     "output_type": "stream",
     "text": [
      "\r",
      "  1/733 [..............................] - ETA: 5:50"
     ]
    },
    {
     "name": "stderr",
     "output_type": "stream",
     "text": [
      "/usr/local/lib/python3.6/dist-packages/keras_preprocessing/image/image_data_generator.py:720: UserWarning: This ImageDataGenerator specifies `featurewise_center`, but it hasn't been fit on any training data. Fit it first by calling `.fit(numpy_data)`.\n",
      "  warnings.warn('This ImageDataGenerator specifies '\n",
      "/usr/local/lib/python3.6/dist-packages/keras_preprocessing/image/image_data_generator.py:739: UserWarning: This ImageDataGenerator specifies `zca_whitening`, but it hasn't been fit on any training data. Fit it first by calling `.fit(numpy_data)`.\n",
      "  warnings.warn('This ImageDataGenerator specifies '\n"
     ]
    },
    {
     "name": "stdout",
     "output_type": "stream",
     "text": [
      "733/733 [==============================] - 256s 350ms/step\n"
     ]
    }
   ],
   "source": [
    "test_preds = model.predict_generator(test_generator, steps=STEP_SIZE_TEST,verbose = 1)\n",
    "\n",
    "f = open(\"test_preds\",\"wb\")\n",
    "pickle.dump(test_preds,f)\n",
    "f.close()"
   ]
  },
  {
   "cell_type": "code",
   "execution_count": 59,
   "metadata": {
    "colab": {
     "base_uri": "https://localhost:8080/",
     "height": 67
    },
    "colab_type": "code",
    "id": "mCPQGqWJqrIX",
    "outputId": "66cc6979-049d-4f49-d614-9897096570bb"
   },
   "outputs": [
    {
     "name": "stdout",
     "output_type": "stream",
     "text": [
      "(2929, 1) (2929, 5) (2929, 5)\n",
      "(2929, 1) (2929, 1) (2929, 1)\n",
      "(2929, 3)\n"
     ]
    }
   ],
   "source": [
    "print(train_preds[0].shape,train_preds[1].shape,train_preds[2].shape)\n",
    "\n",
    "train_output_regression = np.array(train_preds[0]).reshape(-1,1)\n",
    "train_output_classification = np.array(np.argmax(train_preds[1],axis = -1)).reshape(-1,1)\n",
    "train_output_ordinal_regression = np.array(np.sum(train_preds[2],axis = -1)).reshape(-1,1)\n",
    "\n",
    "print(train_output_regression.shape,train_output_classification.shape,train_output_ordinal_regression.shape)\n",
    "X_train = np.hstack((train_output_regression,train_output_classification,train_output_ordinal_regression))\n",
    "print(X_train.shape)"
   ]
  },
  {
   "cell_type": "code",
   "execution_count": 60,
   "metadata": {
    "colab": {
     "base_uri": "https://localhost:8080/",
     "height": 67
    },
    "colab_type": "code",
    "id": "MDQmh3iaw68C",
    "outputId": "9c963b7d-26f7-43f1-f5fb-9d311325997e"
   },
   "outputs": [
    {
     "name": "stdout",
     "output_type": "stream",
     "text": [
      "(733, 1) (733, 5) (733, 5)\n",
      "(733, 1) (733, 1) (733, 1)\n",
      "(733, 3)\n"
     ]
    }
   ],
   "source": [
    "print(test_preds[0].shape,test_preds[1].shape,test_preds[2].shape)\n",
    "\n",
    "test_output_regression = np.array(test_preds[0]).reshape(-1,1)\n",
    "test_output_classification = np.array(np.argmax(test_preds[1],axis = -1)).reshape(-1,1)\n",
    "test_output_ordinal_regression = np.array(np.sum(test_preds[2],axis = -1)).reshape(-1,1)\n",
    "\n",
    "print(test_output_regression.shape,test_output_classification.shape,test_output_ordinal_regression.shape)\n",
    "X_test = np.hstack((test_output_regression,test_output_classification,test_output_ordinal_regression))\n",
    "print(X_test.shape)"
   ]
  },
  {
   "cell_type": "code",
   "execution_count": 71,
   "metadata": {
    "colab": {
     "base_uri": "https://localhost:8080/",
     "height": 185
    },
    "colab_type": "code",
    "id": "woVkwW_2Oicp",
    "outputId": "c2271671-2e11-4f2b-e5c4-55ee47957af0"
   },
   "outputs": [
    {
     "name": "stdout",
     "output_type": "stream",
     "text": [
      "Model: \"sequential_5\"\n",
      "_________________________________________________________________\n",
      "Layer (type)                 Output Shape              Param #   \n",
      "=================================================================\n",
      "dense_4 (Dense)              (None, 1)                 4         \n",
      "=================================================================\n",
      "Total params: 4\n",
      "Trainable params: 4\n",
      "Non-trainable params: 0\n",
      "_________________________________________________________________\n"
     ]
    }
   ],
   "source": [
    "model_post = Sequential()\n",
    "model_post.add(Dense(1, activation='linear', input_shape=(3,)))\n",
    "model_post.compile(optimizer=optimizers.SGD(lr=LEARNING_RATE), loss='mean_squared_error', metrics=['mean_squared_error'])\n",
    "model_post.summary()"
   ]
  },
  {
   "cell_type": "code",
   "execution_count": 72,
   "metadata": {
    "colab": {
     "base_uri": "https://localhost:8080/",
     "height": 1000
    },
    "colab_type": "code",
    "id": "c8Tnmh0FVWKV",
    "outputId": "904b600f-e4a1-4565-da2e-50b0348d9d5b"
   },
   "outputs": [
    {
     "name": "stdout",
     "output_type": "stream",
     "text": [
      "Train on 2929 samples, validate on 733 samples\n",
      "Epoch 1/50\n",
      "2929/2929 [==============================] - 0s 72us/step - loss: 2.1613 - mean_squared_error: 2.1613 - val_loss: 1.7903 - val_mean_squared_error: 1.7903\n",
      "Epoch 2/50\n",
      "2929/2929 [==============================] - 0s 62us/step - loss: 1.5696 - mean_squared_error: 1.5696 - val_loss: 1.3935 - val_mean_squared_error: 1.3935\n",
      "Epoch 3/50\n",
      "2929/2929 [==============================] - 0s 58us/step - loss: 1.2575 - mean_squared_error: 1.2575 - val_loss: 1.1798 - val_mean_squared_error: 1.1798\n",
      "Epoch 4/50\n",
      "2929/2929 [==============================] - 0s 58us/step - loss: 1.0864 - mean_squared_error: 1.0864 - val_loss: 1.0614 - val_mean_squared_error: 1.0614\n",
      "Epoch 5/50\n",
      "2929/2929 [==============================] - 0s 62us/step - loss: 0.9895 - mean_squared_error: 0.9895 - val_loss: 0.9911 - val_mean_squared_error: 0.9911\n",
      "Epoch 6/50\n",
      "2929/2929 [==============================] - 0s 60us/step - loss: 0.9303 - mean_squared_error: 0.9303 - val_loss: 0.9470 - val_mean_squared_error: 0.9470\n",
      "Epoch 7/50\n",
      "2929/2929 [==============================] - 0s 56us/step - loss: 0.8920 - mean_squared_error: 0.8920 - val_loss: 0.9165 - val_mean_squared_error: 0.9165\n",
      "Epoch 8/50\n",
      "2929/2929 [==============================] - 0s 58us/step - loss: 0.8649 - mean_squared_error: 0.8649 - val_loss: 0.8937 - val_mean_squared_error: 0.8937\n",
      "Epoch 9/50\n",
      "2929/2929 [==============================] - 0s 59us/step - loss: 0.8444 - mean_squared_error: 0.8444 - val_loss: 0.8757 - val_mean_squared_error: 0.8757\n",
      "Epoch 10/50\n",
      "2929/2929 [==============================] - 0s 57us/step - loss: 0.8280 - mean_squared_error: 0.8280 - val_loss: 0.8605 - val_mean_squared_error: 0.8605\n",
      "Epoch 11/50\n",
      "2929/2929 [==============================] - 0s 59us/step - loss: 0.8142 - mean_squared_error: 0.8142 - val_loss: 0.8477 - val_mean_squared_error: 0.8477\n",
      "Epoch 12/50\n",
      "2929/2929 [==============================] - 0s 64us/step - loss: 0.8027 - mean_squared_error: 0.8027 - val_loss: 0.8365 - val_mean_squared_error: 0.8365\n",
      "Epoch 13/50\n",
      "2929/2929 [==============================] - 0s 57us/step - loss: 0.7927 - mean_squared_error: 0.7927 - val_loss: 0.8266 - val_mean_squared_error: 0.8266\n",
      "Epoch 14/50\n",
      "2929/2929 [==============================] - 0s 59us/step - loss: 0.7839 - mean_squared_error: 0.7839 - val_loss: 0.8178 - val_mean_squared_error: 0.8178\n",
      "Epoch 15/50\n",
      "2929/2929 [==============================] - 0s 57us/step - loss: 0.7762 - mean_squared_error: 0.7762 - val_loss: 0.8102 - val_mean_squared_error: 0.8102\n",
      "Epoch 16/50\n",
      "2929/2929 [==============================] - 0s 58us/step - loss: 0.7693 - mean_squared_error: 0.7693 - val_loss: 0.8033 - val_mean_squared_error: 0.8033\n",
      "Epoch 17/50\n",
      "2929/2929 [==============================] - 0s 60us/step - loss: 0.7632 - mean_squared_error: 0.7632 - val_loss: 0.7971 - val_mean_squared_error: 0.7971\n",
      "Epoch 18/50\n",
      "2929/2929 [==============================] - 0s 66us/step - loss: 0.7579 - mean_squared_error: 0.7579 - val_loss: 0.7917 - val_mean_squared_error: 0.7917\n",
      "Epoch 19/50\n",
      "2929/2929 [==============================] - 0s 59us/step - loss: 0.7532 - mean_squared_error: 0.7532 - val_loss: 0.7869 - val_mean_squared_error: 0.7869\n",
      "Epoch 20/50\n",
      "2929/2929 [==============================] - 0s 67us/step - loss: 0.7489 - mean_squared_error: 0.7489 - val_loss: 0.7826 - val_mean_squared_error: 0.7826\n",
      "Epoch 21/50\n",
      "2929/2929 [==============================] - 0s 58us/step - loss: 0.7452 - mean_squared_error: 0.7452 - val_loss: 0.7787 - val_mean_squared_error: 0.7787\n",
      "Epoch 22/50\n",
      "2929/2929 [==============================] - 0s 58us/step - loss: 0.7419 - mean_squared_error: 0.7419 - val_loss: 0.7753 - val_mean_squared_error: 0.7753\n",
      "Epoch 23/50\n",
      "2929/2929 [==============================] - 0s 60us/step - loss: 0.7389 - mean_squared_error: 0.7389 - val_loss: 0.7723 - val_mean_squared_error: 0.7723\n",
      "Epoch 24/50\n",
      "2929/2929 [==============================] - 0s 59us/step - loss: 0.7362 - mean_squared_error: 0.7362 - val_loss: 0.7695 - val_mean_squared_error: 0.7695\n",
      "Epoch 25/50\n",
      "2929/2929 [==============================] - 0s 57us/step - loss: 0.7338 - mean_squared_error: 0.7338 - val_loss: 0.7671 - val_mean_squared_error: 0.7671\n",
      "Epoch 26/50\n",
      "2929/2929 [==============================] - 0s 57us/step - loss: 0.7317 - mean_squared_error: 0.7317 - val_loss: 0.7648 - val_mean_squared_error: 0.7648\n",
      "Epoch 27/50\n",
      "2929/2929 [==============================] - 0s 57us/step - loss: 0.7298 - mean_squared_error: 0.7298 - val_loss: 0.7629 - val_mean_squared_error: 0.7629\n",
      "Epoch 28/50\n",
      "2929/2929 [==============================] - 0s 61us/step - loss: 0.7280 - mean_squared_error: 0.7280 - val_loss: 0.7612 - val_mean_squared_error: 0.7612\n",
      "Epoch 29/50\n",
      "2929/2929 [==============================] - 0s 60us/step - loss: 0.7265 - mean_squared_error: 0.7265 - val_loss: 0.7597 - val_mean_squared_error: 0.7597\n",
      "Epoch 30/50\n",
      "2929/2929 [==============================] - 0s 58us/step - loss: 0.7251 - mean_squared_error: 0.7251 - val_loss: 0.7583 - val_mean_squared_error: 0.7583\n",
      "Epoch 31/50\n",
      "2929/2929 [==============================] - 0s 57us/step - loss: 0.7239 - mean_squared_error: 0.7239 - val_loss: 0.7571 - val_mean_squared_error: 0.7571\n",
      "Epoch 32/50\n",
      "2929/2929 [==============================] - 0s 58us/step - loss: 0.7227 - mean_squared_error: 0.7227 - val_loss: 0.7560 - val_mean_squared_error: 0.7560\n",
      "Epoch 33/50\n",
      "2929/2929 [==============================] - 0s 58us/step - loss: 0.7217 - mean_squared_error: 0.7217 - val_loss: 0.7551 - val_mean_squared_error: 0.7551\n",
      "Epoch 34/50\n",
      "2929/2929 [==============================] - 0s 61us/step - loss: 0.7208 - mean_squared_error: 0.7208 - val_loss: 0.7543 - val_mean_squared_error: 0.7543\n",
      "Epoch 35/50\n",
      "2929/2929 [==============================] - 0s 64us/step - loss: 0.7200 - mean_squared_error: 0.7200 - val_loss: 0.7536 - val_mean_squared_error: 0.7536\n",
      "Epoch 36/50\n",
      "2929/2929 [==============================] - 0s 58us/step - loss: 0.7192 - mean_squared_error: 0.7192 - val_loss: 0.7529 - val_mean_squared_error: 0.7529\n",
      "Epoch 37/50\n",
      "2929/2929 [==============================] - 0s 59us/step - loss: 0.7185 - mean_squared_error: 0.7185 - val_loss: 0.7523 - val_mean_squared_error: 0.7523\n",
      "Epoch 38/50\n",
      "2929/2929 [==============================] - 0s 58us/step - loss: 0.7179 - mean_squared_error: 0.7179 - val_loss: 0.7518 - val_mean_squared_error: 0.7518\n",
      "Epoch 39/50\n",
      "2929/2929 [==============================] - 0s 62us/step - loss: 0.7173 - mean_squared_error: 0.7173 - val_loss: 0.7514 - val_mean_squared_error: 0.7514\n",
      "Epoch 40/50\n",
      "2929/2929 [==============================] - 0s 58us/step - loss: 0.7168 - mean_squared_error: 0.7168 - val_loss: 0.7509 - val_mean_squared_error: 0.7509\n",
      "Epoch 41/50\n",
      "2929/2929 [==============================] - 0s 60us/step - loss: 0.7163 - mean_squared_error: 0.7163 - val_loss: 0.7507 - val_mean_squared_error: 0.7507\n",
      "Epoch 42/50\n",
      "2929/2929 [==============================] - 0s 58us/step - loss: 0.7159 - mean_squared_error: 0.7159 - val_loss: 0.7504 - val_mean_squared_error: 0.7504\n",
      "Epoch 43/50\n",
      "2929/2929 [==============================] - 0s 57us/step - loss: 0.7155 - mean_squared_error: 0.7155 - val_loss: 0.7500 - val_mean_squared_error: 0.7500\n",
      "Epoch 44/50\n",
      "2929/2929 [==============================] - 0s 57us/step - loss: 0.7151 - mean_squared_error: 0.7151 - val_loss: 0.7499 - val_mean_squared_error: 0.7499\n",
      "Epoch 45/50\n",
      "2929/2929 [==============================] - 0s 59us/step - loss: 0.7148 - mean_squared_error: 0.7148 - val_loss: 0.7498 - val_mean_squared_error: 0.7498\n",
      "Epoch 46/50\n",
      "2929/2929 [==============================] - 0s 58us/step - loss: 0.7145 - mean_squared_error: 0.7145 - val_loss: 0.7497 - val_mean_squared_error: 0.7497\n",
      "Epoch 47/50\n",
      "2929/2929 [==============================] - 0s 60us/step - loss: 0.7142 - mean_squared_error: 0.7142 - val_loss: 0.7494 - val_mean_squared_error: 0.7494\n",
      "Epoch 48/50\n",
      "2929/2929 [==============================] - 0s 57us/step - loss: 0.7139 - mean_squared_error: 0.7139 - val_loss: 0.7493 - val_mean_squared_error: 0.7493\n",
      "Epoch 49/50\n",
      "2929/2929 [==============================] - 0s 61us/step - loss: 0.7137 - mean_squared_error: 0.7137 - val_loss: 0.7492 - val_mean_squared_error: 0.7492\n",
      "Epoch 50/50\n",
      "2929/2929 [==============================] - 0s 64us/step - loss: 0.7134 - mean_squared_error: 0.7134 - val_loss: 0.7491 - val_mean_squared_error: 0.7491\n"
     ]
    }
   ],
   "source": [
    "history = model_post.fit(X_train,np.array(df_train_train.diagnosis.values),\n",
    "                         batch_size=BATCH_SIZE,\n",
    "                         epochs=50,\n",
    "                         verbose=1,\n",
    "                         validation_data = (X_test,np.array(df_train_test.diagnosis.values)))\n",
    "\n",
    "model_post.save(\"model_post_training.h5\")\n",
    "f = open(\"history_post_training\",\"wb\")\n",
    "pickle.dump(history,f)\n",
    "f.close()"
   ]
  },
  {
   "cell_type": "code",
   "execution_count": 74,
   "metadata": {
    "colab": {
     "base_uri": "https://localhost:8080/",
     "height": 342
    },
    "colab_type": "code",
    "id": "FtrJDNeCVWMo",
    "outputId": "6dd9acb8-458d-44ea-b087-c48915338f21"
   },
   "outputs": [
    {
     "data": {
      "image/png": "[encoded data removed]",
      "text/plain": [
       "<Figure size 1800x360 with 1 Axes>"
      ]
     },
     "metadata": {
      "needs_background": "light",
      "tags": []
     },
     "output_type": "display_data"
    }
   ],
   "source": [
    "plt.figure(figsize=(25,5))\n",
    "plt.plot(history.history['loss'])\n",
    "plt.plot(history.history['val_loss'])\n",
    "plt.title('Linear Regression Model Loss - Post Training (50 epochs)')\n",
    "plt.ylabel('Loss (MSE)')\n",
    "plt.xlabel('Epoch')\n",
    "plt.legend(['Train', 'Validation'], loc='best')\n",
    "plt.xticks(range(1,51))\n",
    "plt.gca().ticklabel_format(axis='both', style='plain', useOffset=False)\n",
    "plt.show()"
   ]
  },
  {
   "cell_type": "markdown",
   "metadata": {
    "colab_type": "text",
    "id": "UnpWnUyW4nuA"
   },
   "source": [
    "### <font color='red'> 15.7 Evaluate Model performance (Test data)</font>"
   ]
  },
  {
   "cell_type": "code",
   "execution_count": 0,
   "metadata": {
    "colab": {},
    "colab_type": "code",
    "id": "Tb0PBdUbVWPJ"
   },
   "outputs": [],
   "source": [
    "# ref- https://github.com/dimitreOliveira/APTOS2019BlindnessDetection/blob/master/Model%20backlog/ResNet50/63%20-%20ResNet50%20-%20Regression%20-%20RGB%20scale.ipynb\n",
    "'''This Function does nearest integer rounding for regression output from the post training model'''\n",
    "\n",
    "def classify(x):\n",
    "    if x < 0.5:\n",
    "        return 0\n",
    "    elif x < 1.5:\n",
    "        return 1\n",
    "    elif x < 2.5:\n",
    "        return 2\n",
    "    elif x < 3.5:\n",
    "        return 3\n",
    "    return 4"
   ]
  },
  {
   "cell_type": "code",
   "execution_count": 76,
   "metadata": {
    "colab": {
     "base_uri": "https://localhost:8080/",
     "height": 34
    },
    "colab_type": "code",
    "id": "qySwX-6dVWRT",
    "outputId": "901fa894-e1b5-4e37-fece-ae2414fdf9e9"
   },
   "outputs": [
    {
     "name": "stdout",
     "output_type": "stream",
     "text": [
      "2929/2929 [==============================] - 0s 27us/step\n"
     ]
    }
   ],
   "source": [
    "train_labels = model_post.predict(X_train,batch_size=BATCH_SIZE,verbose = 1)\n",
    "train_labels = np.apply_along_axis(classify, 1, train_labels)"
   ]
  },
  {
   "cell_type": "code",
   "execution_count": 80,
   "metadata": {
    "colab": {
     "base_uri": "https://localhost:8080/",
     "height": 34
    },
    "colab_type": "code",
    "id": "JGVHhia6VWT2",
    "outputId": "41d1be1b-33b0-4346-a520-442ec3653e83"
   },
   "outputs": [
    {
     "name": "stdout",
     "output_type": "stream",
     "text": [
      "733/733 [==============================] - 0s 32us/step\n"
     ]
    }
   ],
   "source": [
    "test_labels = model_post.predict(X_test,batch_size=BATCH_SIZE,verbose = 1)\n",
    "test_labels = np.apply_along_axis(classify, 1, test_labels)"
   ]
  },
  {
   "cell_type": "code",
   "execution_count": 0,
   "metadata": {
    "colab": {},
    "colab_type": "code",
    "id": "iiQE5CcB4LSF"
   },
   "outputs": [],
   "source": [
    "# Plot Confusion Matrix..\n",
    "\n",
    "def plot_conf_matrix(true,pred,classes):\n",
    "    cf = confusion_matrix(true, pred)\n",
    "    \n",
    "    df_cm = pd.DataFrame(cf, range(len(classes)), range(len(classes)))\n",
    "    plt.figure(figsize=(8,5.5))\n",
    "    sns.set(font_scale=1.4)\n",
    "    sns.heatmap(df_cm, annot=True, annot_kws={\"size\": 16},xticklabels = classes ,yticklabels = classes,fmt='g')\n",
    "    #sns.heatmap(df_cm, annot=True, annot_kws={\"size\": 16})\n",
    "    plt.show()"
   ]
  },
  {
   "cell_type": "code",
   "execution_count": 83,
   "metadata": {
    "colab": {
     "base_uri": "https://localhost:8080/",
     "height": 485
    },
    "colab_type": "code",
    "id": "G-BTE9Cn4LVy",
    "outputId": "503e6077-479a-4840-fb31-ff4fa55f8da4"
   },
   "outputs": [
    {
     "data": {
      "image/png": "[encoded data removed]",
      "text/plain": [
       "<Figure size 576x396 with 2 Axes>"
      ]
     },
     "metadata": {
      "needs_background": "light",
      "tags": []
     },
     "output_type": "display_data"
    }
   ],
   "source": [
    "labels = ['0 - No DR', '1 - Mild', '2 - Moderate', '3 - Severe', '4 - Proliferative DR']\n",
    "plot_conf_matrix(list(df_train_test['diagnosis'].astype(int)),test_labels,labels)"
   ]
  },
  {
   "cell_type": "code",
   "execution_count": 84,
   "metadata": {
    "colab": {
     "base_uri": "https://localhost:8080/",
     "height": 436
    },
    "colab_type": "code",
    "id": "d70ssg2u4sZ2",
    "outputId": "636ea908-970c-43d8-e4fd-51bc0ff1c934"
   },
   "outputs": [
    {
     "data": {
      "image/png": "[encoded data removed]",
      "text/plain": [
       "<Figure size 1152x504 with 2 Axes>"
      ]
     },
     "metadata": {
      "tags": []
     },
     "output_type": "display_data"
    }
   ],
   "source": [
    "cnf_matrix = confusion_matrix(df_train_test['diagnosis'].astype('int'), test_labels)\n",
    "cnf_matrix_norm = cnf_matrix.astype('float') / cnf_matrix.sum(axis=1)[:, np.newaxis]\n",
    "df_cm = pd.DataFrame(cnf_matrix_norm, index=labels, columns=labels)\n",
    "plt.figure(figsize=(16, 7))\n",
    "sns.heatmap(df_cm, annot=True, fmt='.2f', cmap=\"Blues\")\n",
    "plt.show()"
   ]
  },
  {
   "cell_type": "code",
   "execution_count": 86,
   "metadata": {
    "colab": {
     "base_uri": "https://localhost:8080/",
     "height": 50
    },
    "colab_type": "code",
    "id": "l7c3uhJK432J",
    "outputId": "8919bd78-879f-41e5-db7c-5e292fcf503d"
   },
   "outputs": [
    {
     "name": "stdout",
     "output_type": "stream",
     "text": [
      "Train Cohen Kappa score: 0.715\n",
      "Train Accuracy score : 0.576\n"
     ]
    }
   ],
   "source": [
    "print(\"Train Cohen Kappa score: %.3f\" % cohen_kappa_score(train_labels, df_train_train['diagnosis'].astype('int'), weights='quadratic'))\n",
    "print(\"Train Accuracy score : %.3f\" % accuracy_score(df_train_train['diagnosis'].astype('int'),train_labels))"
   ]
  },
  {
   "cell_type": "code",
   "execution_count": 85,
   "metadata": {
    "colab": {
     "base_uri": "https://localhost:8080/",
     "height": 50
    },
    "colab_type": "code",
    "id": "KjckvWfv4sc-",
    "outputId": "bbab7e29-0a52-4938-c2d1-d65ec1fd915a"
   },
   "outputs": [
    {
     "name": "stdout",
     "output_type": "stream",
     "text": [
      "Test Cohen Kappa score: 0.704\n",
      "Test Accuracy score : 0.576\n"
     ]
    }
   ],
   "source": [
    "print(\"Test Cohen Kappa score: %.3f\" % cohen_kappa_score(test_labels, df_train_test['diagnosis'].astype('int'), weights='quadratic'))\n",
    "print(\"Test Accuracy score : %.3f\" % accuracy_score(df_train_test['diagnosis'].astype('int'),test_labels))"
   ]
  }
 ],
 "metadata": {
  "accelerator": "GPU",
  "colab": {
   "collapsed_sections": [],
   "name": "research_paper_implementation.ipynb",
   "provenance": []
  },
  "kernelspec": {
   "display_name": "Python 3",
   "language": "python",
   "name": "python3"
  },
  "language_info": {
   "codemirror_mode": {
    "name": "ipython",
    "version": 3
   },
   "file_extension": ".py",
   "mimetype": "text/x-python",
   "name": "python",
   "nbconvert_exporter": "python",
   "pygments_lexer": "ipython3",
   "version": "3.6.5"
  }
 },
 "nbformat": 4,
 "nbformat_minor": 1
}
